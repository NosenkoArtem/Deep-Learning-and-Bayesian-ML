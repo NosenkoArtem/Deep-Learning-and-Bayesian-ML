{
  "nbformat": 4,
  "nbformat_minor": 0,
  "metadata": {
    "colab": {
      "name": "homework_RVM.ipynb",
      "provenance": [],
      "collapsed_sections": [],
      "include_colab_link": true
    },
    "kernelspec": {
      "name": "python3",
      "display_name": "Python 3"
    }
  },
  "cells": [
    {
      "cell_type": "markdown",
      "metadata": {
        "id": "view-in-github",
        "colab_type": "text"
      },
      "source": [
        "<a href=\"https://colab.research.google.com/github/NosenkoArtem/Deep-Learning-and-Bayesian-ML/blob/main/hw_2.ipynb\" target=\"_parent\"><img src=\"https://colab.research.google.com/assets/colab-badge.svg\" alt=\"Open In Colab\"/></a>"
      ]
    },
    {
      "cell_type": "markdown",
      "metadata": {
        "id": "5g_FUXnU9Pjg"
      },
      "source": [
        "# **Support Vector Machine**\n",
        "In this notebook, let's try to implement the Bayesian Relevant Vector Machine. It will allow us to automatically select features and obtain estimates of uncertainty for forecasting in the model."
      ]
    },
    {
      "cell_type": "markdown",
      "metadata": {
        "id": "Jr-ExHQdZrjt"
      },
      "source": [
        "## Setup"
      ]
    },
    {
      "cell_type": "code",
      "metadata": {
        "id": "qW8YlDdO9Hnh"
      },
      "source": [
        "import numpy as np\n",
        "import matplotlib.pyplot as plt\n",
        "import pandas as pd\n",
        "import scipy\n",
        "%matplotlib inline"
      ],
      "execution_count": null,
      "outputs": []
    },
    {
      "cell_type": "code",
      "metadata": {
        "id": "XpdQF_0KfcKF"
      },
      "source": [
        "import torch\n",
        "from torchtext import data\n",
        "from torchtext import datasets"
      ],
      "execution_count": null,
      "outputs": []
    },
    {
      "cell_type": "code",
      "metadata": {
        "id": "-FN3pxUYCrwF"
      },
      "source": [
        "from sklearn import datasets\n",
        "from sklearn.model_selection import train_test_split\n",
        "from sklearn.metrics import mean_squared_error, r2_score\n",
        "from sklearn.preprocessing import PolynomialFeatures"
      ],
      "execution_count": null,
      "outputs": []
    },
    {
      "cell_type": "markdown",
      "metadata": {
        "id": "EQ33xykQZvil"
      },
      "source": [
        "## Data preparation"
      ]
    },
    {
      "cell_type": "code",
      "metadata": {
        "id": "BtSISLQurPA3"
      },
      "source": [
        "data = datasets.load_boston()"
      ],
      "execution_count": null,
      "outputs": []
    },
    {
      "cell_type": "code",
      "metadata": {
        "id": "4-NFY-OjZ4dz"
      },
      "source": [
        "points = data['data']\n",
        "values = data['target']"
      ],
      "execution_count": null,
      "outputs": []
    },
    {
      "cell_type": "code",
      "metadata": {
        "id": "SxvGYvBmrz37",
        "colab": {
          "base_uri": "https://localhost:8080/"
        },
        "outputId": "58848be6-76c8-4303-87c0-8f1125432cd4"
      },
      "source": [
        "expanded_points = PolynomialFeatures(degree=2).fit_transform(points)\n",
        "print(expanded_points.shape)"
      ],
      "execution_count": null,
      "outputs": [
        {
          "output_type": "stream",
          "text": [
            "(506, 105)\n"
          ],
          "name": "stdout"
        }
      ]
    },
    {
      "cell_type": "code",
      "metadata": {
        "id": "MO_6fszHCx2l",
        "colab": {
          "base_uri": "https://localhost:8080/"
        },
        "outputId": "17220198-42e5-4333-a0fc-2854ec98f249"
      },
      "source": [
        "training_points, test_points, training_values, test_values = train_test_split(expanded_points, values)\n",
        "training_values, test_values = training_values.reshape(-1, 1), test_values.reshape(-1, 1)\n",
        "print(np.shape(training_points), np.shape(test_points), \n",
        "      np.shape(training_values), np.shape(test_values))"
      ],
      "execution_count": null,
      "outputs": [
        {
          "output_type": "stream",
          "text": [
            "(379, 105) (127, 105) (379, 1) (127, 1)\n"
          ],
          "name": "stdout"
        }
      ]
    },
    {
      "cell_type": "markdown",
      "metadata": {
        "id": "5rDfRF4dJWEg"
      },
      "source": [
        "# **Regular Linear Regression**"
      ]
    },
    {
      "cell_type": "code",
      "metadata": {
        "id": "y8rAhdad9il0"
      },
      "source": [
        "class LinearRegression():\n",
        "  def __init__(self):\n",
        "    pass\n",
        "\n",
        "  def fit(self, points, values):\n",
        "    self.weights = np.linalg.solve(np.matmul(points.T, points), np.matmul(points.T, values))\n",
        "\n",
        "  def predict(self, points):\n",
        "    return np.matmul(points, self.weights)"
      ],
      "execution_count": null,
      "outputs": []
    },
    {
      "cell_type": "code",
      "metadata": {
        "id": "v0WC0zyWCoUe"
      },
      "source": [
        "linear_regression_model = LinearRegression()"
      ],
      "execution_count": null,
      "outputs": []
    },
    {
      "cell_type": "code",
      "metadata": {
        "id": "BNLlYOAtC0at"
      },
      "source": [
        "linear_regression_model.fit(training_points, training_values)"
      ],
      "execution_count": null,
      "outputs": []
    },
    {
      "cell_type": "code",
      "metadata": {
        "id": "DGpXGsHwC1SN"
      },
      "source": [
        "test_predictions = linear_regression_model.predict(test_points)"
      ],
      "execution_count": null,
      "outputs": []
    },
    {
      "cell_type": "code",
      "metadata": {
        "id": "BmuGD8JhES28",
        "colab": {
          "base_uri": "https://localhost:8080/",
          "height": 283
        },
        "outputId": "2d1cb715-58ee-4924-aeeb-55f71dcf3797"
      },
      "source": [
        "plt.plot(test_values, test_predictions, 'o')"
      ],
      "execution_count": null,
      "outputs": [
        {
          "output_type": "execute_result",
          "data": {
            "text/plain": [
              "[<matplotlib.lines.Line2D at 0x7f791ccec910>]"
            ]
          },
          "metadata": {
            "tags": []
          },
          "execution_count": 12
        },
        {
          "output_type": "display_data",
          "data": {
            "image/png": "[encoded data removed]",
            "text/plain": [
              "<Figure size 432x288 with 1 Axes>"
            ]
          },
          "metadata": {
            "tags": [],
            "needs_background": "light"
          }
        }
      ]
    },
    {
      "cell_type": "code",
      "metadata": {
        "id": "dFXh36IUEdiK",
        "colab": {
          "base_uri": "https://localhost:8080/"
        },
        "outputId": "362c6e89-3737-4f4a-a263-3d727cda26a1"
      },
      "source": [
        "r2_score(test_values, test_predictions)"
      ],
      "execution_count": null,
      "outputs": [
        {
          "output_type": "execute_result",
          "data": {
            "text/plain": [
              "0.6998430471628876"
            ]
          },
          "metadata": {
            "tags": []
          },
          "execution_count": 13
        }
      ]
    },
    {
      "cell_type": "markdown",
      "metadata": {
        "id": "l4_ILdUMJkG2"
      },
      "source": [
        "## L-2 regularized Linear Regression\n",
        "\n",
        "$\\hat{w} = \\beta A^{-1} X^T y$\n",
        "\n",
        "$A = \\alpha I + \\beta X^T X$"
      ]
    },
    {
      "cell_type": "code",
      "metadata": {
        "id": "s0mDMbgQEivS"
      },
      "source": [
        "class LinearRegressionL2():\n",
        "  def __init__(self, beta=1, alpha=0):\n",
        "    self.alpha = alpha\n",
        "    self.beta = beta\n",
        "\n",
        "  def fit(self, points, values):\n",
        "    self.input_dimension = points.shape[1]\n",
        "    regularization_matrix = self.alpha * np.eye(self.input_dimension)\n",
        "    self.weights = self.beta * np.linalg.solve(self.beta * np.dot(points.T, points) + regularization_matrix, \n",
        "                                   np.dot(points.T, values))\n",
        "\n",
        "  def predict(self, points):\n",
        "    return np.dot(points, self.weights)"
      ],
      "execution_count": null,
      "outputs": []
    },
    {
      "cell_type": "code",
      "metadata": {
        "id": "spwvN2IgKGVk"
      },
      "source": [
        "linear_regression_l2_model = LinearRegressionL2(beta=1, alpha=1e-1)"
      ],
      "execution_count": null,
      "outputs": []
    },
    {
      "cell_type": "code",
      "metadata": {
        "id": "Wi4cJpoDKJvc"
      },
      "source": [
        "linear_regression_l2_model.fit(training_points, training_values)"
      ],
      "execution_count": null,
      "outputs": []
    },
    {
      "cell_type": "code",
      "metadata": {
        "id": "aM7uL7yvKLxO"
      },
      "source": [
        "test_predictions = linear_regression_l2_model.predict(test_points)"
      ],
      "execution_count": null,
      "outputs": []
    },
    {
      "cell_type": "code",
      "metadata": {
        "id": "Sf5rZ6GJKNq0",
        "colab": {
          "base_uri": "https://localhost:8080/",
          "height": 280
        },
        "outputId": "59bc34bd-4581-4957-c151-439b48b98e64"
      },
      "source": [
        "plt.plot(test_values, test_predictions, 'o')"
      ],
      "execution_count": null,
      "outputs": [
        {
          "output_type": "execute_result",
          "data": {
            "text/plain": [
              "[<matplotlib.lines.Line2D at 0x7f791c7e27d0>]"
            ]
          },
          "metadata": {
            "tags": []
          },
          "execution_count": 18
        },
        {
          "output_type": "display_data",
          "data": {
            "image/png": "[encoded data removed]",
            "text/plain": [
              "<Figure size 432x288 with 1 Axes>"
            ]
          },
          "metadata": {
            "tags": [],
            "needs_background": "light"
          }
        }
      ]
    },
    {
      "cell_type": "code",
      "metadata": {
        "id": "OD76hs4XKPC9",
        "colab": {
          "base_uri": "https://localhost:8080/"
        },
        "outputId": "2e322af4-2e75-41ab-9016-f91b7ab595c0"
      },
      "source": [
        "r2_score(test_values, test_predictions)"
      ],
      "execution_count": null,
      "outputs": [
        {
          "output_type": "execute_result",
          "data": {
            "text/plain": [
              "0.8186352646212114"
            ]
          },
          "metadata": {
            "tags": []
          },
          "execution_count": 19
        }
      ]
    },
    {
      "cell_type": "markdown",
      "metadata": {
        "id": "zQIzO7-3yQ5M"
      },
      "source": [
        "## **Regularization parameteres choice**"
      ]
    },
    {
      "cell_type": "code",
      "metadata": {
        "id": "ClHm7kDtKUgE"
      },
      "source": [
        "alpha_number = 100\n",
        "alpha_grid = np.linspace(-20, 10, alpha_number)\n",
        "alpha_grid = np.exp(alpha_grid)"
      ],
      "execution_count": null,
      "outputs": []
    },
    {
      "cell_type": "code",
      "metadata": {
        "id": "rA3vuAMLK5aB"
      },
      "source": [
        "r2_values = np.zeros_like(alpha_grid)\n",
        "for index, alpha in enumerate(alpha_grid):\n",
        "  linear_regression_l2_model = LinearRegressionL2(alpha=alpha)\n",
        "  linear_regression_l2_model.fit(training_points, training_values)\n",
        "  test_predictions = linear_regression_l2_model.predict(test_points)\n",
        "  r2_values[index] = r2_score(test_values, test_predictions)"
      ],
      "execution_count": null,
      "outputs": []
    },
    {
      "cell_type": "code",
      "metadata": {
        "id": "wMrPcYBDN5_x",
        "colab": {
          "base_uri": "https://localhost:8080/",
          "height": 268
        },
        "outputId": "261a8151-8f8a-448a-e5d2-f3061c3fec1a"
      },
      "source": [
        "plt.semilogx(alpha_grid, r2_values);"
      ],
      "execution_count": null,
      "outputs": [
        {
          "output_type": "display_data",
          "data": {
            "image/png": "[encoded data removed]",
            "text/plain": [
              "<Figure size 432x288 with 1 Axes>"
            ]
          },
          "metadata": {
            "tags": [],
            "needs_background": "light"
          }
        }
      ]
    },
    {
      "cell_type": "markdown",
      "metadata": {
        "id": "IFTpkJFoy2S5"
      },
      "source": [
        "## **Bayesian approach to the choice of regularization parameters**\n",
        "\n",
        "Let's try to implement a relevant vector machine.\n",
        "* $ w $ estimate at each iteration coincides with the values from the previous iteration\n",
        "* to recalculate $ \\ alpha $ and $ \\ beta $ we will use iterative formulas for recalculating\n",
        "\n",
        "$$\n",
        "  A = \\alpha I + \\beta X^T X,\n",
        "$$\n",
        "$\\lambda_i$ - eigenvalues $\\beta X^T X$. \n",
        "\n",
        "\n",
        "$$\n",
        "w = \\beta A^{-1} X^T y\n",
        "$$\n",
        "\n",
        "$$\n",
        "\\gamma = \\sum_{i = 1}^d \\frac{\\lambda_i}{\\lambda_i + \\alpha}\n",
        "$$\n",
        "\n",
        "$$\n",
        "\\alpha = \\frac{\\gamma}{w^T w}\n",
        "$$\n",
        "\n",
        "$$\n",
        "\\frac{1}{\\beta} = \\frac{1}{n - \\gamma} \\sum_{i = 1}^n (y_i - \\hat{y}_i).\n",
        "$$"
      ]
    },
    {
      "cell_type": "code",
      "metadata": {
        "id": "54l4glY7N_Bt"
      },
      "source": [
        "class BayesianLinearRegression():\n",
        "  def __init__(self, beta=1, alpha=0):\n",
        "    self.alpha = alpha\n",
        "    self.beta = beta\n",
        "\n",
        "  def fit(self, points, values, iteration_number=30):\n",
        "    sample_size = points.shape[0]\n",
        "    self.input_dimension = points.shape[1]\n",
        "    alpha_history = []\n",
        "    beta_history = []\n",
        "    for iteration_index in range(iteration_number):\n",
        "      regularization_matrix = self.alpha * np.eye(self.input_dimension)\n",
        "      covariance_matrix = self.beta * np.dot(points.T, points)\n",
        "      self.weights = self.beta * np.linalg.solve(regularization_matrix + \n",
        "                                                 covariance_matrix, \n",
        "                                          np.dot(points.T, values))\n",
        "      lambda_vector, _ = np.linalg.eig(covariance_matrix)\n",
        "      # print(lambda_vector)\n",
        "      gamma = np.sum(lambda_vector / (lambda_vector + self.alpha))\n",
        "      self.alpha = gamma / np.sum(self.weights * self.weights)\n",
        "      self.beta = (1 / (sample_size - gamma) * \n",
        "                   np.sum((values - np.dot(points, self.weights))**2))\n",
        "      self.beta = 1 / self.beta\n",
        "      alpha_history.append(self.alpha)\n",
        "      beta_history.append(self.beta)\n",
        "    return alpha_history, beta_history\n",
        "\n",
        "  def predict(self, points):\n",
        "    return np.dot(points, self.weights)"
      ],
      "execution_count": null,
      "outputs": []
    },
    {
      "cell_type": "code",
      "metadata": {
        "id": "52v78y-T1YFy"
      },
      "source": [
        "bayesian_linear_regression_model = BayesianLinearRegression(beta=1, alpha=1e-1)"
      ],
      "execution_count": null,
      "outputs": []
    },
    {
      "cell_type": "code",
      "metadata": {
        "id": "qNxBfWuz1Z17"
      },
      "source": [
        "alpha_history, beta_history = bayesian_linear_regression_model.fit(training_points, training_values)"
      ],
      "execution_count": null,
      "outputs": []
    },
    {
      "cell_type": "code",
      "metadata": {
        "id": "SN-Zqgas1cIb"
      },
      "source": [
        "test_predictions = bayesian_linear_regression_model.predict(test_points)"
      ],
      "execution_count": null,
      "outputs": []
    },
    {
      "cell_type": "code",
      "metadata": {
        "id": "Vlt1eAf45355",
        "colab": {
          "base_uri": "https://localhost:8080/"
        },
        "outputId": "d668525d-5892-4a25-8d6d-8882dd286986"
      },
      "source": [
        "r2_score(test_values, test_predictions)"
      ],
      "execution_count": null,
      "outputs": [
        {
          "output_type": "execute_result",
          "data": {
            "text/plain": [
              "0.7739248182778893"
            ]
          },
          "metadata": {
            "tags": []
          },
          "execution_count": 27
        }
      ]
    },
    {
      "cell_type": "code",
      "metadata": {
        "id": "6X42KRIk6bsG",
        "colab": {
          "base_uri": "https://localhost:8080/",
          "height": 280
        },
        "outputId": "6d05ef76-03c9-4ddf-f957-112a3cea5521"
      },
      "source": [
        "plt.plot(beta_history)"
      ],
      "execution_count": null,
      "outputs": [
        {
          "output_type": "execute_result",
          "data": {
            "text/plain": [
              "[<matplotlib.lines.Line2D at 0x7f791c5b5f50>]"
            ]
          },
          "metadata": {
            "tags": []
          },
          "execution_count": 28
        },
        {
          "output_type": "display_data",
          "data": {
            "image/png": "[encoded data removed]",
            "text/plain": [
              "<Figure size 432x288 with 1 Axes>"
            ]
          },
          "metadata": {
            "tags": [],
            "needs_background": "light"
          }
        }
      ]
    },
    {
      "cell_type": "markdown",
      "metadata": {
        "id": "oiyvpeQmK7wz"
      },
      "source": [
        "## Task 1:\n",
        "\n",
        "* Implement a support vector machine for estimating linear regression and sparsification parameters.\n",
        "* It follows from the theory that the implemented solution should nullify some of the parameters. Check if this is really the case.\n",
        "\n",
        "To reevaluate the $\\alpha_i$ and $\\beta $ parameters, use the following formulas: \n",
        "\n",
        "$\\alpha_i^{new} = \\frac{\\gamma_i}{([w_m]_i)^2}$, \n",
        "\n",
        "$(\\beta_i^{new})^{-1} = \\frac{||Y_m-Φw_m^T||^2}{m-\\sum_i\\gamma_i}$, where\n",
        "\n",
        "$[w_m]_i$ is the i-th component of the posterior mean\n",
        "\n",
        "$w_m=βS_mΦ^TY_m$,\n",
        "\n",
        "$S_m=(α+βΦ^TΦ)^{-1}$.\n",
        "\n",
        "The parameter $γ_i$ measures how well the corresponding parameter $w_i$ is determined by the data and is defined by\n",
        "\n",
        "$γ_i = 1−α_i[S_m]_{ii}$.\n",
        "\n"
      ]
    },
    {
      "cell_type": "code",
      "metadata": {
        "id": "hL7qgGoK0LKk"
      },
      "source": [
        "class BayesianLinearRegression_spars():\n",
        "  def __init__(self, beta=1, alpha=0):\n",
        "    self.alpha = alpha\n",
        "    self.beta = beta\n",
        "\n",
        "  def fit(self, points, values, iteration_number=30):\n",
        "    sample_size = points.shape[0]\n",
        "    self.input_dimension = points.shape[1]\n",
        "    self.alpha = np.full_like(np.arange(self.input_dimension), self.alpha).reshape(-1,1)\n",
        "    alpha_history = []\n",
        "    beta_history = []\n",
        "    for iteration_index in range(iteration_number):\n",
        "      regularization_matrix = self.alpha * np.eye(self.input_dimension)\n",
        "      \n",
        "      #YOUR CODE HERE\n",
        "      covariance_matrix = ... #βΦ^𝑇Φ\n",
        "\n",
        "      self.weights = self.beta * np.linalg.solve(regularization_matrix + covariance_matrix, \n",
        "                                                 np.dot(points.T, values))\n",
        "      \n",
        "      #YOUR CODE HERE\n",
        "      gamma = ...\n",
        "      \n",
        "      self.alpha =  ... #update alpha\n",
        "\n",
        "      # replace very big alpha \n",
        "      inf_ind = np.where(self.alpha > 10**5)[0]\n",
        "      self.alpha[inf_ind] = 10**5\n",
        "\n",
        "      self.beta = ((1 / (sample_size -  np.sum(gamma))) * \n",
        "                   np.linalg.norm(values - np.dot(points, self.weights),2)**2)\n",
        "      self.beta = 1 / self.beta\n",
        "      \n",
        "      alpha_history.append(self.alpha)\n",
        "      beta_history.append(self.beta)\n",
        "      if (iteration_index == 0 or iteration_index == (iteration_number - 1)):\n",
        "        print('regularization_matrix')\n",
        "        print(regularization_matrix)\n",
        "        print('covariance_matrix')\n",
        "        print(covariance_matrix)\n",
        "        print('weights')\n",
        "        print(self.weights)        \n",
        "        print('gamma')\n",
        "        print(gamma)\n",
        "        print('alpha')\n",
        "        print(self.alpha)\n",
        "        print('beta')\n",
        "        print(self.beta)\n",
        "        print('')\n",
        "        print()\n",
        "        print('')\n",
        "        print()\n",
        "    return alpha_history, beta_history\n",
        "\n",
        "  def predict(self, points):\n",
        "    return np.dot(points, self.weights)\n",
        "\n",
        "  def weights():\n",
        "    return self.weights"
      ],
      "execution_count": null,
      "outputs": []
    },
    {
      "cell_type": "code",
      "metadata": {
        "id": "5TsEb97t3iOB"
      },
      "source": [
        "bayesian_linear_regression_model = BayesianLinearRegression_spars(beta=0.5, alpha=1)"
      ],
      "execution_count": null,
      "outputs": []
    },
    {
      "cell_type": "code",
      "metadata": {
        "id": "NwQ771sj3ifD",
        "colab": {
          "base_uri": "https://localhost:8080/"
        },
        "outputId": "2db46e72-8291-4922-e5ea-b93d22d5e532"
      },
      "source": [
        "alpha_history, beta_history = bayesian_linear_regression_model.fit(training_points, training_values, iteration_number=1000)"
      ],
      "execution_count": null,
      "outputs": [
        {
          "output_type": "stream",
          "text": [
            "regularization_matrix\n",
            "[[1. 0. 0. ... 0. 0. 0.]\n",
            " [0. 1. 0. ... 0. 0. 0.]\n",
            " [0. 0. 1. ... 0. 0. 0.]\n",
            " ...\n",
            " [0. 0. 0. ... 1. 0. 0.]\n",
            " [0. 0. 0. ... 0. 1. 0.]\n",
            " [0. 0. 0. ... 0. 0. 1.]]\n",
            "covariance_matrix\n",
            "[[1.89500000e+02 7.18845330e+02 2.34700000e+03 ... 2.58275733e+07\n",
            "  8.17445257e+05 3.97231595e+04]\n",
            " [7.18845330e+02 1.91703009e+04 1.73102600e+02 ... 7.01719286e+07\n",
            "  3.89412281e+06 3.33903365e+05]\n",
            " [2.34700000e+03 1.73102600e+02 1.44376750e+05 ... 3.55948696e+08\n",
            "  5.91455704e+06 1.24093093e+05]\n",
            " ...\n",
            " [2.58275733e+07 7.01719286e+07 3.55948696e+08 ... 3.84475508e+12\n",
            "  1.17199539e+11 4.76203383e+09]\n",
            " [8.17445257e+05 3.89412281e+06 5.91455704e+06 ... 1.17199539e+11\n",
            "  4.76203383e+09 2.46803701e+08]\n",
            " [3.97231595e+04 3.33903365e+05 1.24093093e+05 ... 4.76203383e+09\n",
            "  2.46803701e+08 1.79456609e+07]]\n",
            "weights\n",
            "[[-6.40745891e-02]\n",
            " [-1.25278132e-01]\n",
            " [-3.30434900e-01]\n",
            " [-6.69416515e-01]\n",
            " [-6.45193466e-02]\n",
            " [ 7.38212446e-03]\n",
            " [ 1.22513654e+00]\n",
            " [ 6.69312927e-01]\n",
            " [-3.47547727e-01]\n",
            " [ 1.30212636e+00]\n",
            " [-1.37197532e-01]\n",
            " [-1.62706288e+00]\n",
            " [ 1.28367915e-01]\n",
            " [-1.10166264e-01]\n",
            " [ 2.53528459e-03]\n",
            " [ 1.74926945e-01]\n",
            " [ 2.86838231e-01]\n",
            " [ 2.24916729e+00]\n",
            " [-6.62387510e-01]\n",
            " [ 6.83629973e-02]\n",
            " [-4.73808420e-03]\n",
            " [-1.27012317e-02]\n",
            " [ 1.51387748e-01]\n",
            " [-1.68300763e-02]\n",
            " [ 1.17853658e-01]\n",
            " [-2.94855448e-04]\n",
            " [ 1.90144502e-02]\n",
            " [-5.52603569e-05]\n",
            " [ 1.80412939e-04]\n",
            " [-5.97901130e-02]\n",
            " [-3.18016563e-01]\n",
            " [ 2.59183700e-02]\n",
            " [-2.92296232e-04]\n",
            " [ 7.86572267e-04]\n",
            " [-9.22448258e-03]\n",
            " [ 3.26604659e-04]\n",
            " [ 2.02251353e-03]\n",
            " [ 5.90105349e-04]\n",
            " [-5.35072461e-03]\n",
            " [ 3.28319075e-02]\n",
            " [-4.69125857e-02]\n",
            " [ 6.82253863e-01]\n",
            " [ 8.58515771e-02]\n",
            " [ 5.28646954e-03]\n",
            " [ 9.98197495e-02]\n",
            " [-7.89523567e-03]\n",
            " [ 5.03495408e-04]\n",
            " [-4.91124911e-02]\n",
            " [-1.90673850e-03]\n",
            " [-1.90035914e-02]\n",
            " [-6.45193466e-02]\n",
            " [-1.07435082e+00]\n",
            " [-1.90522372e+00]\n",
            " [ 3.10193099e-02]\n",
            " [-6.27809791e-02]\n",
            " [-2.96079383e-01]\n",
            " [-1.49317377e-02]\n",
            " [ 1.17574611e+00]\n",
            " [ 8.30775592e-03]\n",
            " [-4.31499767e-01]\n",
            " [-8.37296021e-02]\n",
            " [ 1.24657993e+00]\n",
            " [-1.68887499e-01]\n",
            " [ 1.65292302e+00]\n",
            " [-3.26014564e-01]\n",
            " [-3.60735547e-02]\n",
            " [-5.55880540e-01]\n",
            " [ 5.70532425e-03]\n",
            " [ 3.72443037e-01]\n",
            " [ 1.22324023e+00]\n",
            " [-4.76813486e-02]\n",
            " [-1.84027439e-02]\n",
            " [-1.32927429e-01]\n",
            " [-6.95474748e-03]\n",
            " [-2.00283632e-01]\n",
            " [-4.10312170e-03]\n",
            " [-4.03337072e-02]\n",
            " [ 4.92648919e-04]\n",
            " [ 1.54334419e-02]\n",
            " [ 7.41122943e-03]\n",
            " [-1.97503402e-04]\n",
            " [-4.56587999e-03]\n",
            " [-8.11427935e-04]\n",
            " [-8.03351450e-03]\n",
            " [ 2.37954109e-01]\n",
            " [-8.18403269e-02]\n",
            " [-1.71330497e-03]\n",
            " [-7.81464523e-02]\n",
            " [-7.74029642e-03]\n",
            " [ 2.69549870e-02]\n",
            " [-1.66285836e-01]\n",
            " [ 7.88299097e-03]\n",
            " [ 5.92849160e-02]\n",
            " [-3.29203835e-03]\n",
            " [-3.74060874e-02]\n",
            " [-3.09940847e-05]\n",
            " [ 6.74739897e-03]\n",
            " [ 1.40544455e-04]\n",
            " [ 3.75179867e-04]\n",
            " [ 2.36908335e-02]\n",
            " [ 1.45805533e-03]\n",
            " [-3.76628698e-03]\n",
            " [-7.18998746e-05]\n",
            " [ 4.68029972e-04]\n",
            " [ 2.05102603e-02]]\n",
            "gamma\n",
            "[[0.00338337]\n",
            " [0.0479195 ]\n",
            " [0.95261012]\n",
            " [0.49716716]\n",
            " [0.01370135]\n",
            " [0.00221835]\n",
            " [0.14422778]\n",
            " [0.98042876]\n",
            " [0.18148458]\n",
            " [0.359751  ]\n",
            " [0.9973243 ]\n",
            " [0.41876941]\n",
            " [0.99908353]\n",
            " [0.78862662]\n",
            " [0.99999945]\n",
            " [0.98761238]\n",
            " [0.9021791 ]\n",
            " [0.91444168]\n",
            " [0.78148948]\n",
            " [0.9988266 ]\n",
            " [0.99999366]\n",
            " [0.99608724]\n",
            " [0.87688896]\n",
            " [0.99925659]\n",
            " [0.95602778]\n",
            " [0.99999999]\n",
            " [0.99998448]\n",
            " [0.9999999 ]\n",
            " [0.99999242]\n",
            " [0.99868108]\n",
            " [0.93805556]\n",
            " [0.99978836]\n",
            " [0.99999976]\n",
            " [0.99997177]\n",
            " [0.99998125]\n",
            " [0.99999999]\n",
            " [0.99998425]\n",
            " [0.99999984]\n",
            " [0.99999186]\n",
            " [0.99993724]\n",
            " [0.9545081 ]\n",
            " [0.64042571]\n",
            " [0.99461576]\n",
            " [0.99999551]\n",
            " [0.99841289]\n",
            " [0.99848234]\n",
            " [0.99999972]\n",
            " [0.99949151]\n",
            " [0.99999807]\n",
            " [0.99992504]\n",
            " [0.01370135]\n",
            " [0.03010165]\n",
            " [0.70345961]\n",
            " [0.99882456]\n",
            " [0.68456008]\n",
            " [0.90970914]\n",
            " [0.9996215 ]\n",
            " [0.94501796]\n",
            " [0.99993065]\n",
            " [0.99264467]\n",
            " [0.00343956]\n",
            " [0.20257342]\n",
            " [0.98510439]\n",
            " [0.20120589]\n",
            " [0.60535611]\n",
            " [0.99788902]\n",
            " [0.51039551]\n",
            " [0.99956298]\n",
            " [0.8861583 ]\n",
            " [0.98929748]\n",
            " [0.99985818]\n",
            " [0.97771128]\n",
            " [0.99410536]\n",
            " [0.99997355]\n",
            " [0.99174335]\n",
            " [0.99999629]\n",
            " [0.99888912]\n",
            " [0.99999992]\n",
            " [0.99996993]\n",
            " [0.99999326]\n",
            " [0.99999998]\n",
            " [0.99998602]\n",
            " [0.99999998]\n",
            " [0.9999968 ]\n",
            " [0.99753462]\n",
            " [0.99835477]\n",
            " [0.99999805]\n",
            " [0.99800538]\n",
            " [0.99999224]\n",
            " [0.99913153]\n",
            " [0.9992459 ]\n",
            " [0.99999704]\n",
            " [0.99824457]\n",
            " [0.99999782]\n",
            " [0.99991263]\n",
            " [1.        ]\n",
            " [0.99999778]\n",
            " [0.99999999]\n",
            " [0.99999964]\n",
            " [0.99927783]\n",
            " [0.99999742]\n",
            " [0.99976192]\n",
            " [1.        ]\n",
            " [0.99999993]\n",
            " [0.99998841]]\n",
            "alpha\n",
            "[[8.24096618e-01]\n",
            " [3.05324580e+00]\n",
            " [8.72455669e+00]\n",
            " [1.10945473e+00]\n",
            " [3.29142087e+00]\n",
            " [4.07069018e+01]\n",
            " [9.60903860e-02]\n",
            " [2.18855576e+00]\n",
            " [1.50248732e+00]\n",
            " [2.12175751e-01]\n",
            " [5.29838857e+01]\n",
            " [1.58185354e-01]\n",
            " [6.06301757e+01]\n",
            " [6.49791741e+01]\n",
            " [1.00000000e+05]\n",
            " [3.22755091e+01]\n",
            " [1.09652538e+01]\n",
            " [1.80764231e-01]\n",
            " [1.78114331e+00]\n",
            " [2.13721350e+02]\n",
            " [4.45442548e+04]\n",
            " [6.17455546e+03]\n",
            " [3.82616015e+01]\n",
            " [3.52780730e+03]\n",
            " [6.88310474e+01]\n",
            " [1.00000000e+05]\n",
            " [2.76583149e+03]\n",
            " [1.00000000e+05]\n",
            " [1.00000000e+05]\n",
            " [2.79362477e+02]\n",
            " [9.27532389e+00]\n",
            " [1.48830762e+03]\n",
            " [1.00000000e+05]\n",
            " [1.00000000e+05]\n",
            " [1.17518929e+04]\n",
            " [1.00000000e+05]\n",
            " [1.00000000e+05]\n",
            " [1.00000000e+05]\n",
            " [3.49278027e+04]\n",
            " [9.27642229e+02]\n",
            " [4.33711438e+02]\n",
            " [1.37586794e+00]\n",
            " [1.34945617e+02]\n",
            " [3.57821622e+04]\n",
            " [1.00202194e+02]\n",
            " [1.60180702e+04]\n",
            " [1.00000000e+05]\n",
            " [4.14376562e+02]\n",
            " [1.00000000e+05]\n",
            " [2.76882863e+03]\n",
            " [3.29142087e+00]\n",
            " [2.60794306e-02]\n",
            " [1.93797069e-01]\n",
            " [1.03806596e+03]\n",
            " [1.73682237e+02]\n",
            " [1.03773443e+01]\n",
            " [4.48347634e+03]\n",
            " [6.83617167e-01]\n",
            " [1.44877994e+04]\n",
            " [5.33129463e+00]\n",
            " [4.90620240e-01]\n",
            " [1.30359357e-01]\n",
            " [3.45372097e+01]\n",
            " [7.36436728e-02]\n",
            " [5.69556647e+00]\n",
            " [7.66839302e+02]\n",
            " [1.65174845e+00]\n",
            " [3.07078564e+04]\n",
            " [6.38839249e+00]\n",
            " [6.61155163e-01]\n",
            " [4.39785943e+02]\n",
            " [2.88699120e+03]\n",
            " [5.62604506e+01]\n",
            " [2.06740605e+04]\n",
            " [2.47234105e+01]\n",
            " [5.93976952e+04]\n",
            " [6.14017854e+02]\n",
            " [1.00000000e+05]\n",
            " [4.19818294e+03]\n",
            " [1.82060847e+04]\n",
            " [1.00000000e+05]\n",
            " [4.79672636e+04]\n",
            " [1.00000000e+05]\n",
            " [1.54948526e+04]\n",
            " [1.76173898e+01]\n",
            " [1.49056249e+02]\n",
            " [1.00000000e+05]\n",
            " [1.63423440e+02]\n",
            " [1.66909649e+04]\n",
            " [1.37513207e+03]\n",
            " [3.61378125e+01]\n",
            " [1.60922458e+04]\n",
            " [2.84019748e+02]\n",
            " [9.22718613e+04]\n",
            " [7.14623820e+02]\n",
            " [1.00000000e+05]\n",
            " [2.19647494e+04]\n",
            " [1.00000000e+05]\n",
            " [1.00000000e+05]\n",
            " [1.78043274e+03]\n",
            " [1.00000000e+05]\n",
            " [7.04806294e+04]\n",
            " [1.00000000e+05]\n",
            " [1.00000000e+05]\n",
            " [2.37712829e+03]]\n",
            "beta\n",
            "0.154305185668824\n",
            "\n",
            "\n",
            "\n",
            "\n",
            "regularization_matrix\n",
            "[[100000.              0.              0.         ...      0.\n",
            "       0.              0.        ]\n",
            " [     0.         100000.              0.         ...      0.\n",
            "       0.              0.        ]\n",
            " [     0.              0.         100000.         ...      0.\n",
            "       0.              0.        ]\n",
            " ...\n",
            " [     0.              0.              0.         ... 100000.\n",
            "       0.              0.        ]\n",
            " [     0.              0.              0.         ...      0.\n",
            "  100000.              0.        ]\n",
            " [     0.              0.              0.         ...      0.\n",
            "       0.           1746.61459878]]\n",
            "covariance_matrix\n",
            "[[6.28647130e+01 2.38469685e+02 7.78593569e+02 ... 8.56803683e+06\n",
            "  2.71179216e+05 1.31777574e+04]\n",
            " [2.38469685e+02 6.35955390e+03 5.74250409e+01 ... 2.32788293e+07\n",
            "  1.29183595e+06 1.10769072e+05]\n",
            " [7.78593569e+02 5.74250409e+01 4.78955301e+04 ... 1.18082388e+08\n",
            "  1.96209462e+06 4.11666314e+04]\n",
            " ...\n",
            " [8.56803683e+06 2.32788293e+07 1.18082388e+08 ... 1.27545870e+12\n",
            "  3.88797645e+10 1.57975667e+09]\n",
            " [2.71179216e+05 1.29183595e+06 1.96209462e+06 ... 3.88797645e+10\n",
            "  1.57975667e+09 8.18746375e+07]\n",
            " [1.31777574e+04 1.10769072e+05 4.11666314e+04 ... 1.57975667e+09\n",
            "  8.18746375e+07 5.95329193e+06]]\n",
            "weights\n",
            "[[-1.89948379e-07]\n",
            " [ 4.87788801e-06]\n",
            " [-4.63801323e-05]\n",
            " [ 3.96985471e-07]\n",
            " [ 1.06284817e+01]\n",
            " [-7.26194021e-07]\n",
            " [ 2.51868953e-06]\n",
            " [ 4.02842066e-01]\n",
            " [-2.34761946e+00]\n",
            " [ 1.56844807e-05]\n",
            " [ 1.16889393e-05]\n",
            " [-2.42367277e+00]\n",
            " [ 1.29736352e-01]\n",
            " [ 1.73758218e-05]\n",
            " [ 2.16495924e-03]\n",
            " [ 6.26089659e-05]\n",
            " [ 4.40310892e-03]\n",
            " [ 1.77342604e+00]\n",
            " [-1.10670433e-05]\n",
            " [ 5.17675782e-02]\n",
            " [-1.27859066e-03]\n",
            " [ 5.65216365e-06]\n",
            " [-3.80814141e-02]\n",
            " [ 2.17515058e-04]\n",
            " [ 2.02935876e-05]\n",
            " [-1.80358333e-04]\n",
            " [ 1.23679477e-02]\n",
            " [ 4.23086274e-04]\n",
            " [ 2.87225926e-04]\n",
            " [-1.94529271e-04]\n",
            " [-1.43561137e-05]\n",
            " [ 5.87650200e-04]\n",
            " [-3.80275155e-04]\n",
            " [-1.76305870e-03]\n",
            " [-1.00114753e-02]\n",
            " [ 2.75186588e-04]\n",
            " [-1.25825722e-04]\n",
            " [-1.00091191e-04]\n",
            " [-2.68074917e-03]\n",
            " [ 2.14990813e-02]\n",
            " [ 6.93059057e-01]\n",
            " [-8.64378035e-06]\n",
            " [ 1.74566601e-05]\n",
            " [ 1.94622847e-03]\n",
            " [ 1.22381320e-04]\n",
            " [ 1.25161137e-04]\n",
            " [ 4.56959667e-04]\n",
            " [-3.70964884e-02]\n",
            " [-4.45618511e-05]\n",
            " [-1.14955243e-02]\n",
            " [ 1.06284817e+01]\n",
            " [-4.56927402e+01]\n",
            " [-2.75300117e-01]\n",
            " [ 1.03918415e-04]\n",
            " [-4.72096069e-01]\n",
            " [-1.68943342e-05]\n",
            " [ 1.90040246e-04]\n",
            " [ 5.64310785e-06]\n",
            " [-6.43136985e-04]\n",
            " [-4.83758913e-05]\n",
            " [-1.42743577e-06]\n",
            " [-1.70463672e-06]\n",
            " [-1.21437466e-04]\n",
            " [ 3.78100614e-06]\n",
            " [-1.10118024e+00]\n",
            " [-4.94372603e-04]\n",
            " [-1.85767734e-05]\n",
            " [-1.61385477e-04]\n",
            " [-9.71049409e-06]\n",
            " [ 1.19017693e+00]\n",
            " [-3.88250974e-02]\n",
            " [-4.70649095e-05]\n",
            " [ 2.02274219e-05]\n",
            " [-1.43877507e-02]\n",
            " [-2.71415023e-02]\n",
            " [-1.46000937e-03]\n",
            " [ 2.28243759e-05]\n",
            " [ 1.01415326e-04]\n",
            " [ 1.55284700e-02]\n",
            " [ 4.54986758e-03]\n",
            " [ 6.59815844e-06]\n",
            " [-1.17934256e-03]\n",
            " [-6.28617420e-04]\n",
            " [-6.63908836e-03]\n",
            " [ 1.42058222e-01]\n",
            " [-1.27702815e-04]\n",
            " [-9.12363186e-04]\n",
            " [-2.92573971e-05]\n",
            " [-1.29380910e-03]\n",
            " [ 4.08104258e-04]\n",
            " [-1.16372339e-01]\n",
            " [ 5.54342566e-03]\n",
            " [ 7.66393925e-03]\n",
            " [ 3.07644341e-04]\n",
            " [-5.45377223e-04]\n",
            " [-2.43345705e-05]\n",
            " [ 6.62462683e-03]\n",
            " [-9.83759433e-05]\n",
            " [-1.67539072e-03]\n",
            " [ 2.59987507e-04]\n",
            " [ 9.61257682e-04]\n",
            " [ 3.44897083e-04]\n",
            " [-7.33109899e-05]\n",
            " [ 7.02636331e-04]\n",
            " [ 2.36260194e-02]]\n",
            "gamma\n",
            "[[5.23886571e-08]\n",
            " [9.26700560e-06]\n",
            " [2.44928248e-04]\n",
            " [5.04767586e-05]\n",
            " [4.69838285e-01]\n",
            " [3.91960917e-07]\n",
            " [1.40759547e-06]\n",
            " [9.32379421e-01]\n",
            " [8.02649865e-01]\n",
            " [2.87692126e-05]\n",
            " [9.89062037e-03]\n",
            " [9.39283098e-01]\n",
            " [9.66947578e-01]\n",
            " [1.61566568e-04]\n",
            " [9.07925709e-01]\n",
            " [9.40151335e-04]\n",
            " [6.93458083e-02]\n",
            " [9.72926937e-01]\n",
            " [2.12771785e-05]\n",
            " [6.88455758e-01]\n",
            " [4.83968839e-01]\n",
            " [1.64261449e-03]\n",
            " [5.43276312e-01]\n",
            " [7.81253631e-01]\n",
            " [2.71483908e-03]\n",
            " [9.98435649e-01]\n",
            " [8.83836794e-01]\n",
            " [9.88906951e-01]\n",
            " [3.75704392e-01]\n",
            " [7.94896326e-03]\n",
            " [1.59696478e-04]\n",
            " [5.81796504e-02]\n",
            " [9.66250925e-01]\n",
            " [2.51462395e-01]\n",
            " [8.33537094e-01]\n",
            " [9.98490560e-01]\n",
            " [3.87280673e-01]\n",
            " [9.96467166e-01]\n",
            " [6.23486593e-01]\n",
            " [8.73738588e-01]\n",
            " [9.32475815e-01]\n",
            " [1.18713973e-04]\n",
            " [3.16882033e-03]\n",
            " [6.19837906e-01]\n",
            " [5.60842287e-03]\n",
            " [5.18947666e-03]\n",
            " [9.75772736e-01]\n",
            " [8.35113480e-01]\n",
            " [9.44939028e-01]\n",
            " [7.24797812e-01]\n",
            " [4.69838285e-01]\n",
            " [9.77298900e-01]\n",
            " [3.10908791e-01]\n",
            " [7.74441649e-03]\n",
            " [4.08117393e-01]\n",
            " [5.63246802e-04]\n",
            " [1.23804880e-01]\n",
            " [8.75318173e-05]\n",
            " [7.39718686e-02]\n",
            " [1.11833395e-03]\n",
            " [6.41646112e-07]\n",
            " [1.52901130e-05]\n",
            " [2.90491535e-03]\n",
            " [5.59985135e-06]\n",
            " [9.61176291e-01]\n",
            " [3.98645248e-02]\n",
            " [8.98849564e-05]\n",
            " [6.13444820e-02]\n",
            " [1.67048377e-04]\n",
            " [9.94796040e-01]\n",
            " [9.31824974e-01]\n",
            " [4.08539347e-04]\n",
            " [2.36205568e-03]\n",
            " [9.84131731e-01]\n",
            " [2.57174703e-01]\n",
            " [5.32068681e-01]\n",
            " [1.37184744e-02]\n",
            " [9.85880511e-01]\n",
            " [8.80568948e-01]\n",
            " [7.59836174e-01]\n",
            " [9.97848662e-01]\n",
            " [4.21641512e-01]\n",
            " [9.96889559e-01]\n",
            " [9.09386826e-01]\n",
            " [9.03040369e-01]\n",
            " [6.30052057e-03]\n",
            " [8.20345850e-01]\n",
            " [4.43307366e-03]\n",
            " [4.94171302e-01]\n",
            " [1.88346620e-02]\n",
            " [9.28428635e-01]\n",
            " [9.23073785e-01]\n",
            " [2.38633145e-01]\n",
            " [9.36164099e-01]\n",
            " [9.91413406e-02]\n",
            " [9.99943517e-01]\n",
            " [9.61288632e-01]\n",
            " [9.99667058e-01]\n",
            " [9.89831595e-01]\n",
            " [1.27195223e-02]\n",
            " [8.56412264e-01]\n",
            " [8.36924436e-02]\n",
            " [9.99950876e-01]\n",
            " [9.90483728e-01]\n",
            " [9.74940696e-01]]\n",
            "alpha\n",
            "[[1.00000000e+05]\n",
            " [1.00000000e+05]\n",
            " [1.00000000e+05]\n",
            " [1.00000000e+05]\n",
            " [4.15916304e-03]\n",
            " [1.00000000e+05]\n",
            " [1.00000000e+05]\n",
            " [5.74543679e+00]\n",
            " [1.45636668e-01]\n",
            " [1.00000000e+05]\n",
            " [1.00000000e+05]\n",
            " [1.59900028e-01]\n",
            " [5.74486158e+01]\n",
            " [1.00000000e+05]\n",
            " [1.00000000e+05]\n",
            " [1.00000000e+05]\n",
            " [3.57685518e+03]\n",
            " [3.09352811e-01]\n",
            " [1.00000000e+05]\n",
            " [2.56897774e+02]\n",
            " [1.00000000e+05]\n",
            " [1.00000000e+05]\n",
            " [3.74623171e+02]\n",
            " [1.00000000e+05]\n",
            " [1.00000000e+05]\n",
            " [1.00000000e+05]\n",
            " [5.77799018e+03]\n",
            " [1.00000000e+05]\n",
            " [1.00000000e+05]\n",
            " [1.00000000e+05]\n",
            " [1.00000000e+05]\n",
            " [1.00000000e+05]\n",
            " [1.00000000e+05]\n",
            " [8.08983197e+04]\n",
            " [8.31627361e+03]\n",
            " [1.00000000e+05]\n",
            " [1.00000000e+05]\n",
            " [1.00000000e+05]\n",
            " [8.67590444e+04]\n",
            " [1.89034778e+03]\n",
            " [1.94131983e+00]\n",
            " [1.00000000e+05]\n",
            " [1.00000000e+05]\n",
            " [1.00000000e+05]\n",
            " [1.00000000e+05]\n",
            " [1.00000000e+05]\n",
            " [1.00000000e+05]\n",
            " [6.06847955e+02]\n",
            " [1.00000000e+05]\n",
            " [5.48478117e+03]\n",
            " [4.15916304e-03]\n",
            " [4.68093922e-04]\n",
            " [4.10223193e+00]\n",
            " [1.00000000e+05]\n",
            " [1.83115174e+00]\n",
            " [1.00000000e+05]\n",
            " [1.00000000e+05]\n",
            " [1.00000000e+05]\n",
            " [1.00000000e+05]\n",
            " [1.00000000e+05]\n",
            " [1.00000000e+05]\n",
            " [1.00000000e+05]\n",
            " [1.00000000e+05]\n",
            " [1.00000000e+05]\n",
            " [7.92658705e-01]\n",
            " [1.00000000e+05]\n",
            " [1.00000000e+05]\n",
            " [1.00000000e+05]\n",
            " [1.00000000e+05]\n",
            " [7.02281117e-01]\n",
            " [6.18171869e+02]\n",
            " [1.00000000e+05]\n",
            " [1.00000000e+05]\n",
            " [4.75409027e+03]\n",
            " [3.49108547e+02]\n",
            " [1.00000000e+05]\n",
            " [1.00000000e+05]\n",
            " [1.00000000e+05]\n",
            " [3.65179198e+03]\n",
            " [3.67047653e+04]\n",
            " [1.00000000e+05]\n",
            " [1.00000000e+05]\n",
            " [1.00000000e+05]\n",
            " [2.06315454e+04]\n",
            " [4.47480809e+01]\n",
            " [1.00000000e+05]\n",
            " [1.00000000e+05]\n",
            " [1.00000000e+05]\n",
            " [1.00000000e+05]\n",
            " [1.00000000e+05]\n",
            " [6.85565576e+01]\n",
            " [3.00386189e+04]\n",
            " [4.06281136e+03]\n",
            " [1.00000000e+05]\n",
            " [1.00000000e+05]\n",
            " [1.00000000e+05]\n",
            " [2.19043801e+04]\n",
            " [1.00000000e+05]\n",
            " [1.00000000e+05]\n",
            " [1.00000000e+05]\n",
            " [1.00000000e+05]\n",
            " [1.00000000e+05]\n",
            " [1.00000000e+05]\n",
            " [1.00000000e+05]\n",
            " [1.74661460e+03]]\n",
            "beta\n",
            "0.16586995501494914\n",
            "\n",
            "\n",
            "\n",
            "\n"
          ],
          "name": "stdout"
        }
      ]
    },
    {
      "cell_type": "code",
      "metadata": {
        "id": "PpTEcCgN3iwr"
      },
      "source": [
        "test_predictions = bayesian_linear_regression_model.predict(test_points)"
      ],
      "execution_count": null,
      "outputs": []
    },
    {
      "cell_type": "code",
      "metadata": {
        "id": "k1smGKrT3qFr",
        "colab": {
          "base_uri": "https://localhost:8080/"
        },
        "outputId": "3fa5e2f4-43fd-4943-c0dd-21a09f772318"
      },
      "source": [
        "r2_score(test_values, test_predictions)"
      ],
      "execution_count": null,
      "outputs": [
        {
          "output_type": "execute_result",
          "data": {
            "text/plain": [
              "0.7846814762133341"
            ]
          },
          "metadata": {
            "tags": []
          },
          "execution_count": 33
        }
      ]
    },
    {
      "cell_type": "markdown",
      "metadata": {
        "id": "b0gaADi3LjcJ"
      },
      "source": [
        "# Task 2:\n",
        "\n",
        "In this case, the predictive distribution gives not only an estimate of the objective function, but also an estimate of its uncertainty.\n",
        "\n",
        "$p(t|x,t,α,β)=N(t|m^T_Nφ(x),σ_N^2 (x))$, \n",
        "\n",
        "where the variance $σ_N^2 (x$) of the predictive distribution is given by\n",
        "\n",
        "$σ_N^2 (x) = β_1 + φ(x)^TS_N φ(x).$\n",
        "\n",
        "You need to\n",
        "* implement variance() method for Bayesian linear regression\n",
        "* understand how good the uncertainty estimate is by proposing your criterion."
      ]
    },
    {
      "cell_type": "code",
      "metadata": {
        "id": "gOPtc4Em3hku"
      },
      "source": [
        "class BayesianLinearRegression_var():\n",
        "  def __init__(self, beta=1, alpha=0):\n",
        "    self.alpha = alpha\n",
        "    self.beta = beta\n",
        "\n",
        "  def fit(self, points, values, iteration_number=30):\n",
        "    sample_size = points.shape[0]\n",
        "    self.input_dimension = points.shape[1]\n",
        "    alpha_history = []\n",
        "    beta_history = []\n",
        "    for iteration_index in range(iteration_number):\n",
        "      regularization_matrix = self.alpha * np.eye(self.input_dimension)\n",
        "      covariance_matrix = self.beta * np.dot(points.T, points)\n",
        "      self.weights = self.beta * np.linalg.solve(regularization_matrix + \n",
        "                                                 covariance_matrix, \n",
        "                                                 np.dot(points.T, values))\n",
        "      lambda_vector, _ = np.linalg.eig(covariance_matrix)\n",
        "      gamma = np.sum(lambda_vector / (lambda_vector + self.alpha))\n",
        "      self.alpha = gamma / np.sum(self.weights * self.weights)\n",
        "      self.beta = (1 / (sample_size - gamma) * \n",
        "                   np.sum((values - np.dot(points, self.weights))**2))\n",
        "      self.beta = 1 / self.beta\n",
        "      alpha_history.append(self.alpha)\n",
        "      beta_history.append(self.beta)\n",
        "\n",
        "    return alpha_history, beta_history\n",
        "\n",
        "  def predict(self, points):\n",
        "    return np.dot(points, self.weights)\n",
        "\n",
        "  # prediction with variance\n",
        "  def variance(self, points, rand_num = 1000):\n",
        "    # variance calculation\n",
        "    #YOUR CODE HERE\n",
        "    regularization_matrix = ...\n",
        "    covariance_matrix = ...\n",
        "    S = ...\n",
        "    self.sigma_sq = self.beta * np.eye(points.shape[0]) + np.dot(np.dot(points, S.T), points.T)\n",
        "    self.sigma_sq = np.diag(self.sigma_sq)\n",
        "\n",
        "    output = []\n",
        "    perc_5 = []\n",
        "    perc_95 = []\n",
        "    mean = []\n",
        "    sigma = []\n",
        "    for i in range(points.shape[0]):\n",
        "\n",
        "      #YOUR CODE HERE\n",
        "      mean_i = ... #np.dot return an array with 1 value, get this value\n",
        "      sigma_i = self.sigma_sq[i]\n",
        "      #output.append(np.random.normal(mean_i, sigma_i, rand_num))\n",
        "      mean.append(mean_i) # predicted y\n",
        "      sigma.append(sigma_i)\n",
        "      perc_5.append(scipy.stats.norm.ppf(0.05, mean_i, sigma_i))\n",
        "      perc_95.append(scipy.stats.norm.ppf(0.95, mean_i, sigma_i))\n",
        "    return mean, sigma, perc_5, perc_95 "
      ],
      "execution_count": null,
      "outputs": []
    },
    {
      "cell_type": "code",
      "metadata": {
        "id": "qvBvByAf0KjB"
      },
      "source": [
        "bayesian_linear_regression_model = BayesianLinearRegression_var(beta=1, alpha=1e-1)"
      ],
      "execution_count": null,
      "outputs": []
    },
    {
      "cell_type": "code",
      "metadata": {
        "id": "DVgKEyQeM4ip"
      },
      "source": [
        "alpha_history, beta_history = bayesian_linear_regression_model.fit(training_points[:200,:], training_values[:200])"
      ],
      "execution_count": null,
      "outputs": []
    },
    {
      "cell_type": "code",
      "metadata": {
        "id": "IrvdVlWf67zF"
      },
      "source": [
        "mean, sigma, perc_5, perc_95 = bayesian_linear_regression_model.variance(training_points[:200,:], rand_num = 1000)"
      ],
      "execution_count": null,
      "outputs": []
    },
    {
      "cell_type": "code",
      "metadata": {
        "id": "Ke7Cu5D50kEl"
      },
      "source": [
        "import matplotlib.pyplot as plt"
      ],
      "execution_count": null,
      "outputs": []
    },
    {
      "cell_type": "code",
      "metadata": {
        "id": "e7hB7LrZ07DF",
        "colab": {
          "base_uri": "https://localhost:8080/",
          "height": 625
        },
        "outputId": "467bd6af-2e91-413e-9d5e-7bb07dfcbba6"
      },
      "source": [
        "plt.figure(figsize=(10,10))\n",
        "y_true = training_values[:200]\n",
        "y_pred = mean\n",
        "plt.errorbar(y_true, y_pred, yerr=np.asarray(perc_95) -np.asarray(perc_5), fmt='o', marker=None)\n",
        "plt.xlabel('True values', fontsize=16)\n",
        "plt.ylabel('Predicted values', fontsize=16)"
      ],
      "execution_count": null,
      "outputs": [
        {
          "output_type": "execute_result",
          "data": {
            "text/plain": [
              "Text(0, 0.5, 'Predicted values')"
            ]
          },
          "metadata": {
            "tags": []
          },
          "execution_count": 43
        },
        {
          "output_type": "display_data",
          "data": {
            "image/png": "[encoded data removed]",
            "text/plain": [
              "<Figure size 720x720 with 1 Axes>"
            ]
          },
          "metadata": {
            "tags": [],
            "needs_background": "light"
          }
        }
      ]
    }
  ]
}