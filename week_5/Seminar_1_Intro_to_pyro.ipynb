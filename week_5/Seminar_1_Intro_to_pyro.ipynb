{
  "nbformat": 4,
  "nbformat_minor": 0,
  "metadata": {
    "colab": {
      "name": "Seminar_1_Intro_to_pyro.ipynb",
      "provenance": [],
      "collapsed_sections": []
    },
    "kernelspec": {
      "display_name": "Python 3",
      "language": "python",
      "name": "python3"
    },
    "language_info": {
      "codemirror_mode": {
        "name": "ipython",
        "version": 3
      },
      "file_extension": ".py",
      "mimetype": "text/x-python",
      "name": "python",
      "nbconvert_exporter": "python",
      "pygments_lexer": "ipython3",
      "version": "3.6.6"
    }
  },
  "cells": [
    {
      "cell_type": "markdown",
      "metadata": {
        "id": "eWPnEcOpJMNg"
      },
      "source": [
        "# Seminar 1. Intro to Pyro"
      ]
    },
    {
      "cell_type": "markdown",
      "metadata": {
        "id": "Qm5crmXDtZHp"
      },
      "source": [
        "## **Pyro** - вероятностное программирование с pytorch\n",
        "\n",
        "\n",
        "Нам нужен будет пакет pyro."
      ]
    },
    {
      "cell_type": "code",
      "metadata": {
        "id": "oxtt8c16uu4W"
      },
      "source": [
        "!pip install pyro-ppl"
      ],
      "execution_count": null,
      "outputs": []
    },
    {
      "cell_type": "code",
      "metadata": {
        "id": "8KWG32KUtRIP"
      },
      "source": [
        "import matplotlib.pyplot as plt\n",
        "import numpy as np\n",
        "import pandas as pd\n",
        "import seaborn as sns\n",
        "import torch\n",
        "from torch.distributions import constraints\n",
        "\n",
        "import pyro\n",
        "import pyro.infer\n",
        "import pyro.optim\n",
        "import pyro.distributions as dist\n",
        "\n",
        "pyro.set_rng_seed(101)"
      ],
      "execution_count": null,
      "outputs": []
    },
    {
      "cell_type": "markdown",
      "metadata": {
        "id": "tVXiv3mM2Vze"
      },
      "source": [
        "## **Распределение в pytorch**\n",
        "\n",
        "Распределения в Pyro - wrapper для распределений в pytorch, потому что нам хочется дифференцировать автоматически и работать с тензорами, причем делать это быстро с помощью возможностей pytorch."
      ]
    },
    {
      "cell_type": "code",
      "metadata": {
        "id": "-thcmjHG0xFT"
      },
      "source": [
        "loc = 0.   # mean zero\n",
        "scale = 1. # unit standard deviation"
      ],
      "execution_count": null,
      "outputs": []
    },
    {
      "cell_type": "code",
      "metadata": {
        "id": "eIOyOw86JMNq"
      },
      "source": [
        "# create a normal distribution object in torch\n",
        "normal = torch.distributions.Normal(loc, scale) "
      ],
      "execution_count": null,
      "outputs": []
    },
    {
      "cell_type": "markdown",
      "metadata": {
        "id": "--5wIspiywrm"
      },
      "source": [
        "\n",
        "\n",
        "Распределение - объект, у которого есть два метода: sample() и log_prob().\n",
        "\n",
        "* Первый возвращает объект из этого распределения. \n",
        "* Второй возвращает логарифм плотности для наблюдения."
      ]
    },
    {
      "cell_type": "code",
      "metadata": {
        "id": "IFedr8rV2BEW"
      },
      "source": [
        "# with rsample it is possible to propagate through random variables \n",
        "# in a computational graph\n",
        "x = normal.rsample() # draw a sample from N(0, 1) \n",
        "\n",
        "print(\"sample\", x)\n",
        "print(\"log prob\", normal.log_prob(x)) # score the sample from N(0, 1)"
      ],
      "execution_count": null,
      "outputs": []
    },
    {
      "cell_type": "markdown",
      "metadata": {
        "id": "dJ5vCY6Z4meJ"
      },
      "source": [
        "## **Reparametrization trick**\n",
        "\n",
        "Когда мы сэмплируем объекты из torch.distribution, мы можем считать градиенты по параметрам"
      ]
    },
    {
      "cell_type": "code",
      "metadata": {
        "id": "NWNSjfllyWBS"
      },
      "source": [
        "loc = torch.tensor(0., requires_grad=True)  # mean zero\n",
        "scale = 2 \n",
        "normal = torch.distributions.Normal(loc, scale) "
      ],
      "execution_count": null,
      "outputs": []
    },
    {
      "cell_type": "code",
      "metadata": {
        "id": "dFG5mpZn2w_b"
      },
      "source": [
        "x = normal.rsample() # draw a sample from N(0, 2) \n",
        "x.backward()\n",
        "print(loc.grad)"
      ],
      "execution_count": null,
      "outputs": []
    },
    {
      "cell_type": "code",
      "metadata": {
        "id": "R56qQqYaybyE"
      },
      "source": [
        "loc = torch.tensor(1., requires_grad=True)  # mean zero\n",
        "scale = torch.tensor(2., requires_grad=True)  # mean zero\n",
        "normal = torch.distributions.Normal(loc, scale) "
      ],
      "execution_count": null,
      "outputs": []
    },
    {
      "cell_type": "code",
      "metadata": {
        "id": "Y7kkyBLq3ybr"
      },
      "source": [
        "x = normal.rsample() # draw a sample from N(0, 1) \n",
        "x.backward()\n",
        "print(\"x = {:.4}\".format(x.item()))\n",
        "print(\"loc derivative = {:.4}, scale derivative = {:.4}\".format(loc.grad.item(), \n",
        "                                                                scale.grad.item()))\n",
        "\n",
        "# zero grads\n",
        "loc.grad.data.zero_();\n",
        "scale.grad.data.zero_();"
      ],
      "execution_count": null,
      "outputs": []
    },
    {
      "cell_type": "markdown",
      "metadata": {
        "id": "CTj0QtWA7w5R"
      },
      "source": [
        "## **Распределение в pyro**\n",
        "\n",
        "Обратите внимание, что теперь у каждого распределения есть название. Бэкэнд Pyro использует эти имена для уникальной идентификации состояния и изменения сэмплов."
      ]
    },
    {
      "cell_type": "code",
      "metadata": {
        "id": "vMd2jijH7ynv"
      },
      "source": [
        "loc = torch.tensor(1., requires_grad=True)  # mean zero\n",
        "scale = torch.tensor(2., requires_grad=True)  # mean zero\n",
        "\n",
        "x = pyro.sample(\"my_sample\", pyro.distributions.Normal(loc, scale))\n",
        "x.backward()\n",
        "print(\"x = {:.4}\".format(x.item()))\n",
        "print(\"loc derivative = {:.4}, scale derivative = {:.4}\".format(loc.grad.item(),                                                          scale.grad.item()))"
      ],
      "execution_count": null,
      "outputs": []
    },
    {
      "cell_type": "markdown",
      "metadata": {
        "id": "DJ7qaBY0JMN1"
      },
      "source": [
        "**Вопрос**: Что было бы, если бы мы не переопределили loc и scale заново?"
      ]
    },
    {
      "cell_type": "markdown",
      "metadata": {
        "id": "QxIj4ieeJMN2"
      },
      "source": [
        "## **Сложное распределение в pyro**"
      ]
    },
    {
      "cell_type": "code",
      "metadata": {
        "id": "d5BMTLp-8qMw"
      },
      "source": [
        "def weather(p):\n",
        "    cloudy = pyro.sample('cloudy', pyro.distributions.Bernoulli(p))\n",
        "    cloudy = 'cloudy' if cloudy.item() == 1.0 else 'sunny'\n",
        "    mean_temp = {'cloudy': 15.0, 'sunny': 25.0}[cloudy]\n",
        "    scale_temp = {'cloudy': 15.0, 'sunny': 10.0}[cloudy]\n",
        "    temp = pyro.sample('temp', pyro.distributions.Normal(mean_temp, scale_temp))\n",
        "    return cloudy, temp\n",
        "\n",
        "for _ in range(3):\n",
        "    print(weather(0.5))"
      ],
      "execution_count": null,
      "outputs": []
    },
    {
      "cell_type": "code",
      "metadata": {
        "id": "UiN9EPa0JMN4"
      },
      "source": [
        "x = np.array([[x[0]=='sunny', x[1].item()] for _ in range(5000) for x in [weather(0.3)]])\n",
        "sns.histplot(x[:,1][x[:,0]==0], stat='density')\n",
        "sns.histplot(x[:,1][x[:,0]==1], stat='density', color='tab:orange')\n",
        "plt.show()"
      ],
      "execution_count": null,
      "outputs": []
    },
    {
      "cell_type": "markdown",
      "metadata": {
        "id": "9rzLVkWe-Mlh"
      },
      "source": [
        "Можно задавать распределения динамически, пока имена у них уникальные."
      ]
    },
    {
      "cell_type": "markdown",
      "metadata": {
        "id": "DQA7h2toJMN5"
      },
      "source": [
        "В качестве примера рассмотрим геометрическое распределение: Количество неудач до первого успеха."
      ]
    },
    {
      "cell_type": "code",
      "metadata": {
        "id": "takiiFLJ-TOB"
      },
      "source": [
        "def geometric(p, t=None):\n",
        "    if t is None:\n",
        "        t = 0\n",
        "    x = pyro.sample(\"x_{}\".format(t), \n",
        "                    pyro.distributions.Bernoulli(p))\n",
        "    if x.item() == 1: # Success\n",
        "        return 0\n",
        "    else:\n",
        "        return 1 + geometric(p, t + 1)"
      ],
      "execution_count": null,
      "outputs": []
    },
    {
      "cell_type": "code",
      "metadata": {
        "id": "x9zk_zQUJMN7"
      },
      "source": [
        "sns.histplot([geometric(0.5) for _ in range(1000)])\n",
        "plt.show()"
      ],
      "execution_count": null,
      "outputs": []
    },
    {
      "cell_type": "markdown",
      "metadata": {
        "id": "yYWH8ZzlG3Iu"
      },
      "source": [
        "## ------\n",
        "## **Упражнение:**\n",
        "\n",
        "Написать реализацию случайного блуждания на pyro: \n",
        "\n",
        "* начинаем с 0 в нулевой момент времени\n",
        "* с вероятностью p идем вверх, с вероятностью (1-p) --- вниз\n",
        "* return -- момент времени, когда абсолютное значение больше 10."
      ]
    },
    {
      "cell_type": "markdown",
      "metadata": {
        "id": "fUBCacrIJMN_"
      },
      "source": [
        "## ------"
      ]
    },
    {
      "cell_type": "markdown",
      "metadata": {
        "id": "8kMGku0IASps"
      },
      "source": [
        "Можно строить граф распределений. \n",
        "\n",
        "Например построим произведение двух независмых величин из распределения N(loc, scale), где loc ~ N(0,1), а scale мы задаем сами. Градиент при этом передается через параметры распределения."
      ]
    },
    {
      "cell_type": "code",
      "metadata": {
        "id": "Gkdi3GopAJTK"
      },
      "source": [
        "def normal_product(loc, scale):\n",
        "    z1 = pyro.sample(\"z1\", pyro.distributions.Normal(loc, scale))\n",
        "    z2 = pyro.sample(\"z2\", pyro.distributions.Normal(loc, scale))\n",
        "    y = z1 * z2\n",
        "    return y\n",
        "\n",
        "def make_normal_normal():\n",
        "    mu_latent = pyro.sample(\"mu_latent\", pyro.distributions.Normal(0, 1))\n",
        "    fn = lambda scale: normal_product(mu_latent, scale)\n",
        "    return fn\n",
        "\n",
        "scale = torch.tensor(1.0, requires_grad=True)\n",
        "print(make_normal_normal()(scale))"
      ],
      "execution_count": null,
      "outputs": []
    },
    {
      "cell_type": "markdown",
      "metadata": {
        "id": "u8aGrXXhJMOB"
      },
      "source": [
        "## ------\n",
        "## **Упражнение:**\n",
        "\n",
        "Написать реализацию распределения Стьюдента (по определению) на pyro:\n",
        "\n",
        "Определение: распределение Стьюдента c n степенями свободы - t(n):\n",
        "\n",
        "$$\n",
        "Y_0, Y_1, ..., Y_n - \\text{i.i.d}\\; \\mathcal{N}(0,1)\\\\\n",
        "T = \\frac{Y_0}{\\sqrt{\\frac{1}{n}\\sum_{i=1}^{n}Y_i^2}} \\sim t(n)\n",
        "$$"
      ]
    },
    {
      "cell_type": "code",
      "metadata": {
        "id": "3Zdt6A2IJMOB"
      },
      "source": [
        "def student(n):\n",
        "    \"\"\"\n",
        "    * n - количество степеней свободы\n",
        "    \"\"\"\n",
        "    pass"
      ],
      "execution_count": null,
      "outputs": []
    },
    {
      "cell_type": "markdown",
      "metadata": {
        "id": "0o_CStg6JMOC"
      },
      "source": [
        "Сравним вашу реализацию с реалищацией из numpy"
      ]
    },
    {
      "cell_type": "code",
      "metadata": {
        "id": "lGFDpAWzJMOD"
      },
      "source": [
        "import scipy.stats as stats\n",
        "\n",
        "my_student = [student(10).item() for _ in range(1000)]\n",
        "np_student = np.random.standard_t(10, 1000)\n",
        "x = np.percentile(my_student, np.linspace(1, 99, num=100))\n",
        "y = np.percentile(np_student, np.linspace(1, 99, num=100))\n",
        "plt.scatter(x, y)"
      ],
      "execution_count": null,
      "outputs": []
    },
    {
      "cell_type": "markdown",
      "metadata": {
        "id": "Yp5M8npxJMOD"
      },
      "source": [
        "## ------"
      ]
    },
    {
      "cell_type": "markdown",
      "metadata": {
        "id": "BkSFi_aWDzHb"
      },
      "source": [
        "# **Зачем нам все это было нужно?**\n",
        "\n",
        "-Нам хочется работать со сложными распределениями, например семплировать из условных распределений."
      ]
    },
    {
      "cell_type": "markdown",
      "metadata": {
        "id": "3UnE1wXEtj7z"
      },
      "source": [
        "## **Пример**\n",
        "\n",
        "Рассмотрим более сложный пример. Рассмотрим весы с шумом (noisy scale). Не путайте scale (масштаб) в нормальном распределение и scale (весы) в нашем примере. "
      ]
    },
    {
      "cell_type": "code",
      "metadata": {
        "id": "9p1KsSi3tnsY"
      },
      "source": [
        "def scale(guess):\n",
        "    \"\"\"\n",
        "    Мы определеяем один параметр: \n",
        "    * guess - априорное предположение о весе \n",
        "\n",
        "    Далее задаем вероятностную модель:\n",
        "    * weight - какой вес получился\n",
        "    * measurement - как мы его измерили\n",
        "    \"\"\"\n",
        "    \n",
        "    weight = pyro.sample(\"weight\", dist.Normal(guess, 1.0))\n",
        "    return pyro.sample(\"measurement\", dist.Normal(weight, 0.75))"
      ],
      "execution_count": null,
      "outputs": []
    },
    {
      "cell_type": "markdown",
      "metadata": {
        "id": "xF7PlRvQJMOF"
      },
      "source": [
        "**Вопрос**: Какая вероятностная модель получилась?\n",
        "\n",
        "$$\n",
        "\\text{weight | guess} ∼ \\mathcal{N}(\\text{guess}, 1)\n",
        "$$\n",
        "\n",
        "$$\n",
        "\\text{measurement | guess, weight} ∼ \\mathcal{N}(\\text{weight}, 0.75)\n",
        "$$"
      ]
    },
    {
      "cell_type": "markdown",
      "metadata": {
        "id": "QVytPbvlM7Cg"
      },
      "source": [
        ""
      ]
    },
    {
      "cell_type": "markdown",
      "metadata": {
        "id": "zbgeh2mRud-R"
      },
      "source": [
        "## **Получение условных вероятностей**\n",
        "\n",
        "Теперь мы начинаем использовать имена наших переменных."
      ]
    },
    {
      "cell_type": "markdown",
      "metadata": {
        "id": "p_V2XWoIJMOH"
      },
      "source": [
        "Укажем, что мы уже знаем значение weight равное 7. И посмотрим какое итоговое распределение мы получим."
      ]
    },
    {
      "cell_type": "code",
      "metadata": {
        "id": "MnafSDNZuSCm"
      },
      "source": [
        "conditioned_scale = pyro.condition(scale, data={\"weight\": 7})\n",
        "\n",
        "guess = 2\n",
        "print(f\"guess: {guess}, measurement: {conditioned_scale(guess).item()}\")\n",
        "\n",
        "guess = 20\n",
        "print(f\"guess: {guess}, measurement: {conditioned_scale(guess).item()}\")"
      ],
      "execution_count": null,
      "outputs": []
    },
    {
      "cell_type": "markdown",
      "metadata": {
        "id": "pknvbmxhJMOI"
      },
      "source": [
        "**Вопрос**: Почему нет влияния априорного значения веса guess?"
      ]
    },
    {
      "cell_type": "markdown",
      "metadata": {
        "id": "1oQtsjd0JMOJ"
      },
      "source": [
        "Рассмотрим теперь более интересный случай. Где мы знаем значение итогого измерения measurement. И хотим найти апостериорное распределение веса weight."
      ]
    },
    {
      "cell_type": "code",
      "metadata": {
        "id": "T75PVEPWcHZ9"
      },
      "source": [
        "measurement_value = torch.tensor(9.5) # Tensor\n",
        "conditioned_scale = pyro.condition(scale, data={\"measurement\": measurement_value})"
      ],
      "execution_count": null,
      "outputs": []
    },
    {
      "cell_type": "markdown",
      "metadata": {
        "id": "sbqH-z5GJMOK"
      },
      "source": [
        "Далее нам надо определить как будет искаться апостериорное распределение.\n",
        "\n",
        "Для этого используется функция которую принято называть **guide**."
      ]
    },
    {
      "cell_type": "markdown",
      "metadata": {
        "id": "SOfj_qsSJMOK"
      },
      "source": [
        "В нашем примере параметры апостериорного распределения могут быть посчитаны аналитически."
      ]
    },
    {
      "cell_type": "code",
      "metadata": {
        "id": "A5QCJQLUJMOL"
      },
      "source": [
        "def get_conditional_location_scale(guess, measurement, measurement_variance):\n",
        "    loc = ((measurement_variance**2 * guess + measurement) / \n",
        "           (1 + measurement_variance**2)) # 9.14\n",
        "    scale = np.sqrt(measurement_variance**2/ (1 + measurement_variance**2)) # 0.6\n",
        "    return loc, scale"
      ],
      "execution_count": null,
      "outputs": []
    },
    {
      "cell_type": "markdown",
      "metadata": {
        "id": "JIAGOYXvJMOM"
      },
      "source": [
        "Например для конкретного значения guess:"
      ]
    },
    {
      "cell_type": "code",
      "metadata": {
        "id": "7NZbHuUSJMOM"
      },
      "source": [
        "guess = 8.5\n",
        "loc, w_scale = get_conditional_location_scale(guess, 9.5, 0.75)\n",
        "loc, w_scale"
      ],
      "execution_count": null,
      "outputs": []
    },
    {
      "cell_type": "markdown",
      "metadata": {
        "id": "oBGQsUnOJMON"
      },
      "source": [
        "А значит можно **guide** можно написать явно:"
      ]
    },
    {
      "cell_type": "code",
      "metadata": {
        "id": "UaW6cThDQRuS"
      },
      "source": [
        "def perfect_guide(guess, measurement=9.5, measurement_variance=0.75):\n",
        "    loc, scale = get_conditional_location_scale(guess, measurement, measurement_variance)\n",
        "    return pyro.sample(\"weight\", dist.Normal(loc, scale))"
      ],
      "execution_count": null,
      "outputs": []
    },
    {
      "cell_type": "markdown",
      "metadata": {
        "id": "Vy28JsA6QSTY"
      },
      "source": [
        "## **Байесовский вывод**"
      ]
    },
    {
      "cell_type": "markdown",
      "metadata": {
        "id": "TEL5P5h9XOk8"
      },
      "source": [
        "Предположим, что мы не можем выразить апостериорное распределение аналитически.\n",
        "\n",
        "Попробуем оценить апостериорное распределение с помощью pyro и вычислительных методов.\n",
        "Для этого зададим параметрическое семейство в качестве апостериорного и будем оценивать параметры этого распределения.\n",
        "\n",
        "В качестве параметрического семейства выберем нормальное распределение N(a,b)."
      ]
    },
    {
      "cell_type": "code",
      "metadata": {
        "id": "rNUG9nRweNfx"
      },
      "source": [
        "def scale_parametrized_guide(guess):\n",
        "    a = pyro.param(\"a\", torch.tensor(guess))\n",
        "    b = pyro.param(\"b\", torch.tensor(1.)) \n",
        "    return pyro.sample(\"weight\", dist.Normal(a, torch.abs(b)))"
      ],
      "execution_count": null,
      "outputs": []
    },
    {
      "cell_type": "markdown",
      "metadata": {
        "id": "uIMWxajtJMOP"
      },
      "source": [
        "Так как стандартное отклонение должно быть положительным, мы использовали torch.abs. Но можно воспользоваться и встроенным набором ограничений на параметры:"
      ]
    },
    {
      "cell_type": "code",
      "metadata": {
        "id": "pcdJ_P84eQL9"
      },
      "source": [
        "def scale_parametrized_guide(guess):\n",
        "    a = pyro.param(\"a\", torch.tensor(guess))\n",
        "    b = pyro.param(\"b\", torch.tensor(1.), constraint=constraints.positive) # <--\n",
        "    return pyro.sample(\"weight\", dist.Normal(a, b))  # no more torch.abs"
      ],
      "execution_count": null,
      "outputs": []
    },
    {
      "cell_type": "markdown",
      "metadata": {
        "id": "wBvh1rH-JMOQ"
      },
      "source": [
        "Реализуем теперь поиск апостериорных параметров с помощью стохастического вариационного вывода (SVI). Более детально мы с ним ознакомимся позднее."
      ]
    },
    {
      "cell_type": "code",
      "metadata": {
        "id": "cRiUr5OTeVOX"
      },
      "source": [
        "guess = 8.5\n",
        "\n",
        "pyro.clear_param_store()\n",
        "svi = pyro.infer.SVI(model=conditioned_scale,\n",
        "                     guide=scale_parametrized_guide,\n",
        "                     optim=pyro.optim.SGD({\"lr\": 0.001, \"momentum\": 0.1}),\n",
        "                     loss=pyro.infer.Trace_ELBO())"
      ],
      "execution_count": null,
      "outputs": []
    },
    {
      "cell_type": "code",
      "metadata": {
        "id": "LikD1uo2oyWw"
      },
      "source": [
        "losses, a, b  = [], [], []\n",
        "num_steps = 2500\n",
        "for t in range(num_steps):\n",
        "    losses.append(svi.step(guess))\n",
        "    a.append(pyro.param(\"a\").item())\n",
        "    b.append(pyro.param(\"b\").item())"
      ],
      "execution_count": null,
      "outputs": []
    },
    {
      "cell_type": "code",
      "metadata": {
        "id": "gLZiiYsAeei-"
      },
      "source": [
        "plt.plot(losses)\n",
        "plt.title(\"ELBO\")\n",
        "plt.xlabel(\"step\")\n",
        "plt.ylabel(\"loss\");\n",
        "print('a = ', pyro.param(\"a\").item())\n",
        "print('b = ', pyro.param(\"b\").item())"
      ],
      "execution_count": null,
      "outputs": []
    },
    {
      "cell_type": "code",
      "metadata": {
        "id": "RCbCpTiylJdl"
      },
      "source": [
        "loc, w_scale = get_conditional_location_scale(guess, 9.5, 0.75)"
      ],
      "execution_count": null,
      "outputs": []
    },
    {
      "cell_type": "code",
      "metadata": {
        "id": "dUmaZ6J1ekZD"
      },
      "source": [
        "plt.figure(figsize=(15, 5))\n",
        "plt.subplot(1, 2, 1)\n",
        "plt.xlabel('step')\n",
        "plt.ylabel('a')\n",
        "plt.axhline(loc, ls=':', c='black')\n",
        "plt.plot(a)\n",
        "\n",
        "\n",
        "plt.subplot(1, 2, 2)\n",
        "plt.xlabel('step')\n",
        "plt.ylabel('b')\n",
        "plt.axhline(w_scale, ls=':', c='black')\n",
        "plt.plot(b)\n",
        "\n",
        "plt.show()"
      ],
      "execution_count": null,
      "outputs": []
    },
    {
      "cell_type": "markdown",
      "metadata": {
        "id": "FaahFIYMJMOT"
      },
      "source": [
        "Как мы видим, результаты получились очень близкие."
      ]
    },
    {
      "cell_type": "markdown",
      "metadata": {
        "id": "56vF9t-RvAEm"
      },
      "source": [
        "## **Работа с неаналитическим распределением**"
      ]
    },
    {
      "cell_type": "markdown",
      "metadata": {
        "id": "YvlL-_-pJMOU"
      },
      "source": [
        "## ------\n",
        "## **Упражнение:**\n",
        "\n",
        "Написать процедуру Байесовского вывода для более сложной, аналитически не вычислимой модели."
      ]
    },
    {
      "cell_type": "markdown",
      "metadata": {
        "id": "bgJ2FhO3JMOW"
      },
      "source": [
        "Рассмотрим предыдущую задачу, но изменим следующее распределение:\n",
        "\n",
        "$$\n",
        "\\text{weight | guess} ∼ \\mathcal{N}(\\text{guess}, 1)\n",
        "$$\n",
        "\n",
        "$$\n",
        "\\text{measurement | guess, weight} ∼ \\mathcal{N}(\\color{red}{f(}\\text{weight}\\color{red}{)}, 0.75)\n",
        "$$\n",
        "\n",
        "При этом $f(\\cdot)$ является нелинейной функцией."
      ]
    },
    {
      "cell_type": "markdown",
      "metadata": {
        "id": "sYgZebe1JMOX"
      },
      "source": [
        "Пусть $f(x) = \\sqrt x$<br>\n",
        "Найдите параметры апостериорного распределения weight при заданных<br>\n",
        "guess = 8.5<br>\n",
        "measurement = 4.0<br>"
      ]
    },
    {
      "cell_type": "code",
      "metadata": {
        "id": "oI7SM9aMQDsk"
      },
      "source": [
        ""
      ],
      "execution_count": null,
      "outputs": []
    },
    {
      "cell_type": "markdown",
      "metadata": {
        "id": "ClyXRTAcJ4xJ"
      },
      "source": [
        "## ------"
      ]
    },
    {
      "cell_type": "markdown",
      "metadata": {
        "id": "IT4GhZoNJMOb"
      },
      "source": [
        "### EOF"
      ]
    }
  ]
}