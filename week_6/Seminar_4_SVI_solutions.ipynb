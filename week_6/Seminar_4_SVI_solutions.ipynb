{
  "nbformat": 4,
  "nbformat_minor": 0,
  "metadata": {
    "colab": {
      "name": "Seminar_4-SVI.solutions.ipynb",
      "provenance": [],
      "collapsed_sections": [
        "b3ys9IzjN73X",
        "lJCN5FGCfnf_",
        "YJ4zFK-8WiTT"
      ]
    },
    "kernelspec": {
      "display_name": "Python 3",
      "language": "python",
      "name": "python3"
    },
    "language_info": {
      "codemirror_mode": {
        "name": "ipython",
        "version": 3
      },
      "file_extension": ".py",
      "mimetype": "text/x-python",
      "name": "python",
      "nbconvert_exporter": "python",
      "pygments_lexer": "ipython3",
      "version": "3.6.6"
    },
    "accelerator": "GPU",
    "widgets": {
      "application/vnd.jupyter.widget-state+json": {
        "1ffe513dbdff4c10af18b1b8cfc5e2d4": {
          "model_module": "@jupyter-widgets/controls",
          "model_name": "HBoxModel",
          "model_module_version": "1.5.0",
          "state": {
            "_view_name": "HBoxView",
            "_dom_classes": [],
            "_model_name": "HBoxModel",
            "_view_module": "@jupyter-widgets/controls",
            "_model_module_version": "1.5.0",
            "_view_count": null,
            "_view_module_version": "1.5.0",
            "box_style": "",
            "layout": "IPY_MODEL_cc32d725ef4943b7910d19b1bbfe58f0",
            "_model_module": "@jupyter-widgets/controls",
            "children": [
              "IPY_MODEL_8d7d8da542e944a1aec17d48868e2a61",
              "IPY_MODEL_93ad6cf232c04065920c02adfc5bc223"
            ]
          }
        },
        "cc32d725ef4943b7910d19b1bbfe58f0": {
          "model_module": "@jupyter-widgets/base",
          "model_name": "LayoutModel",
          "model_module_version": "1.2.0",
          "state": {
            "_view_name": "LayoutView",
            "grid_template_rows": null,
            "right": null,
            "justify_content": null,
            "_view_module": "@jupyter-widgets/base",
            "overflow": null,
            "_model_module_version": "1.2.0",
            "_view_count": null,
            "flex_flow": null,
            "width": null,
            "min_width": null,
            "border": null,
            "align_items": null,
            "bottom": null,
            "_model_module": "@jupyter-widgets/base",
            "top": null,
            "grid_column": null,
            "overflow_y": null,
            "overflow_x": null,
            "grid_auto_flow": null,
            "grid_area": null,
            "grid_template_columns": null,
            "flex": null,
            "_model_name": "LayoutModel",
            "justify_items": null,
            "grid_row": null,
            "max_height": null,
            "align_content": null,
            "visibility": null,
            "align_self": null,
            "height": null,
            "min_height": null,
            "padding": null,
            "grid_auto_rows": null,
            "grid_gap": null,
            "max_width": null,
            "order": null,
            "_view_module_version": "1.2.0",
            "grid_template_areas": null,
            "object_position": null,
            "object_fit": null,
            "grid_auto_columns": null,
            "margin": null,
            "display": null,
            "left": null
          }
        },
        "8d7d8da542e944a1aec17d48868e2a61": {
          "model_module": "@jupyter-widgets/controls",
          "model_name": "FloatProgressModel",
          "model_module_version": "1.5.0",
          "state": {
            "_view_name": "ProgressView",
            "style": "IPY_MODEL_a44e2611eef94f2c8b167873bc91964a",
            "_dom_classes": [],
            "description": "",
            "_model_name": "FloatProgressModel",
            "bar_style": "success",
            "max": 9912422,
            "_view_module": "@jupyter-widgets/controls",
            "_model_module_version": "1.5.0",
            "value": 9912422,
            "_view_count": null,
            "_view_module_version": "1.5.0",
            "orientation": "horizontal",
            "min": 0,
            "description_tooltip": null,
            "_model_module": "@jupyter-widgets/controls",
            "layout": "IPY_MODEL_4e61f80774d04e6d80b4a51deee142ab"
          }
        },
        "93ad6cf232c04065920c02adfc5bc223": {
          "model_module": "@jupyter-widgets/controls",
          "model_name": "HTMLModel",
          "model_module_version": "1.5.0",
          "state": {
            "_view_name": "HTMLView",
            "style": "IPY_MODEL_eac2fdbea7204127b2ea50c34f5234a3",
            "_dom_classes": [],
            "description": "",
            "_model_name": "HTMLModel",
            "placeholder": "​",
            "_view_module": "@jupyter-widgets/controls",
            "_model_module_version": "1.5.0",
            "value": " 9913344/? [00:02&lt;00:00, 4859903.32it/s]",
            "_view_count": null,
            "_view_module_version": "1.5.0",
            "description_tooltip": null,
            "_model_module": "@jupyter-widgets/controls",
            "layout": "IPY_MODEL_d514210cf22e42e4a505ddfb6d2a7d5c"
          }
        },
        "a44e2611eef94f2c8b167873bc91964a": {
          "model_module": "@jupyter-widgets/controls",
          "model_name": "ProgressStyleModel",
          "model_module_version": "1.5.0",
          "state": {
            "_view_name": "StyleView",
            "_model_name": "ProgressStyleModel",
            "description_width": "initial",
            "_view_module": "@jupyter-widgets/base",
            "_model_module_version": "1.5.0",
            "_view_count": null,
            "_view_module_version": "1.2.0",
            "bar_color": null,
            "_model_module": "@jupyter-widgets/controls"
          }
        },
        "4e61f80774d04e6d80b4a51deee142ab": {
          "model_module": "@jupyter-widgets/base",
          "model_name": "LayoutModel",
          "model_module_version": "1.2.0",
          "state": {
            "_view_name": "LayoutView",
            "grid_template_rows": null,
            "right": null,
            "justify_content": null,
            "_view_module": "@jupyter-widgets/base",
            "overflow": null,
            "_model_module_version": "1.2.0",
            "_view_count": null,
            "flex_flow": null,
            "width": null,
            "min_width": null,
            "border": null,
            "align_items": null,
            "bottom": null,
            "_model_module": "@jupyter-widgets/base",
            "top": null,
            "grid_column": null,
            "overflow_y": null,
            "overflow_x": null,
            "grid_auto_flow": null,
            "grid_area": null,
            "grid_template_columns": null,
            "flex": null,
            "_model_name": "LayoutModel",
            "justify_items": null,
            "grid_row": null,
            "max_height": null,
            "align_content": null,
            "visibility": null,
            "align_self": null,
            "height": null,
            "min_height": null,
            "padding": null,
            "grid_auto_rows": null,
            "grid_gap": null,
            "max_width": null,
            "order": null,
            "_view_module_version": "1.2.0",
            "grid_template_areas": null,
            "object_position": null,
            "object_fit": null,
            "grid_auto_columns": null,
            "margin": null,
            "display": null,
            "left": null
          }
        },
        "eac2fdbea7204127b2ea50c34f5234a3": {
          "model_module": "@jupyter-widgets/controls",
          "model_name": "DescriptionStyleModel",
          "model_module_version": "1.5.0",
          "state": {
            "_view_name": "StyleView",
            "_model_name": "DescriptionStyleModel",
            "description_width": "",
            "_view_module": "@jupyter-widgets/base",
            "_model_module_version": "1.5.0",
            "_view_count": null,
            "_view_module_version": "1.2.0",
            "_model_module": "@jupyter-widgets/controls"
          }
        },
        "d514210cf22e42e4a505ddfb6d2a7d5c": {
          "model_module": "@jupyter-widgets/base",
          "model_name": "LayoutModel",
          "model_module_version": "1.2.0",
          "state": {
            "_view_name": "LayoutView",
            "grid_template_rows": null,
            "right": null,
            "justify_content": null,
            "_view_module": "@jupyter-widgets/base",
            "overflow": null,
            "_model_module_version": "1.2.0",
            "_view_count": null,
            "flex_flow": null,
            "width": null,
            "min_width": null,
            "border": null,
            "align_items": null,
            "bottom": null,
            "_model_module": "@jupyter-widgets/base",
            "top": null,
            "grid_column": null,
            "overflow_y": null,
            "overflow_x": null,
            "grid_auto_flow": null,
            "grid_area": null,
            "grid_template_columns": null,
            "flex": null,
            "_model_name": "LayoutModel",
            "justify_items": null,
            "grid_row": null,
            "max_height": null,
            "align_content": null,
            "visibility": null,
            "align_self": null,
            "height": null,
            "min_height": null,
            "padding": null,
            "grid_auto_rows": null,
            "grid_gap": null,
            "max_width": null,
            "order": null,
            "_view_module_version": "1.2.0",
            "grid_template_areas": null,
            "object_position": null,
            "object_fit": null,
            "grid_auto_columns": null,
            "margin": null,
            "display": null,
            "left": null
          }
        },
        "4a095f9a10204d7c8d0d8f6a06be5266": {
          "model_module": "@jupyter-widgets/controls",
          "model_name": "HBoxModel",
          "model_module_version": "1.5.0",
          "state": {
            "_view_name": "HBoxView",
            "_dom_classes": [],
            "_model_name": "HBoxModel",
            "_view_module": "@jupyter-widgets/controls",
            "_model_module_version": "1.5.0",
            "_view_count": null,
            "_view_module_version": "1.5.0",
            "box_style": "",
            "layout": "IPY_MODEL_42fceae71df4409cbd5db666307e37b0",
            "_model_module": "@jupyter-widgets/controls",
            "children": [
              "IPY_MODEL_ef42681587a5475e90b894113b3097bb",
              "IPY_MODEL_f40b7f4a525b46beb4d19a4930c57867"
            ]
          }
        },
        "42fceae71df4409cbd5db666307e37b0": {
          "model_module": "@jupyter-widgets/base",
          "model_name": "LayoutModel",
          "model_module_version": "1.2.0",
          "state": {
            "_view_name": "LayoutView",
            "grid_template_rows": null,
            "right": null,
            "justify_content": null,
            "_view_module": "@jupyter-widgets/base",
            "overflow": null,
            "_model_module_version": "1.2.0",
            "_view_count": null,
            "flex_flow": null,
            "width": null,
            "min_width": null,
            "border": null,
            "align_items": null,
            "bottom": null,
            "_model_module": "@jupyter-widgets/base",
            "top": null,
            "grid_column": null,
            "overflow_y": null,
            "overflow_x": null,
            "grid_auto_flow": null,
            "grid_area": null,
            "grid_template_columns": null,
            "flex": null,
            "_model_name": "LayoutModel",
            "justify_items": null,
            "grid_row": null,
            "max_height": null,
            "align_content": null,
            "visibility": null,
            "align_self": null,
            "height": null,
            "min_height": null,
            "padding": null,
            "grid_auto_rows": null,
            "grid_gap": null,
            "max_width": null,
            "order": null,
            "_view_module_version": "1.2.0",
            "grid_template_areas": null,
            "object_position": null,
            "object_fit": null,
            "grid_auto_columns": null,
            "margin": null,
            "display": null,
            "left": null
          }
        },
        "ef42681587a5475e90b894113b3097bb": {
          "model_module": "@jupyter-widgets/controls",
          "model_name": "FloatProgressModel",
          "model_module_version": "1.5.0",
          "state": {
            "_view_name": "ProgressView",
            "style": "IPY_MODEL_321febe9731349e7b26327124f582d39",
            "_dom_classes": [],
            "description": "",
            "_model_name": "FloatProgressModel",
            "bar_style": "success",
            "max": 28881,
            "_view_module": "@jupyter-widgets/controls",
            "_model_module_version": "1.5.0",
            "value": 28881,
            "_view_count": null,
            "_view_module_version": "1.5.0",
            "orientation": "horizontal",
            "min": 0,
            "description_tooltip": null,
            "_model_module": "@jupyter-widgets/controls",
            "layout": "IPY_MODEL_72e5de053f7d4647beb111334fdd2a27"
          }
        },
        "f40b7f4a525b46beb4d19a4930c57867": {
          "model_module": "@jupyter-widgets/controls",
          "model_name": "HTMLModel",
          "model_module_version": "1.5.0",
          "state": {
            "_view_name": "HTMLView",
            "style": "IPY_MODEL_e71986a777b44454b02d055a54fff884",
            "_dom_classes": [],
            "description": "",
            "_model_name": "HTMLModel",
            "placeholder": "​",
            "_view_module": "@jupyter-widgets/controls",
            "_model_module_version": "1.5.0",
            "value": " 29696/? [00:05&lt;00:00, 5417.38it/s]",
            "_view_count": null,
            "_view_module_version": "1.5.0",
            "description_tooltip": null,
            "_model_module": "@jupyter-widgets/controls",
            "layout": "IPY_MODEL_5d718481118240f690323bf4c280760f"
          }
        },
        "321febe9731349e7b26327124f582d39": {
          "model_module": "@jupyter-widgets/controls",
          "model_name": "ProgressStyleModel",
          "model_module_version": "1.5.0",
          "state": {
            "_view_name": "StyleView",
            "_model_name": "ProgressStyleModel",
            "description_width": "initial",
            "_view_module": "@jupyter-widgets/base",
            "_model_module_version": "1.5.0",
            "_view_count": null,
            "_view_module_version": "1.2.0",
            "bar_color": null,
            "_model_module": "@jupyter-widgets/controls"
          }
        },
        "72e5de053f7d4647beb111334fdd2a27": {
          "model_module": "@jupyter-widgets/base",
          "model_name": "LayoutModel",
          "model_module_version": "1.2.0",
          "state": {
            "_view_name": "LayoutView",
            "grid_template_rows": null,
            "right": null,
            "justify_content": null,
            "_view_module": "@jupyter-widgets/base",
            "overflow": null,
            "_model_module_version": "1.2.0",
            "_view_count": null,
            "flex_flow": null,
            "width": null,
            "min_width": null,
            "border": null,
            "align_items": null,
            "bottom": null,
            "_model_module": "@jupyter-widgets/base",
            "top": null,
            "grid_column": null,
            "overflow_y": null,
            "overflow_x": null,
            "grid_auto_flow": null,
            "grid_area": null,
            "grid_template_columns": null,
            "flex": null,
            "_model_name": "LayoutModel",
            "justify_items": null,
            "grid_row": null,
            "max_height": null,
            "align_content": null,
            "visibility": null,
            "align_self": null,
            "height": null,
            "min_height": null,
            "padding": null,
            "grid_auto_rows": null,
            "grid_gap": null,
            "max_width": null,
            "order": null,
            "_view_module_version": "1.2.0",
            "grid_template_areas": null,
            "object_position": null,
            "object_fit": null,
            "grid_auto_columns": null,
            "margin": null,
            "display": null,
            "left": null
          }
        },
        "e71986a777b44454b02d055a54fff884": {
          "model_module": "@jupyter-widgets/controls",
          "model_name": "DescriptionStyleModel",
          "model_module_version": "1.5.0",
          "state": {
            "_view_name": "StyleView",
            "_model_name": "DescriptionStyleModel",
            "description_width": "",
            "_view_module": "@jupyter-widgets/base",
            "_model_module_version": "1.5.0",
            "_view_count": null,
            "_view_module_version": "1.2.0",
            "_model_module": "@jupyter-widgets/controls"
          }
        },
        "5d718481118240f690323bf4c280760f": {
          "model_module": "@jupyter-widgets/base",
          "model_name": "LayoutModel",
          "model_module_version": "1.2.0",
          "state": {
            "_view_name": "LayoutView",
            "grid_template_rows": null,
            "right": null,
            "justify_content": null,
            "_view_module": "@jupyter-widgets/base",
            "overflow": null,
            "_model_module_version": "1.2.0",
            "_view_count": null,
            "flex_flow": null,
            "width": null,
            "min_width": null,
            "border": null,
            "align_items": null,
            "bottom": null,
            "_model_module": "@jupyter-widgets/base",
            "top": null,
            "grid_column": null,
            "overflow_y": null,
            "overflow_x": null,
            "grid_auto_flow": null,
            "grid_area": null,
            "grid_template_columns": null,
            "flex": null,
            "_model_name": "LayoutModel",
            "justify_items": null,
            "grid_row": null,
            "max_height": null,
            "align_content": null,
            "visibility": null,
            "align_self": null,
            "height": null,
            "min_height": null,
            "padding": null,
            "grid_auto_rows": null,
            "grid_gap": null,
            "max_width": null,
            "order": null,
            "_view_module_version": "1.2.0",
            "grid_template_areas": null,
            "object_position": null,
            "object_fit": null,
            "grid_auto_columns": null,
            "margin": null,
            "display": null,
            "left": null
          }
        },
        "9a385017eff64132971bf08fdc13bd53": {
          "model_module": "@jupyter-widgets/controls",
          "model_name": "HBoxModel",
          "model_module_version": "1.5.0",
          "state": {
            "_view_name": "HBoxView",
            "_dom_classes": [],
            "_model_name": "HBoxModel",
            "_view_module": "@jupyter-widgets/controls",
            "_model_module_version": "1.5.0",
            "_view_count": null,
            "_view_module_version": "1.5.0",
            "box_style": "",
            "layout": "IPY_MODEL_e057b41eb6084cb9b24ff0a316bd471b",
            "_model_module": "@jupyter-widgets/controls",
            "children": [
              "IPY_MODEL_ae74978a73d84202adf23d80f695e28e",
              "IPY_MODEL_38c5acb3857343c8be134c6e03ced54c"
            ]
          }
        },
        "e057b41eb6084cb9b24ff0a316bd471b": {
          "model_module": "@jupyter-widgets/base",
          "model_name": "LayoutModel",
          "model_module_version": "1.2.0",
          "state": {
            "_view_name": "LayoutView",
            "grid_template_rows": null,
            "right": null,
            "justify_content": null,
            "_view_module": "@jupyter-widgets/base",
            "overflow": null,
            "_model_module_version": "1.2.0",
            "_view_count": null,
            "flex_flow": null,
            "width": null,
            "min_width": null,
            "border": null,
            "align_items": null,
            "bottom": null,
            "_model_module": "@jupyter-widgets/base",
            "top": null,
            "grid_column": null,
            "overflow_y": null,
            "overflow_x": null,
            "grid_auto_flow": null,
            "grid_area": null,
            "grid_template_columns": null,
            "flex": null,
            "_model_name": "LayoutModel",
            "justify_items": null,
            "grid_row": null,
            "max_height": null,
            "align_content": null,
            "visibility": null,
            "align_self": null,
            "height": null,
            "min_height": null,
            "padding": null,
            "grid_auto_rows": null,
            "grid_gap": null,
            "max_width": null,
            "order": null,
            "_view_module_version": "1.2.0",
            "grid_template_areas": null,
            "object_position": null,
            "object_fit": null,
            "grid_auto_columns": null,
            "margin": null,
            "display": null,
            "left": null
          }
        },
        "ae74978a73d84202adf23d80f695e28e": {
          "model_module": "@jupyter-widgets/controls",
          "model_name": "FloatProgressModel",
          "model_module_version": "1.5.0",
          "state": {
            "_view_name": "ProgressView",
            "style": "IPY_MODEL_af96f1f80bb644e5be0379d4dd8c79a5",
            "_dom_classes": [],
            "description": "",
            "_model_name": "FloatProgressModel",
            "bar_style": "success",
            "max": 1648877,
            "_view_module": "@jupyter-widgets/controls",
            "_model_module_version": "1.5.0",
            "value": 1648877,
            "_view_count": null,
            "_view_module_version": "1.5.0",
            "orientation": "horizontal",
            "min": 0,
            "description_tooltip": null,
            "_model_module": "@jupyter-widgets/controls",
            "layout": "IPY_MODEL_6d4478a737554a6c9d12e1c173d9930f"
          }
        },
        "38c5acb3857343c8be134c6e03ced54c": {
          "model_module": "@jupyter-widgets/controls",
          "model_name": "HTMLModel",
          "model_module_version": "1.5.0",
          "state": {
            "_view_name": "HTMLView",
            "style": "IPY_MODEL_804035ae69d749c188104879f753c467",
            "_dom_classes": [],
            "description": "",
            "_model_name": "HTMLModel",
            "placeholder": "​",
            "_view_module": "@jupyter-widgets/controls",
            "_model_module_version": "1.5.0",
            "value": " 1649664/? [00:03&lt;00:00, 496936.36it/s]",
            "_view_count": null,
            "_view_module_version": "1.5.0",
            "description_tooltip": null,
            "_model_module": "@jupyter-widgets/controls",
            "layout": "IPY_MODEL_107c711608f4489e9d9701eb73576549"
          }
        },
        "af96f1f80bb644e5be0379d4dd8c79a5": {
          "model_module": "@jupyter-widgets/controls",
          "model_name": "ProgressStyleModel",
          "model_module_version": "1.5.0",
          "state": {
            "_view_name": "StyleView",
            "_model_name": "ProgressStyleModel",
            "description_width": "initial",
            "_view_module": "@jupyter-widgets/base",
            "_model_module_version": "1.5.0",
            "_view_count": null,
            "_view_module_version": "1.2.0",
            "bar_color": null,
            "_model_module": "@jupyter-widgets/controls"
          }
        },
        "6d4478a737554a6c9d12e1c173d9930f": {
          "model_module": "@jupyter-widgets/base",
          "model_name": "LayoutModel",
          "model_module_version": "1.2.0",
          "state": {
            "_view_name": "LayoutView",
            "grid_template_rows": null,
            "right": null,
            "justify_content": null,
            "_view_module": "@jupyter-widgets/base",
            "overflow": null,
            "_model_module_version": "1.2.0",
            "_view_count": null,
            "flex_flow": null,
            "width": null,
            "min_width": null,
            "border": null,
            "align_items": null,
            "bottom": null,
            "_model_module": "@jupyter-widgets/base",
            "top": null,
            "grid_column": null,
            "overflow_y": null,
            "overflow_x": null,
            "grid_auto_flow": null,
            "grid_area": null,
            "grid_template_columns": null,
            "flex": null,
            "_model_name": "LayoutModel",
            "justify_items": null,
            "grid_row": null,
            "max_height": null,
            "align_content": null,
            "visibility": null,
            "align_self": null,
            "height": null,
            "min_height": null,
            "padding": null,
            "grid_auto_rows": null,
            "grid_gap": null,
            "max_width": null,
            "order": null,
            "_view_module_version": "1.2.0",
            "grid_template_areas": null,
            "object_position": null,
            "object_fit": null,
            "grid_auto_columns": null,
            "margin": null,
            "display": null,
            "left": null
          }
        },
        "804035ae69d749c188104879f753c467": {
          "model_module": "@jupyter-widgets/controls",
          "model_name": "DescriptionStyleModel",
          "model_module_version": "1.5.0",
          "state": {
            "_view_name": "StyleView",
            "_model_name": "DescriptionStyleModel",
            "description_width": "",
            "_view_module": "@jupyter-widgets/base",
            "_model_module_version": "1.5.0",
            "_view_count": null,
            "_view_module_version": "1.2.0",
            "_model_module": "@jupyter-widgets/controls"
          }
        },
        "107c711608f4489e9d9701eb73576549": {
          "model_module": "@jupyter-widgets/base",
          "model_name": "LayoutModel",
          "model_module_version": "1.2.0",
          "state": {
            "_view_name": "LayoutView",
            "grid_template_rows": null,
            "right": null,
            "justify_content": null,
            "_view_module": "@jupyter-widgets/base",
            "overflow": null,
            "_model_module_version": "1.2.0",
            "_view_count": null,
            "flex_flow": null,
            "width": null,
            "min_width": null,
            "border": null,
            "align_items": null,
            "bottom": null,
            "_model_module": "@jupyter-widgets/base",
            "top": null,
            "grid_column": null,
            "overflow_y": null,
            "overflow_x": null,
            "grid_auto_flow": null,
            "grid_area": null,
            "grid_template_columns": null,
            "flex": null,
            "_model_name": "LayoutModel",
            "justify_items": null,
            "grid_row": null,
            "max_height": null,
            "align_content": null,
            "visibility": null,
            "align_self": null,
            "height": null,
            "min_height": null,
            "padding": null,
            "grid_auto_rows": null,
            "grid_gap": null,
            "max_width": null,
            "order": null,
            "_view_module_version": "1.2.0",
            "grid_template_areas": null,
            "object_position": null,
            "object_fit": null,
            "grid_auto_columns": null,
            "margin": null,
            "display": null,
            "left": null
          }
        },
        "f7b68125571140cfa1dae69c60c51555": {
          "model_module": "@jupyter-widgets/controls",
          "model_name": "HBoxModel",
          "model_module_version": "1.5.0",
          "state": {
            "_view_name": "HBoxView",
            "_dom_classes": [],
            "_model_name": "HBoxModel",
            "_view_module": "@jupyter-widgets/controls",
            "_model_module_version": "1.5.0",
            "_view_count": null,
            "_view_module_version": "1.5.0",
            "box_style": "",
            "layout": "IPY_MODEL_d85216b3230444c28ccc84e931edfda6",
            "_model_module": "@jupyter-widgets/controls",
            "children": [
              "IPY_MODEL_4bf2b249fbd9495d8a5a07b8144ee537",
              "IPY_MODEL_66434ed170484f099018034b454d4005"
            ]
          }
        },
        "d85216b3230444c28ccc84e931edfda6": {
          "model_module": "@jupyter-widgets/base",
          "model_name": "LayoutModel",
          "model_module_version": "1.2.0",
          "state": {
            "_view_name": "LayoutView",
            "grid_template_rows": null,
            "right": null,
            "justify_content": null,
            "_view_module": "@jupyter-widgets/base",
            "overflow": null,
            "_model_module_version": "1.2.0",
            "_view_count": null,
            "flex_flow": null,
            "width": null,
            "min_width": null,
            "border": null,
            "align_items": null,
            "bottom": null,
            "_model_module": "@jupyter-widgets/base",
            "top": null,
            "grid_column": null,
            "overflow_y": null,
            "overflow_x": null,
            "grid_auto_flow": null,
            "grid_area": null,
            "grid_template_columns": null,
            "flex": null,
            "_model_name": "LayoutModel",
            "justify_items": null,
            "grid_row": null,
            "max_height": null,
            "align_content": null,
            "visibility": null,
            "align_self": null,
            "height": null,
            "min_height": null,
            "padding": null,
            "grid_auto_rows": null,
            "grid_gap": null,
            "max_width": null,
            "order": null,
            "_view_module_version": "1.2.0",
            "grid_template_areas": null,
            "object_position": null,
            "object_fit": null,
            "grid_auto_columns": null,
            "margin": null,
            "display": null,
            "left": null
          }
        },
        "4bf2b249fbd9495d8a5a07b8144ee537": {
          "model_module": "@jupyter-widgets/controls",
          "model_name": "FloatProgressModel",
          "model_module_version": "1.5.0",
          "state": {
            "_view_name": "ProgressView",
            "style": "IPY_MODEL_7b06b96d80674daeb4400892bcbd745f",
            "_dom_classes": [],
            "description": "",
            "_model_name": "FloatProgressModel",
            "bar_style": "success",
            "max": 4542,
            "_view_module": "@jupyter-widgets/controls",
            "_model_module_version": "1.5.0",
            "value": 4542,
            "_view_count": null,
            "_view_module_version": "1.5.0",
            "orientation": "horizontal",
            "min": 0,
            "description_tooltip": null,
            "_model_module": "@jupyter-widgets/controls",
            "layout": "IPY_MODEL_75431ea18a584d67b48e1cb1bb76af9f"
          }
        },
        "66434ed170484f099018034b454d4005": {
          "model_module": "@jupyter-widgets/controls",
          "model_name": "HTMLModel",
          "model_module_version": "1.5.0",
          "state": {
            "_view_name": "HTMLView",
            "style": "IPY_MODEL_ba1e77d152fd4295b5e13341efaeb38a",
            "_dom_classes": [],
            "description": "",
            "_model_name": "HTMLModel",
            "placeholder": "​",
            "_view_module": "@jupyter-widgets/controls",
            "_model_module_version": "1.5.0",
            "value": " 5120/? [00:00&lt;00:00, 127697.95it/s]",
            "_view_count": null,
            "_view_module_version": "1.5.0",
            "description_tooltip": null,
            "_model_module": "@jupyter-widgets/controls",
            "layout": "IPY_MODEL_3b7be83731cb4bee9420a16420f774fd"
          }
        },
        "7b06b96d80674daeb4400892bcbd745f": {
          "model_module": "@jupyter-widgets/controls",
          "model_name": "ProgressStyleModel",
          "model_module_version": "1.5.0",
          "state": {
            "_view_name": "StyleView",
            "_model_name": "ProgressStyleModel",
            "description_width": "initial",
            "_view_module": "@jupyter-widgets/base",
            "_model_module_version": "1.5.0",
            "_view_count": null,
            "_view_module_version": "1.2.0",
            "bar_color": null,
            "_model_module": "@jupyter-widgets/controls"
          }
        },
        "75431ea18a584d67b48e1cb1bb76af9f": {
          "model_module": "@jupyter-widgets/base",
          "model_name": "LayoutModel",
          "model_module_version": "1.2.0",
          "state": {
            "_view_name": "LayoutView",
            "grid_template_rows": null,
            "right": null,
            "justify_content": null,
            "_view_module": "@jupyter-widgets/base",
            "overflow": null,
            "_model_module_version": "1.2.0",
            "_view_count": null,
            "flex_flow": null,
            "width": null,
            "min_width": null,
            "border": null,
            "align_items": null,
            "bottom": null,
            "_model_module": "@jupyter-widgets/base",
            "top": null,
            "grid_column": null,
            "overflow_y": null,
            "overflow_x": null,
            "grid_auto_flow": null,
            "grid_area": null,
            "grid_template_columns": null,
            "flex": null,
            "_model_name": "LayoutModel",
            "justify_items": null,
            "grid_row": null,
            "max_height": null,
            "align_content": null,
            "visibility": null,
            "align_self": null,
            "height": null,
            "min_height": null,
            "padding": null,
            "grid_auto_rows": null,
            "grid_gap": null,
            "max_width": null,
            "order": null,
            "_view_module_version": "1.2.0",
            "grid_template_areas": null,
            "object_position": null,
            "object_fit": null,
            "grid_auto_columns": null,
            "margin": null,
            "display": null,
            "left": null
          }
        },
        "ba1e77d152fd4295b5e13341efaeb38a": {
          "model_module": "@jupyter-widgets/controls",
          "model_name": "DescriptionStyleModel",
          "model_module_version": "1.5.0",
          "state": {
            "_view_name": "StyleView",
            "_model_name": "DescriptionStyleModel",
            "description_width": "",
            "_view_module": "@jupyter-widgets/base",
            "_model_module_version": "1.5.0",
            "_view_count": null,
            "_view_module_version": "1.2.0",
            "_model_module": "@jupyter-widgets/controls"
          }
        },
        "3b7be83731cb4bee9420a16420f774fd": {
          "model_module": "@jupyter-widgets/base",
          "model_name": "LayoutModel",
          "model_module_version": "1.2.0",
          "state": {
            "_view_name": "LayoutView",
            "grid_template_rows": null,
            "right": null,
            "justify_content": null,
            "_view_module": "@jupyter-widgets/base",
            "overflow": null,
            "_model_module_version": "1.2.0",
            "_view_count": null,
            "flex_flow": null,
            "width": null,
            "min_width": null,
            "border": null,
            "align_items": null,
            "bottom": null,
            "_model_module": "@jupyter-widgets/base",
            "top": null,
            "grid_column": null,
            "overflow_y": null,
            "overflow_x": null,
            "grid_auto_flow": null,
            "grid_area": null,
            "grid_template_columns": null,
            "flex": null,
            "_model_name": "LayoutModel",
            "justify_items": null,
            "grid_row": null,
            "max_height": null,
            "align_content": null,
            "visibility": null,
            "align_self": null,
            "height": null,
            "min_height": null,
            "padding": null,
            "grid_auto_rows": null,
            "grid_gap": null,
            "max_width": null,
            "order": null,
            "_view_module_version": "1.2.0",
            "grid_template_areas": null,
            "object_position": null,
            "object_fit": null,
            "grid_auto_columns": null,
            "margin": null,
            "display": null,
            "left": null
          }
        }
      }
    }
  },
  "cells": [
    {
      "cell_type": "markdown",
      "metadata": {
        "id": "FKHubOpFqjHs"
      },
      "source": [
        "# Seminar 4: SVI"
      ]
    },
    {
      "cell_type": "code",
      "metadata": {
        "colab": {
          "base_uri": "https://localhost:8080/"
        },
        "id": "APLVsKCHzBxf",
        "outputId": "a14f0842-b639-4bb2-b309-bf5d36bf25e1"
      },
      "source": [
        "!pip install pyro-ppl"
      ],
      "execution_count": null,
      "outputs": [
        {
          "output_type": "stream",
          "text": [
            "Collecting pyro-ppl\n",
            "\u001b[?25l  Downloading https://files.pythonhosted.org/packages/aa/7a/fbab572fd385154a0c07b0fa138683aa52e14603bb83d37b198e5f9269b1/pyro_ppl-1.6.0-py3-none-any.whl (634kB)\n",
            "\u001b[K     |████████████████████████████████| 634kB 8.6MB/s \n",
            "\u001b[?25hRequirement already satisfied: opt-einsum>=2.3.2 in /usr/local/lib/python3.7/dist-packages (from pyro-ppl) (3.3.0)\n",
            "Collecting pyro-api>=0.1.1\n",
            "  Downloading https://files.pythonhosted.org/packages/fc/81/957ae78e6398460a7230b0eb9b8f1cb954c5e913e868e48d89324c68cec7/pyro_api-0.1.2-py3-none-any.whl\n",
            "Requirement already satisfied: torch>=1.8.0 in /usr/local/lib/python3.7/dist-packages (from pyro-ppl) (1.8.1+cu101)\n",
            "Requirement already satisfied: tqdm>=4.36 in /usr/local/lib/python3.7/dist-packages (from pyro-ppl) (4.41.1)\n",
            "Requirement already satisfied: numpy>=1.7 in /usr/local/lib/python3.7/dist-packages (from pyro-ppl) (1.19.5)\n",
            "Requirement already satisfied: typing-extensions in /usr/local/lib/python3.7/dist-packages (from torch>=1.8.0->pyro-ppl) (3.7.4.3)\n",
            "Installing collected packages: pyro-api, pyro-ppl\n",
            "Successfully installed pyro-api-0.1.2 pyro-ppl-1.6.0\n"
          ],
          "name": "stdout"
        }
      ]
    },
    {
      "cell_type": "code",
      "metadata": {
        "colab": {
          "base_uri": "https://localhost:8080/",
          "height": 37
        },
        "id": "2KDRBVbEMml_",
        "outputId": "57e8f915-6670-4495-bbe2-964195b2b7cd"
      },
      "source": [
        "import os\n",
        "from functools import partial\n",
        "import numpy as np\n",
        "import math\n",
        "import pandas as pd\n",
        "import seaborn as sns\n",
        "import torch\n",
        "from torch import nn\n",
        "import matplotlib.pyplot as plt\n",
        "\n",
        "import pyro\n",
        "import pyro.distributions as dist\n",
        "from pyro.optim import Adam\n",
        "from pyro.infer import SVI, Trace_ELBO\n",
        "import pyro.distributions as dist\n",
        "from pyro.distributions import constraints\n",
        "\n",
        "device = 'cpu'\n",
        "device"
      ],
      "execution_count": null,
      "outputs": [
        {
          "output_type": "execute_result",
          "data": {
            "application/vnd.google.colaboratory.intrinsic+json": {
              "type": "string"
            },
            "text/plain": [
              "'cpu'"
            ]
          },
          "metadata": {
            "tags": []
          },
          "execution_count": 3
        }
      ]
    },
    {
      "cell_type": "code",
      "metadata": {
        "id": "RKiewIHGy4Se"
      },
      "source": [
        "pyro.enable_validation(True)\n",
        "pyro.set_rng_seed(1)\n",
        "pyro.enable_validation(True)\n",
        "\n",
        "# set matplotlib settings\n",
        "%matplotlib inline\n",
        "plt.style.use('default')"
      ],
      "execution_count": null,
      "outputs": []
    },
    {
      "cell_type": "markdown",
      "metadata": {
        "id": "l1AIZdDLp96n"
      },
      "source": [
        "# Coin example\n",
        "http://pyro.ai/examples/svi_part_i.html"
      ]
    },
    {
      "cell_type": "code",
      "metadata": {
        "id": "f0T3LAkQp77c"
      },
      "source": [
        "# clear all information about previuos parameters - we don't need it anymore\n",
        "pyro.clear_param_store()"
      ],
      "execution_count": null,
      "outputs": []
    },
    {
      "cell_type": "markdown",
      "metadata": {
        "id": "ZgjeliGlqjH7"
      },
      "source": [
        "Consider a two-sided coin. We want to determine whether the coin is fair or not, i.e. whether it falls heads or tails with the same frequency. <br>\n",
        "We have that $P(X = \\text{tail}) = p$ and we want to check wether the $p$ is equal to $0.5$."
      ]
    },
    {
      "cell_type": "code",
      "metadata": {
        "colab": {
          "base_uri": "https://localhost:8080/"
        },
        "id": "n7hGUuJreOn8",
        "outputId": "846ccf59-c5e9-4e42-bb67-4a13596f3c85"
      },
      "source": [
        "# Let's create a data with 10 tails and 20 heads\n",
        "tails_number = 10\n",
        "heads_number = 20\n",
        "\n",
        "data = torch.cat((torch.ones(tails_number), torch.zeros(heads_number)))\n",
        "data"
      ],
      "execution_count": null,
      "outputs": [
        {
          "output_type": "execute_result",
          "data": {
            "text/plain": [
              "tensor([1., 1., 1., 1., 1., 1., 1., 1., 1., 1., 0., 0., 0., 0., 0., 0., 0., 0.,\n",
              "        0., 0., 0., 0., 0., 0., 0., 0., 0., 0., 0., 0.])"
            ]
          },
          "metadata": {
            "tags": []
          },
          "execution_count": 6
        }
      ]
    },
    {
      "cell_type": "markdown",
      "metadata": {
        "id": "F4weyK8NqjH_"
      },
      "source": [
        "We have a prior that the coin is quite fair. As such distribution we get $Beta(10, 10)$ distribution that has mode at 0.5 and simmetric around it:"
      ]
    },
    {
      "cell_type": "code",
      "metadata": {
        "colab": {
          "base_uri": "https://localhost:8080/",
          "height": 468
        },
        "id": "WcSfMuDjqjIA",
        "outputId": "3bde0f0f-9a00-4884-e47a-2a7c079b646b"
      },
      "source": [
        "from scipy import stats\n",
        "\n",
        "x = np.linspace(0, 1, 100)\n",
        "y = stats.beta(50, 50).pdf(x)\n",
        "\n",
        "plt.figure(figsize=(10,5))\n",
        "plt.plot(x, y, label='Beta(10, 10)')\n",
        "plt.legend()\n",
        "plt.title('Prior distribution')\n",
        "plt.show()"
      ],
      "execution_count": null,
      "outputs": [
        {
          "output_type": "display_data",
          "data": {
            "image/png": "[encoded data removed]",
            "text/plain": [
              "<Figure size 1000x500 with 1 Axes>"
            ]
          },
          "metadata": {
            "tags": []
          }
        }
      ]
    },
    {
      "cell_type": "code",
      "metadata": {
        "id": "bdTgHKc4fWSI"
      },
      "source": [
        "def model(data): \n",
        "    \"\"\"\n",
        "    Our model: \n",
        "    * sample a parameter 'p' from prior distribution.\n",
        "    * set our observations to coin distribuion.\n",
        "    \"\"\"  \n",
        "    # define the prior Beta-distribution\n",
        "    alpha_zero = torch.tensor(10.0).to(data.device)\n",
        "    beta_zero = torch.tensor(10.0).to(data.device)\n",
        "    # sample probability 'p' from prior distribuion.\n",
        "    fairness = pyro.sample(\"latent_fairness\", dist.Beta(alpha_zero, beta_zero))\n",
        "\n",
        "    # Iterate over our observations\n",
        "    for i in range(len(data)):\n",
        "        # Define how we observe our random variable (coin)\n",
        "        pyro.sample(\"obs_{}\".format(i), dist.Bernoulli(fairness), obs=data[i])"
      ],
      "execution_count": null,
      "outputs": []
    },
    {
      "cell_type": "code",
      "metadata": {
        "id": "3xlsQu-igGxu"
      },
      "source": [
        "def guide(data):\n",
        "    # we setup the distribuion family\n",
        "    # initial values we setup from our data.\n",
        "    alpha_q = pyro.param(\"alpha_q\", data.sum(),\n",
        "                        constraint=constraints.positive)\n",
        "    beta_q = pyro.param(\"beta_q\", len(data) - data.sum(),\n",
        "                      constraint=constraints.positive)\n",
        "    # As posterior we get Beta(alpha_q, beta_q) distribution\n",
        "    pyro.sample(\"latent_fairness\", dist.Beta(alpha_q, beta_q))"
      ],
      "execution_count": null,
      "outputs": []
    },
    {
      "cell_type": "code",
      "metadata": {
        "id": "RHzS5-CuhA38"
      },
      "source": [
        "# setup the optimizer + scheduler\n",
        "adam_parameters = {\"lr\": 0.1, \"betas\": (0.90, 0.999)}\n",
        "\n",
        "optimizer = torch.optim.Adam\n",
        "scheduler = pyro.optim.ExponentialLR({'optimizer': optimizer, 'optim_args': adam_parameters, 'gamma': 0.998})\n",
        "\n",
        "# setup the inference algorithm\n",
        "svi = SVI(model, guide, scheduler, loss=Trace_ELBO())"
      ],
      "execution_count": null,
      "outputs": []
    },
    {
      "cell_type": "code",
      "metadata": {
        "colab": {
          "base_uri": "https://localhost:8080/"
        },
        "id": "ZvkZUxJRktq_",
        "outputId": "fb60c226-b9ff-40fb-c96c-0a9ba8da4b48"
      },
      "source": [
        "pyro.clear_param_store()\n",
        "pyro.set_rng_seed(0)\n",
        "\n",
        "step_number = 2000\n",
        "\n",
        "alphas = []\n",
        "betas = []\n",
        "\n",
        "data = data.to(device)\n",
        "\n",
        "for j in range(step_number):\n",
        "    # calculate the loss and take a gradient step\n",
        "    loss = svi.step(data)\n",
        "    scheduler.step()\n",
        "    alphas.append(pyro.param(\"alpha_q\").item())\n",
        "    betas.append(pyro.param(\"beta_q\").item())\n",
        "    if j % 100 == 0:\n",
        "        print(\"[iteration {:} / {:}] loss: {:.4}, {:.2f}\".format(j + 1, step_number, loss, alphas[-1]))"
      ],
      "execution_count": null,
      "outputs": [
        {
          "output_type": "stream",
          "text": [
            "[iteration 1 / 2000] loss: 19.33, 9.05\n",
            "[iteration 101 / 2000] loss: 19.94, 12.51\n",
            "[iteration 201 / 2000] loss: 20.07, 17.57\n",
            "[iteration 301 / 2000] loss: 20.23, 18.42\n",
            "[iteration 401 / 2000] loss: 20.14, 19.00\n",
            "[iteration 501 / 2000] loss: 20.21, 18.64\n",
            "[iteration 601 / 2000] loss: 20.18, 19.66\n",
            "[iteration 701 / 2000] loss: 20.34, 19.47\n",
            "[iteration 801 / 2000] loss: 20.24, 19.39\n",
            "[iteration 901 / 2000] loss: 21.33, 18.42\n",
            "[iteration 1001 / 2000] loss: 20.03, 20.72\n",
            "[iteration 1101 / 2000] loss: 20.28, 20.27\n",
            "[iteration 1201 / 2000] loss: 20.48, 19.70\n",
            "[iteration 1301 / 2000] loss: 20.35, 20.57\n",
            "[iteration 1401 / 2000] loss: 20.23, 19.63\n",
            "[iteration 1501 / 2000] loss: 20.25, 19.53\n",
            "[iteration 1601 / 2000] loss: 20.08, 18.68\n",
            "[iteration 1701 / 2000] loss: 20.41, 19.91\n",
            "[iteration 1801 / 2000] loss: 20.24, 19.48\n",
            "[iteration 1901 / 2000] loss: 20.21, 19.58\n"
          ],
          "name": "stdout"
        }
      ]
    },
    {
      "cell_type": "code",
      "metadata": {
        "colab": {
          "base_uri": "https://localhost:8080/",
          "height": 468
        },
        "id": "mXdoDsINqjIG",
        "outputId": "b371d5da-e7d3-4b41-ae3d-5800f4cdcd34"
      },
      "source": [
        "fig, ax = plt.subplots(1, 2, figsize=(12, 5))\n",
        "ax[0].plot(alphas)\n",
        "ax[0].set_title('alpha')\n",
        "\n",
        "ax[1].plot(betas)\n",
        "ax[1].set_title('beta')\n",
        "\n",
        "plt.show()"
      ],
      "execution_count": null,
      "outputs": [
        {
          "output_type": "display_data",
          "data": {
            "image/png": "[encoded data removed]",
            "text/plain": [
              "<Figure size 1200x500 with 2 Axes>"
            ]
          },
          "metadata": {
            "tags": []
          }
        }
      ]
    },
    {
      "cell_type": "code",
      "metadata": {
        "colab": {
          "base_uri": "https://localhost:8080/"
        },
        "id": "ehBBCzd-oeK6",
        "outputId": "336901c4-4170-4770-9dc0-6fd89af0f7c4"
      },
      "source": [
        "for name, value in pyro.get_param_store().items():\n",
        "    print(name, pyro.param(name))"
      ],
      "execution_count": null,
      "outputs": [
        {
          "output_type": "stream",
          "text": [
            "alpha_q tensor(19.6952, grad_fn=<AddBackward0>)\n",
            "beta_q tensor(29.0154, grad_fn=<AddBackward0>)\n"
          ],
          "name": "stdout"
        }
      ]
    },
    {
      "cell_type": "code",
      "metadata": {
        "id": "aGteZXmzlQ41"
      },
      "source": [
        "# Get our posterior parameters\n",
        "alpha_q = pyro.param(\"alpha_q\").item()\n",
        "beta_q = pyro.param(\"beta_q\").item()"
      ],
      "execution_count": null,
      "outputs": []
    },
    {
      "cell_type": "markdown",
      "metadata": {
        "id": "5Y4uzFGAqjIN"
      },
      "source": [
        "To compute mean and std of our posterior distribution we use that our posterior is $Beta(\\alpha, \\beta)$:\n",
        "\n",
        "$$\n",
        "E[X] = \\frac{\\alpha}{\\alpha+\\beta},\\;\\;\\; Var[X] = \\frac{\\alpha\\beta}{(\\alpha+\\beta)^2(1+\\alpha+\\beta)}\n",
        "$$"
      ]
    },
    {
      "cell_type": "code",
      "metadata": {
        "colab": {
          "base_uri": "https://localhost:8080/"
        },
        "id": "1c7y0RJRlU7N",
        "outputId": "b5f1802f-81a4-49a3-f5a3-08d58042219d"
      },
      "source": [
        "# here we use some facts about the beta distribution\n",
        "# compute the inferred mean of the coin's fairness\n",
        "inferred_mean = alpha_q / (alpha_q + beta_q)\n",
        "# compute inferred standard deviation\n",
        "inferred_std = math.sqrt(alpha_q * beta_q / (alpha_q + beta_q)**2 / (1.0 + alpha_q + beta_q))\n",
        "\n",
        "print(\"\\nBased on the data and our prior belief, the fairness \" +\n",
        "      \"of the coin is %.3f +- %.3f\" % (inferred_mean, inferred_std))"
      ],
      "execution_count": null,
      "outputs": [
        {
          "output_type": "stream",
          "text": [
            "\n",
            "Based on the data and our prior belief, the fairness of the coin is 0.404 +- 0.070\n"
          ],
          "name": "stdout"
        }
      ]
    },
    {
      "cell_type": "markdown",
      "metadata": {
        "id": "9pl73Lz_sS2v"
      },
      "source": [
        "And the truth mean and std are 0.4 +- 0.069. Our results are very close!"
      ]
    },
    {
      "cell_type": "code",
      "metadata": {
        "colab": {
          "base_uri": "https://localhost:8080/"
        },
        "id": "K9h0xMRyUIB0",
        "outputId": "eb5ac00d-fc27-4457-a01d-8af954541ce7"
      },
      "source": [
        "data = torch.tensor([60.3056, 54.1595, 65.3077, 46.0886, 61.0433, 34.0259, 36.2355, 56.7801,\n",
        "        53.0407, 33.0134])\n",
        "data.mean()"
      ],
      "execution_count": null,
      "outputs": [
        {
          "output_type": "execute_result",
          "data": {
            "text/plain": [
              "tensor(50.0000)"
            ]
          },
          "metadata": {
            "tags": []
          },
          "execution_count": 40
        }
      ]
    },
    {
      "cell_type": "code",
      "metadata": {
        "id": "jRyoBhcuSplv"
      },
      "source": [
        "def model(data): \n",
        "    \"\"\"\n",
        "    Our model: \n",
        "    * sample a parameter 'p' from prior distribution.\n",
        "    * set our observations to coin distribuion.\n",
        "    \"\"\"  \n",
        "    # define the prior Beta-distribution\n",
        "    a0 = torch.tensor(90.0).to(data.device)\n",
        "    s = torch.tensor(19.0).to(data.device)\n",
        "    # sample probability 'p' from prior distribuion.\n",
        "    a = pyro.sample(\"a\", dist.Normal(a0, s**0.5))\n",
        "\n",
        "    # Iterate over our observations\n",
        "    for i in range(len(data)):\n",
        "        # Define how we observe our random variable (coin)\n",
        "        pyro.sample(\"obs_{}\".format(i), dist.Normal(a, 10), obs=data[i])"
      ],
      "execution_count": null,
      "outputs": []
    },
    {
      "cell_type": "code",
      "metadata": {
        "id": "eFp36dbqTJ9-"
      },
      "source": [
        "def guide(data):\n",
        "    # we setup the distribuion family\n",
        "    # initial values we setup from our data.\n",
        "    a = pyro.param(\"a_q\", data.mean())\n",
        "    s = pyro.param(\"s_q\", data.std(), constraint=constraints.positive)\n",
        "    # As posterior we get Beta(alpha_q, beta_q) distribution\n",
        "    pyro.sample(\"a\", dist.Normal(a, s**0.5))"
      ],
      "execution_count": null,
      "outputs": []
    },
    {
      "cell_type": "code",
      "metadata": {
        "colab": {
          "base_uri": "https://localhost:8080/"
        },
        "id": "t3NSIBazVCHs",
        "outputId": "1b0fd925-51fc-459f-9f16-e03bebf13aa6"
      },
      "source": [
        "# setup the optimizer + scheduler\n",
        "adam_parameters = {\"lr\": 0.01, \"betas\": (0.90, 0.999)}\n",
        "\n",
        "optimizer = torch.optim.Adam\n",
        "scheduler = pyro.optim.ExponentialLR({'optimizer': optimizer, 'optim_args': adam_parameters, 'gamma': 1.0})\n",
        "\n",
        "# setup the inference algorithm\n",
        "svi = SVI(model, guide, scheduler, loss=Trace_ELBO())\n",
        "\n",
        "pyro.clear_param_store()\n",
        "pyro.set_rng_seed(0)\n",
        "\n",
        "step_number = 5000\n",
        "\n",
        "alphas = []\n",
        "betas = []\n",
        "\n",
        "data = data.to(device)\n",
        "\n",
        "for j in range(step_number):\n",
        "    # calculate the loss and take a gradient step\n",
        "    loss = svi.step(data)\n",
        "    scheduler.step()\n",
        "    alphas.append(pyro.param(\"a_q\").item())\n",
        "    betas.append(pyro.param(\"s_q\").item())\n",
        "    if j % 100 == 0:\n",
        "        print(\"[iteration {:} / {:}] loss: {:.4},| {:.2f}, {:.2f}\".format(j + 1, step_number, loss, alphas[-1], betas[-1]))"
      ],
      "execution_count": null,
      "outputs": [
        {
          "output_type": "stream",
          "text": [
            "[iteration 1 / 5000] loss: 70.74,| 50.01, 12.06\n",
            "[iteration 101 / 5000] loss: 71.08,| 50.95, 10.60\n",
            "[iteration 201 / 5000] loss: 80.04,| 51.87, 9.59\n",
            "[iteration 301 / 5000] loss: 78.77,| 52.74, 9.69\n",
            "[iteration 401 / 5000] loss: 73.98,| 53.59, 9.18\n",
            "[iteration 501 / 5000] loss: 79.75,| 54.41, 8.42\n",
            "[iteration 601 / 5000] loss: 74.05,| 55.22, 7.14\n",
            "[iteration 701 / 5000] loss: 73.32,| 55.96, 7.11\n",
            "[iteration 801 / 5000] loss: 69.42,| 56.65, 7.11\n",
            "[iteration 901 / 5000] loss: 70.93,| 57.29, 7.25\n",
            "[iteration 1001 / 5000] loss: 68.69,| 57.92, 7.26\n",
            "[iteration 1101 / 5000] loss: 67.77,| 58.54, 6.86\n",
            "[iteration 1201 / 5000] loss: 66.72,| 59.10, 7.15\n",
            "[iteration 1301 / 5000] loss: 66.6,| 59.61, 7.20\n",
            "[iteration 1401 / 5000] loss: 67.52,| 60.10, 7.29\n",
            "[iteration 1501 / 5000] loss: 66.74,| 60.52, 7.56\n",
            "[iteration 1601 / 5000] loss: 67.47,| 60.92, 8.00\n",
            "[iteration 1701 / 5000] loss: 68.79,| 61.31, 8.12\n",
            "[iteration 1801 / 5000] loss: 66.64,| 61.70, 6.98\n",
            "[iteration 1901 / 5000] loss: 66.14,| 61.98, 6.74\n",
            "[iteration 2001 / 5000] loss: 66.78,| 62.23, 6.96\n",
            "[iteration 2101 / 5000] loss: 66.23,| 62.47, 6.58\n",
            "[iteration 2201 / 5000] loss: 66.55,| 62.67, 6.71\n",
            "[iteration 2301 / 5000] loss: 66.93,| 62.90, 6.52\n",
            "[iteration 2401 / 5000] loss: 66.4,| 63.08, 6.57\n",
            "[iteration 2501 / 5000] loss: 67.0,| 63.26, 6.71\n",
            "[iteration 2601 / 5000] loss: 66.39,| 63.28, 6.34\n",
            "[iteration 2701 / 5000] loss: 66.79,| 63.31, 6.61\n",
            "[iteration 2801 / 5000] loss: 66.92,| 63.34, 6.32\n",
            "[iteration 2901 / 5000] loss: 66.58,| 63.47, 6.55\n",
            "[iteration 3001 / 5000] loss: 66.73,| 63.61, 6.52\n",
            "[iteration 3101 / 5000] loss: 66.7,| 63.70, 6.58\n",
            "[iteration 3201 / 5000] loss: 66.69,| 63.62, 6.68\n",
            "[iteration 3301 / 5000] loss: 66.69,| 63.65, 6.17\n",
            "[iteration 3401 / 5000] loss: 66.76,| 63.75, 6.40\n",
            "[iteration 3501 / 5000] loss: 66.82,| 63.84, 5.74\n",
            "[iteration 3601 / 5000] loss: 66.79,| 63.78, 6.02\n",
            "[iteration 3701 / 5000] loss: 66.78,| 63.83, 6.03\n",
            "[iteration 3801 / 5000] loss: 66.69,| 63.65, 6.43\n",
            "[iteration 3901 / 5000] loss: 66.76,| 63.61, 6.70\n",
            "[iteration 4001 / 5000] loss: 66.8,| 63.64, 6.11\n",
            "[iteration 4101 / 5000] loss: 66.78,| 63.85, 5.73\n",
            "[iteration 4201 / 5000] loss: 66.78,| 63.84, 5.73\n",
            "[iteration 4301 / 5000] loss: 66.64,| 63.89, 6.26\n",
            "[iteration 4401 / 5000] loss: 66.76,| 63.82, 6.41\n",
            "[iteration 4501 / 5000] loss: 66.7,| 63.70, 7.24\n",
            "[iteration 4601 / 5000] loss: 66.64,| 63.72, 5.78\n",
            "[iteration 4701 / 5000] loss: 66.75,| 63.89, 5.98\n",
            "[iteration 4801 / 5000] loss: 66.75,| 63.95, 5.81\n",
            "[iteration 4901 / 5000] loss: 66.74,| 63.86, 6.61\n"
          ],
          "name": "stdout"
        }
      ]
    },
    {
      "cell_type": "code",
      "metadata": {
        "colab": {
          "base_uri": "https://localhost:8080/",
          "height": 468
        },
        "id": "MdLHp8TDVgGn",
        "outputId": "ccf677ea-06f4-4ab3-999d-a7e6b89de578"
      },
      "source": [
        "fig, ax = plt.subplots(1, 2, figsize=(12, 5))\n",
        "ax[0].plot(alphas)\n",
        "ax[0].set_title('alpha')\n",
        "\n",
        "ax[1].plot(betas)\n",
        "ax[1].set_title('beta')\n",
        "\n",
        "plt.show()"
      ],
      "execution_count": null,
      "outputs": [
        {
          "output_type": "display_data",
          "data": {
            "image/png": "[encoded data removed]",
            "text/plain": [
              "<Figure size 1200x500 with 2 Axes>"
            ]
          },
          "metadata": {
            "tags": []
          }
        }
      ]
    },
    {
      "cell_type": "markdown",
      "metadata": {
        "id": "SBwC_XpzqjIQ"
      },
      "source": [
        "# VAE: PyTorch vs Pyro"
      ]
    },
    {
      "cell_type": "markdown",
      "metadata": {
        "id": "yCjTknqRqjIR"
      },
      "source": [
        "Now we will try to compare PyTroch and Pyro implemeantations of Variational AutoEncoder (VAE)."
      ]
    },
    {
      "cell_type": "code",
      "metadata": {
        "colab": {
          "base_uri": "https://localhost:8080/",
          "height": 37
        },
        "id": "jdkpzpRSqjIR",
        "outputId": "19800625-e5b1-4326-9efd-44c5e7fa9a48"
      },
      "source": [
        "import torch\n",
        "from torch import nn\n",
        "from torch.functional import F\n",
        "import torchvision\n",
        "from torchvision import transforms\n",
        "\n",
        "pyro.distributions.enable_validation(False)\n",
        "\n",
        "device = 'cuda' if torch.cuda.is_available() else 'cpu'\n",
        "device"
      ],
      "execution_count": null,
      "outputs": [
        {
          "output_type": "execute_result",
          "data": {
            "application/vnd.google.colaboratory.intrinsic+json": {
              "type": "string"
            },
            "text/plain": [
              "'cuda'"
            ]
          },
          "metadata": {
            "tags": []
          },
          "execution_count": 19
        }
      ]
    },
    {
      "cell_type": "markdown",
      "metadata": {
        "id": "02s7DeNJqjIS"
      },
      "source": [
        "We condsider MNIST dataset."
      ]
    },
    {
      "cell_type": "code",
      "metadata": {
        "colab": {
          "base_uri": "https://localhost:8080/",
          "height": 845,
          "referenced_widgets": [
            "1ffe513dbdff4c10af18b1b8cfc5e2d4",
            "cc32d725ef4943b7910d19b1bbfe58f0",
            "8d7d8da542e944a1aec17d48868e2a61",
            "93ad6cf232c04065920c02adfc5bc223",
            "a44e2611eef94f2c8b167873bc91964a",
            "4e61f80774d04e6d80b4a51deee142ab",
            "eac2fdbea7204127b2ea50c34f5234a3",
            "d514210cf22e42e4a505ddfb6d2a7d5c",
            "4a095f9a10204d7c8d0d8f6a06be5266",
            "42fceae71df4409cbd5db666307e37b0",
            "ef42681587a5475e90b894113b3097bb",
            "f40b7f4a525b46beb4d19a4930c57867",
            "321febe9731349e7b26327124f582d39",
            "72e5de053f7d4647beb111334fdd2a27",
            "e71986a777b44454b02d055a54fff884",
            "5d718481118240f690323bf4c280760f",
            "9a385017eff64132971bf08fdc13bd53",
            "e057b41eb6084cb9b24ff0a316bd471b",
            "ae74978a73d84202adf23d80f695e28e",
            "38c5acb3857343c8be134c6e03ced54c",
            "af96f1f80bb644e5be0379d4dd8c79a5",
            "6d4478a737554a6c9d12e1c173d9930f",
            "804035ae69d749c188104879f753c467",
            "107c711608f4489e9d9701eb73576549",
            "f7b68125571140cfa1dae69c60c51555",
            "d85216b3230444c28ccc84e931edfda6",
            "4bf2b249fbd9495d8a5a07b8144ee537",
            "66434ed170484f099018034b454d4005",
            "7b06b96d80674daeb4400892bcbd745f",
            "75431ea18a584d67b48e1cb1bb76af9f",
            "ba1e77d152fd4295b5e13341efaeb38a",
            "3b7be83731cb4bee9420a16420f774fd"
          ]
        },
        "id": "35nkoaKDqjIS",
        "outputId": "ca77a61e-6a72-4e29-d3c3-8d8982da8043"
      },
      "source": [
        "train_set = torchvision.datasets.MNIST(root='./', train=True, transform=transforms.ToTensor(),\n",
        "                  download=True)\n",
        "test_set = torchvision.datasets.MNIST(root='./', train=False, transform=transforms.ToTensor())\n",
        "\n",
        "train_loader = torch.utils.data.DataLoader(dataset=train_set,\n",
        "                                           batch_size=128, shuffle=True)\n",
        "test_loader = torch.utils.data.DataLoader(dataset=test_set,\n",
        "                                          batch_size=128, shuffle=False)\n"
      ],
      "execution_count": null,
      "outputs": [
        {
          "output_type": "stream",
          "text": [
            "Downloading http://yann.lecun.com/exdb/mnist/train-images-idx3-ubyte.gz\n",
            "Failed to download (trying next):\n",
            "HTTP Error 503: Service Unavailable\n",
            "\n",
            "Downloading https://ossci-datasets.s3.amazonaws.com/mnist/train-images-idx3-ubyte.gz\n",
            "Downloading https://ossci-datasets.s3.amazonaws.com/mnist/train-images-idx3-ubyte.gz to ./MNIST/raw/train-images-idx3-ubyte.gz\n"
          ],
          "name": "stdout"
        },
        {
          "output_type": "display_data",
          "data": {
            "application/vnd.jupyter.widget-view+json": {
              "model_id": "1ffe513dbdff4c10af18b1b8cfc5e2d4",
              "version_minor": 0,
              "version_major": 2
            },
            "text/plain": [
              "HBox(children=(FloatProgress(value=0.0, max=9912422.0), HTML(value='')))"
            ]
          },
          "metadata": {
            "tags": []
          }
        },
        {
          "output_type": "stream",
          "text": [
            "\n",
            "Extracting ./MNIST/raw/train-images-idx3-ubyte.gz to ./MNIST/raw\n",
            "\n",
            "Downloading http://yann.lecun.com/exdb/mnist/train-labels-idx1-ubyte.gz\n",
            "Failed to download (trying next):\n",
            "HTTP Error 503: Service Unavailable\n",
            "\n",
            "Downloading https://ossci-datasets.s3.amazonaws.com/mnist/train-labels-idx1-ubyte.gz\n",
            "Downloading https://ossci-datasets.s3.amazonaws.com/mnist/train-labels-idx1-ubyte.gz to ./MNIST/raw/train-labels-idx1-ubyte.gz\n"
          ],
          "name": "stdout"
        },
        {
          "output_type": "display_data",
          "data": {
            "application/vnd.jupyter.widget-view+json": {
              "model_id": "4a095f9a10204d7c8d0d8f6a06be5266",
              "version_minor": 0,
              "version_major": 2
            },
            "text/plain": [
              "HBox(children=(FloatProgress(value=0.0, max=28881.0), HTML(value='')))"
            ]
          },
          "metadata": {
            "tags": []
          }
        },
        {
          "output_type": "stream",
          "text": [
            "\n",
            "Extracting ./MNIST/raw/train-labels-idx1-ubyte.gz to ./MNIST/raw\n",
            "\n",
            "Downloading http://yann.lecun.com/exdb/mnist/t10k-images-idx3-ubyte.gz\n",
            "Failed to download (trying next):\n",
            "HTTP Error 503: Service Unavailable\n",
            "\n",
            "Downloading https://ossci-datasets.s3.amazonaws.com/mnist/t10k-images-idx3-ubyte.gz\n",
            "Downloading https://ossci-datasets.s3.amazonaws.com/mnist/t10k-images-idx3-ubyte.gz to ./MNIST/raw/t10k-images-idx3-ubyte.gz\n"
          ],
          "name": "stdout"
        },
        {
          "output_type": "display_data",
          "data": {
            "application/vnd.jupyter.widget-view+json": {
              "model_id": "9a385017eff64132971bf08fdc13bd53",
              "version_minor": 0,
              "version_major": 2
            },
            "text/plain": [
              "HBox(children=(FloatProgress(value=0.0, max=1648877.0), HTML(value='')))"
            ]
          },
          "metadata": {
            "tags": []
          }
        },
        {
          "output_type": "stream",
          "text": [
            "\n",
            "Extracting ./MNIST/raw/t10k-images-idx3-ubyte.gz to ./MNIST/raw\n",
            "\n",
            "Downloading http://yann.lecun.com/exdb/mnist/t10k-labels-idx1-ubyte.gz\n",
            "Failed to download (trying next):\n",
            "HTTP Error 503: Service Unavailable\n",
            "\n",
            "Downloading https://ossci-datasets.s3.amazonaws.com/mnist/t10k-labels-idx1-ubyte.gz\n",
            "Downloading https://ossci-datasets.s3.amazonaws.com/mnist/t10k-labels-idx1-ubyte.gz to ./MNIST/raw/t10k-labels-idx1-ubyte.gz\n"
          ],
          "name": "stdout"
        },
        {
          "output_type": "display_data",
          "data": {
            "application/vnd.jupyter.widget-view+json": {
              "model_id": "f7b68125571140cfa1dae69c60c51555",
              "version_minor": 0,
              "version_major": 2
            },
            "text/plain": [
              "HBox(children=(FloatProgress(value=0.0, max=4542.0), HTML(value='')))"
            ]
          },
          "metadata": {
            "tags": []
          }
        },
        {
          "output_type": "stream",
          "text": [
            "\n",
            "Extracting ./MNIST/raw/t10k-labels-idx1-ubyte.gz to ./MNIST/raw\n",
            "\n",
            "Processing...\n",
            "Done!\n"
          ],
          "name": "stdout"
        },
        {
          "output_type": "stream",
          "text": [
            "/usr/local/lib/python3.7/dist-packages/torchvision/datasets/mnist.py:502: UserWarning: The given NumPy array is not writeable, and PyTorch does not support non-writeable tensors. This means you can write to the underlying (supposedly non-writeable) NumPy array using the tensor. You may want to copy the array to protect its data or make it writeable before converting it to a tensor. This type of warning will be suppressed for the rest of this program. (Triggered internally at  /pytorch/torch/csrc/utils/tensor_numpy.cpp:143.)\n",
            "  return torch.from_numpy(parsed.astype(m[2], copy=False)).view(*s)\n"
          ],
          "name": "stderr"
        }
      ]
    },
    {
      "cell_type": "markdown",
      "metadata": {
        "id": "fy2CqiH_qjIU"
      },
      "source": [
        "Let's construct our encoder $q(z|x)$ and decoder $p(x|z)$:"
      ]
    },
    {
      "cell_type": "code",
      "metadata": {
        "id": "IT9npfj1qjIV"
      },
      "source": [
        "class Encoder(nn.Module):\n",
        "    def __init__(self, z_dim, hidden_dim):\n",
        "        super().__init__()\n",
        "        # setup the three linear transformations used\n",
        "        self.fc = nn.Linear(28*28, hidden_dim)\n",
        "        self.fc_mu = nn.Linear(hidden_dim, z_dim)\n",
        "        self.fc_sigma = nn.Linear(hidden_dim, z_dim)\n",
        "\n",
        "    def forward(self, x):\n",
        "        # define the forward computation on the image x\n",
        "        # first shape the mini-batch to have pixels in the rightmost dimension\n",
        "        x = x.reshape(-1, 28*28)\n",
        "        # then compute the hidden units\n",
        "        hidden = F.relu(self.fc(x))\n",
        "        # then return a mean vector and a (positive) square root covariance\n",
        "        # each of size batch_size x z_dim\n",
        "        z_mu = self.fc_mu(hidden)\n",
        "        z_sigma = F.softplus(self.fc_sigma(hidden))\n",
        "        return z_mu, z_sigma"
      ],
      "execution_count": null,
      "outputs": []
    },
    {
      "cell_type": "code",
      "metadata": {
        "id": "_jV97DLhqjIZ"
      },
      "source": [
        "class Decoder(nn.Module):\n",
        "    def __init__(self, z_dim, hidden_dim):\n",
        "        super().__init__()\n",
        "        # setup the two linear transformations used\n",
        "        self.fc = nn.Linear(z_dim, hidden_dim)\n",
        "        self.fc_mu = nn.Linear(hidden_dim, 784)\n",
        "\n",
        "    def forward(self, z):\n",
        "        # define the forward computation on the latent z\n",
        "        # first compute the hidden units\n",
        "        hidden = F.relu(self.fc(z))\n",
        "        # return the parameter for the output Bernoulli\n",
        "        # each is of size batch_size x 784\n",
        "        x_mu = torch.sigmoid(self.fc_mu(hidden))\n",
        "        return x_mu"
      ],
      "execution_count": null,
      "outputs": []
    },
    {
      "cell_type": "markdown",
      "metadata": {
        "id": "tswJ0x8qqjIb"
      },
      "source": [
        "We consider latent prior distribution $q(z)\\sim\\mathcal N(0,I)$."
      ]
    },
    {
      "cell_type": "markdown",
      "metadata": {
        "id": "QzPzPUuEqjId"
      },
      "source": [
        "To pass the gradient through random varibales we use reparametrization trick."
      ]
    },
    {
      "cell_type": "markdown",
      "metadata": {
        "id": "nyJRBoGEqjIe"
      },
      "source": [
        "## Task 1\n",
        "Write a reparametrization trick to pass gradient throught $U(a,b)$ distribution. Name it $u$ and check it."
      ]
    },
    {
      "cell_type": "code",
      "metadata": {
        "id": "dE0rLhpGqjIe"
      },
      "source": [
        "a = torch.tensor(10., requires_grad=True)\n",
        "b = torch.tensor(-5., requires_grad=True)"
      ],
      "execution_count": null,
      "outputs": []
    },
    {
      "cell_type": "code",
      "metadata": {
        "colab": {
          "base_uri": "https://localhost:8080/"
        },
        "id": "kjpP0WBvqjIj",
        "outputId": "9c965a5d-262b-40f7-e2a4-e4a8d291e237"
      },
      "source": [
        "# Your solution is here\n",
        "u = torch.distributions.Uniform(0,1).sample() \n",
        "u = u * (b - a) + a\n",
        "\n",
        "u.backward()\n",
        "a.grad, b.grad"
      ],
      "execution_count": null,
      "outputs": [
        {
          "output_type": "execute_result",
          "data": {
            "text/plain": [
              "(tensor(0.2321), tensor(0.7679))"
            ]
          },
          "metadata": {
            "tags": []
          },
          "execution_count": 24
        }
      ]
    },
    {
      "cell_type": "code",
      "metadata": {
        "colab": {
          "base_uri": "https://localhost:8080/"
        },
        "id": "zxKebqbcqjIp",
        "outputId": "e2f73eba-28d5-4871-abd3-64f74c1c9d55"
      },
      "source": [
        "# variant 1\n",
        "u = torch.distributions.Uniform(0,1).sample() \n",
        "u1 = u * (b - a) + a\n",
        "\n",
        "u1.backward()\n",
        "a.grad, b.grad"
      ],
      "execution_count": null,
      "outputs": [
        {
          "output_type": "execute_result",
          "data": {
            "text/plain": [
              "(tensor(0.7929), tensor(1.2071))"
            ]
          },
          "metadata": {
            "tags": []
          },
          "execution_count": 25
        }
      ]
    },
    {
      "cell_type": "code",
      "metadata": {
        "colab": {
          "base_uri": "https://localhost:8080/"
        },
        "id": "uxQmDTkxqjIv",
        "outputId": "0aff47d9-942c-40c3-fcf8-d2941c45fdca"
      },
      "source": [
        "# variant 2\n",
        "u2 = torch.distributions.Uniform(a,b).rsample() \n",
        "\n",
        "u2.backward()\n",
        "a.grad, b.grad"
      ],
      "execution_count": null,
      "outputs": [
        {
          "output_type": "execute_result",
          "data": {
            "text/plain": [
              "(tensor(1.7471), tensor(1.2529))"
            ]
          },
          "metadata": {
            "tags": []
          },
          "execution_count": 26
        }
      ]
    },
    {
      "cell_type": "markdown",
      "metadata": {
        "id": "aaKK6sy6qjIz"
      },
      "source": [
        "### End of the task 1"
      ]
    },
    {
      "cell_type": "markdown",
      "metadata": {
        "id": "aQzSnxAoqjI0"
      },
      "source": [
        "Now we are back to our VAE. Let's define it in some easy way."
      ]
    },
    {
      "cell_type": "code",
      "metadata": {
        "id": "eiMo8H77qjI0"
      },
      "source": [
        "class VAE_torch(nn.Module):\n",
        "    def __init__(self, z_dim=50, hidden_dim=400):\n",
        "        super().__init__()\n",
        "        # create the encoder and decoder networks\n",
        "        self.encoder = Encoder(z_dim, hidden_dim)\n",
        "        self.decoder = Decoder(z_dim, hidden_dim)\n",
        "\n",
        "        self.z_dim = z_dim\n",
        "\n",
        "    # define a helper function for reconstructing images\n",
        "    def forward(self, x, n_samples=1):\n",
        "        # encode image x\n",
        "        z_mu, z_sigma = self.encoder(x)\n",
        "        # sample in latent space\n",
        "        z = dist.Normal(z_mu, z_sigma).rsample([n_samples])\n",
        "        z = z.view(-1, *z_mu.shape[1:])\n",
        "        # decode the image (note we don't sample in image space)\n",
        "        img_mu = self.decoder(z)\n",
        "        img_mu = img_mu.view(-1, 28*28)\n",
        "        \n",
        "        return (z_mu, z_sigma), img_mu"
      ],
      "execution_count": null,
      "outputs": []
    },
    {
      "cell_type": "markdown",
      "metadata": {
        "id": "DFdCmQOaqjI1"
      },
      "source": [
        "To optimize our VAE we optimize the ELBO:\n",
        "\n",
        "$$\n",
        "\\text{ELBO} = \\underbrace{E_{q(z|x)}\\log p(x|z)}_\\text{LogLikelihood} - KL(q(z|x)\\|q(z)) \\to \\max\n",
        "$$\n",
        "\n",
        "Since MNIST image consinsts only 0/1 values we assume that $p(x|z)$ has Bernoulli distribution and therefore we can estimate LogLikelihood as follows:\n",
        "\n",
        "$$\n",
        "x_1\\sim p(x|z)\n",
        "$$\n",
        "\n",
        "$$\n",
        "\\widehat{\\text{LL}} = x\\cdot \\log(x_1) + (1-x)\\cdot \\log(1-x_1)\n",
        "$$\n",
        "\n",
        "However, with such estimation we get noisy gradients. One of the solutions is to get $m$ samples and average it.\n",
        "\n",
        "$$\n",
        "x_1,\\dots,x_m \\sim p(x|z)\n",
        "$$\n",
        "$$\n",
        "\\widehat{\\text{LL}} = \\frac{1}{m}\\sum_{i=1}^m x\\cdot \\log(x_i) + (1-x)\\cdot \\log(1-x_i)\n",
        "$$\n",
        "\n",
        "We will obtain less noisy gradients but the training procedure will take more time.<br>"
      ]
    },
    {
      "cell_type": "markdown",
      "metadata": {
        "id": "o6BZQUBtqjI2"
      },
      "source": [
        "Now, we define our LL loss and KL divergence. We assume that posterior is $\\mathcal N (z_{\\mu}, \\text{diag}(z_\\sigma))$."
      ]
    },
    {
      "cell_type": "code",
      "metadata": {
        "id": "yjI9KoHxqjI3"
      },
      "source": [
        "def LogLoss(y_pred, y_true):\n",
        "    n_samples = y_pred.shape[0] // y_true.shape[0]\n",
        "    y_true = y_true.repeat(n_samples, 1)\n",
        "    # logloss\n",
        "    L = - (y_true * torch.log(y_pred + 1e-16) + (1 - y_true) * torch.log(1 - y_pred + 1e-16))\n",
        "    return L.sum() / n_samples\n",
        "\n",
        "def KLLoss(z_mu, z_sigma, prior):\n",
        "    q = torch.distributions.Normal(z_mu, z_sigma)\n",
        "    return torch.distributions.kl_divergence(q, prior).sum()"
      ],
      "execution_count": null,
      "outputs": []
    },
    {
      "cell_type": "markdown",
      "metadata": {
        "id": "FZIJB-B4qjI3"
      },
      "source": [
        "Then we define train and evaluation procedure"
      ]
    },
    {
      "cell_type": "code",
      "metadata": {
        "id": "OSTzEEz4qjI4"
      },
      "source": [
        "def train(model, optimizer, train_loader, n_samples=1):\n",
        "    elbo = 0\n",
        "    for x, _ in train_loader:\n",
        "        optimizer.zero_grad()\n",
        "        x = x.to(device)\n",
        "        (z_mu, z_sigma), x_mu = vae(x, n_samples=n_samples)\n",
        "        loss = LogLoss(x_mu, x.view(-1, 28*28)) + KLLoss(z_mu, z_sigma, prior)\n",
        "        loss.backward()\n",
        "        optimizer.step()\n",
        "        \n",
        "        elbo += loss.item()\n",
        "        \n",
        "    return elbo / len(train_loader.dataset)\n",
        "\n",
        "\n",
        "def evaluate(model, test_loader):\n",
        "    elbo = 0\n",
        "    with torch.no_grad():\n",
        "        for x, _ in test_loader:\n",
        "            x = x.to(device)\n",
        "            (z_mu, z_sigma), x_mu = vae(x, n_samples=1)\n",
        "            loss = LogLoss(x_mu, x.view(-1, 28*28)) + KLLoss(z_mu, z_sigma, prior)\n",
        "            \n",
        "            elbo += loss.item()\n",
        "            \n",
        "    return elbo / len(test_loader.dataset)"
      ],
      "execution_count": null,
      "outputs": []
    },
    {
      "cell_type": "markdown",
      "metadata": {
        "id": "YmBmbO5MqjI6"
      },
      "source": [
        "Finally, we train and validate our VAE. Now we optimize ELBO without sampling latent variable several times."
      ]
    },
    {
      "cell_type": "code",
      "metadata": {
        "colab": {
          "base_uri": "https://localhost:8080/"
        },
        "id": "WaATiA4GqjI6",
        "outputId": "43ee7d24-c1e7-405d-8f4e-4afe1d985d9f"
      },
      "source": [
        "torch.manual_seed(42)\n",
        "\n",
        "N_SAMPLES = 1\n",
        "NUM_EPOCHS = 21\n",
        "TEST_FREQUENCY = 5\n",
        "\n",
        "vae = VAE_torch().to(device)\n",
        "optimizer = torch.optim.Adam(vae.parameters(), lr=1e-3)\n",
        "\n",
        "prior = torch.distributions.Normal(torch.tensor(0.).to(device),\n",
        "                                   torch.tensor(1.).to(device))\n",
        "train_elbo = []\n",
        "test_elbo = []\n",
        "# training loop\n",
        "for epoch in range(NUM_EPOCHS):\n",
        "    elbo = train(vae, optimizer, train_loader, n_samples=N_SAMPLES)\n",
        "    train_elbo.append(-elbo)\n",
        "    print(\"[epoch %03d] average training loss: %.4f\" % (epoch, train_elbo[-1]))\n",
        "\n",
        "    if epoch % TEST_FREQUENCY != 0:\n",
        "        continue\n",
        "        \n",
        "    elbo = evaluate(vae, test_loader)\n",
        "    test_elbo.append(-elbo)\n",
        "    print(\"----------> average test loss: %.4f\" % (test_elbo[-1]))"
      ],
      "execution_count": null,
      "outputs": [
        {
          "output_type": "stream",
          "text": [
            "[epoch 000] average training loss: -169.3769\n",
            "----------> average test loss: -133.7218\n",
            "[epoch 001] average training loss: -126.2055\n",
            "[epoch 002] average training loss: -116.9060\n",
            "[epoch 003] average training loss: -112.9208\n",
            "[epoch 004] average training loss: -110.6255\n",
            "[epoch 005] average training loss: -109.2087\n",
            "----------> average test loss: -107.9138\n",
            "[epoch 006] average training loss: -108.1614\n",
            "[epoch 007] average training loss: -107.3593\n",
            "[epoch 008] average training loss: -106.7752\n",
            "[epoch 009] average training loss: -106.2676\n",
            "[epoch 010] average training loss: -105.8731\n",
            "----------> average test loss: -105.4833\n",
            "[epoch 011] average training loss: -105.5521\n",
            "[epoch 012] average training loss: -105.2478\n",
            "[epoch 013] average training loss: -105.0440\n",
            "[epoch 014] average training loss: -104.8276\n",
            "[epoch 015] average training loss: -104.5901\n",
            "----------> average test loss: -104.1220\n",
            "[epoch 016] average training loss: -104.4075\n",
            "[epoch 017] average training loss: -104.2363\n",
            "[epoch 018] average training loss: -104.1033\n",
            "[epoch 019] average training loss: -103.9621\n",
            "[epoch 020] average training loss: -103.8237\n",
            "----------> average test loss: -103.6633\n"
          ],
          "name": "stdout"
        }
      ]
    },
    {
      "cell_type": "code",
      "metadata": {
        "colab": {
          "base_uri": "https://localhost:8080/",
          "height": 468
        },
        "id": "evHBxkFBqjI-",
        "outputId": "8fed533f-c257-4219-b1ba-bb3ea084a9bc"
      },
      "source": [
        "plt.figure(figsize=(10, 5))\n",
        "plt.plot(train_elbo, label='train')\n",
        "plt.plot(range(0, len(train_elbo), TEST_FREQUENCY), test_elbo, label='test')\n",
        "plt.title('ELBO')\n",
        "plt.legend()\n",
        "#plt.yscale('symlog')\n",
        "plt.show()"
      ],
      "execution_count": null,
      "outputs": [
        {
          "output_type": "display_data",
          "data": {
            "image/png": "[encoded data removed]",
            "text/plain": [
              "<Figure size 1000x500 with 1 Axes>"
            ]
          },
          "metadata": {
            "tags": []
          }
        }
      ]
    },
    {
      "cell_type": "markdown",
      "metadata": {
        "id": "GFwEoylOqjI_"
      },
      "source": [
        "And now we train it again but with sampling latent variable 5 times and averaging the LL."
      ]
    },
    {
      "cell_type": "code",
      "metadata": {
        "colab": {
          "base_uri": "https://localhost:8080/"
        },
        "id": "mj6xy_MEqjI_",
        "outputId": "a9881581-6130-48dc-b22f-59c0b0f85072"
      },
      "source": [
        "torch.manual_seed(42)\n",
        "\n",
        "N_SAMPLES = 5\n",
        "NUM_EPOCHS = 21\n",
        "TEST_FREQUENCY = 5\n",
        "\n",
        "vae = VAE_torch().to(device)\n",
        "optimizer = torch.optim.Adam(vae.parameters(), lr=1e-3)\n",
        "\n",
        "prior = torch.distributions.Normal(torch.tensor(0.).to(device),\n",
        "                                   torch.tensor(1.).to(device))\n",
        "\n",
        "train_elbo_samples = []\n",
        "test_elbo_samples = []\n",
        "# training loop\n",
        "for epoch in range(NUM_EPOCHS):\n",
        "    elbo = train(vae, optimizer, train_loader, n_samples=N_SAMPLES)\n",
        "    train_elbo_samples.append(-elbo)\n",
        "    print(\"[epoch %03d] average training loss: %.4f\" % (epoch, train_elbo_samples[-1]))\n",
        "\n",
        "    if epoch % TEST_FREQUENCY != 0:\n",
        "        continue\n",
        "        \n",
        "    elbo = evaluate(vae, test_loader)\n",
        "    test_elbo_samples.append(-elbo)\n",
        "    print(\"----------> average test loss: %.4f\" % (test_elbo_samples[-1]))"
      ],
      "execution_count": null,
      "outputs": [
        {
          "output_type": "stream",
          "text": [
            "[epoch 000] average training loss: -165.8167\n",
            "----------> average test loss: -128.6842\n",
            "[epoch 001] average training loss: -121.7683\n",
            "[epoch 002] average training loss: -113.4734\n",
            "[epoch 003] average training loss: -110.0450\n",
            "[epoch 004] average training loss: -108.1631\n",
            "[epoch 005] average training loss: -106.9865\n",
            "----------> average test loss: -105.8778\n",
            "[epoch 006] average training loss: -106.1350\n",
            "[epoch 007] average training loss: -105.5305\n",
            "[epoch 008] average training loss: -105.0445\n",
            "[epoch 009] average training loss: -104.6479\n",
            "[epoch 010] average training loss: -104.3076\n",
            "----------> average test loss: -104.0322\n",
            "[epoch 011] average training loss: -104.0378\n",
            "[epoch 012] average training loss: -103.8018\n",
            "[epoch 013] average training loss: -103.5743\n",
            "[epoch 014] average training loss: -103.3741\n",
            "[epoch 015] average training loss: -103.1930\n",
            "----------> average test loss: -103.0983\n",
            "[epoch 016] average training loss: -103.0374\n",
            "[epoch 017] average training loss: -102.8814\n",
            "[epoch 018] average training loss: -102.7678\n",
            "[epoch 019] average training loss: -102.6262\n",
            "[epoch 020] average training loss: -102.5169\n",
            "----------> average test loss: -102.6063\n"
          ],
          "name": "stdout"
        }
      ]
    },
    {
      "cell_type": "markdown",
      "metadata": {
        "id": "kL8QiePJqjJA"
      },
      "source": [
        "Let's compare the ELBO histories:"
      ]
    },
    {
      "cell_type": "code",
      "metadata": {
        "colab": {
          "base_uri": "https://localhost:8080/",
          "height": 468
        },
        "id": "aYIr5DFQqjJB",
        "outputId": "dbc9a77d-4b56-457b-c6f6-a84b73df6151"
      },
      "source": [
        "plt.figure(figsize=(10, 5))\n",
        "plt.plot(train_elbo, label='1 sample')\n",
        "plt.plot(train_elbo_samples, label='5 samples')\n",
        "plt.title('ELBO')\n",
        "plt.legend()\n",
        "#plt.yscale('symlog')\n",
        "plt.show()"
      ],
      "execution_count": null,
      "outputs": [
        {
          "output_type": "display_data",
          "data": {
            "image/png": "[encoded data removed]",
            "text/plain": [
              "<Figure size 1000x500 with 1 Axes>"
            ]
          },
          "metadata": {
            "tags": []
          }
        }
      ]
    },
    {
      "cell_type": "markdown",
      "metadata": {
        "id": "wr-hecC6qjJC"
      },
      "source": [
        "Since our gradients are less noisy the ELBO optimizes faster and in more stable way. But as wee see the diferrence is decreasing."
      ]
    },
    {
      "cell_type": "markdown",
      "metadata": {
        "id": "88KCI0-XqjJC"
      },
      "source": [
        "Check our VAE with random samples $z\\sim \\mathcal N(0,I)$"
      ]
    },
    {
      "cell_type": "code",
      "metadata": {
        "colab": {
          "base_uri": "https://localhost:8080/",
          "height": 268
        },
        "id": "QnJSgqOYqjJC",
        "outputId": "c32ed7bb-49ec-4a51-bc47-e91738f915bd"
      },
      "source": [
        "torch.manual_seed(0)\n",
        "z = torch.distributions.Normal(torch.zeros(50), torch.ones(50)).sample([10]).to(device)\n",
        "x_mu = vae.decoder(z).view(-1, 28, 28).cpu().detach().numpy()\n",
        "\n",
        "N, M = 2, 5\n",
        "fig, ax = plt.subplots(N, M, figsize=(8, 3), sharex=True, sharey=True)\n",
        "fig.subplots_adjust(wspace=0, hspace=0.1)\n",
        "for i in range(N):\n",
        "    for j in range(M):\n",
        "        ax[i][j].imshow(x_mu[i*M+j], cmap='gray')\n",
        "        ax[i][j].axis('off')\n",
        "\n",
        "plt.show()"
      ],
      "execution_count": null,
      "outputs": [
        {
          "output_type": "display_data",
          "data": {
            "image/png": "[encoded data removed]",
            "text/plain": [
              "<Figure size 800x300 with 10 Axes>"
            ]
          },
          "metadata": {
            "tags": []
          }
        }
      ]
    },
    {
      "cell_type": "markdown",
      "metadata": {
        "id": "DZp-r21PqjJD"
      },
      "source": [
        "Looks good. Don't forget that we choose very simple architecture."
      ]
    },
    {
      "cell_type": "markdown",
      "metadata": {
        "id": "5J6ZpFbgqjJD"
      },
      "source": [
        "### Pyro time\n",
        "\n",
        "Now, we will try reimplement our VAE with pyro package. <br>\n",
        "After that we will compare PyTorch and Pyro impementations."
      ]
    },
    {
      "cell_type": "markdown",
      "metadata": {
        "id": "NkfmjDeTqjJD"
      },
      "source": [
        "Firstly, we already have architectures for encoder $q(z|x)$ and decoder $p(x|z)$. So, we have no need to rewrite it.<br>\n",
        "Since we work with Pyro, we should define the model structure and declare all random variables."
      ]
    },
    {
      "cell_type": "code",
      "metadata": {
        "id": "ajEHAQjhqjJD"
      },
      "source": [
        "# define the model p(x|z)p(z) = p(x,z)\n",
        "def model(self, x):\n",
        "    # register PyTorch module `decoder` with Pyro\n",
        "    pyro.module(\"decoder\", self.decoder)\n",
        "    with pyro.plate(\"data\", x.shape[0]):\n",
        "        # setup hyperparameters for prior p(z)\n",
        "        z_mu = torch.zeros((x.shape[0], self.z_dim))\n",
        "        z_sigma = torch.ones((x.shape[0], self.z_dim))\n",
        "        # sample from prior (value will be sampled by guide when computing the ELBO)\n",
        "        z = pyro.sample(\"latent\", dist.Normal(z_mu, z_sigma).to_event(1))\n",
        "        # decode the latent code z\n",
        "        img_mu = self.decoder(z)\n",
        "        # score against actual images\n",
        "        pyro.sample(\"obs\", dist.Bernoulli(img_mu).to_event(1), obs=x.reshape(-1, 784))"
      ],
      "execution_count": null,
      "outputs": []
    },
    {
      "cell_type": "markdown",
      "metadata": {
        "id": "O6Rz3M9_qjJE"
      },
      "source": [
        "Additionaly, we should define the guide function to describe our posterior."
      ]
    },
    {
      "cell_type": "code",
      "metadata": {
        "id": "2K-t5YshqjJE"
      },
      "source": [
        "# define the guide (i.e. variational distribution) q(z|x)\n",
        "def guide(self, x):\n",
        "    # register PyTorch module `encoder` with Pyro\n",
        "    pyro.module(\"encoder\", self.encoder)\n",
        "    with pyro.plate(\"data\", x.shape[0]):\n",
        "        # use the encoder to get the parameters used to define q(z|x)\n",
        "        z_mu, z_sigma = self.encoder(x)\n",
        "        # sample the latent code z\n",
        "        pyro.sample(\"latent\", dist.Normal(z_mu, z_sigma).to_event(1))"
      ],
      "execution_count": null,
      "outputs": []
    },
    {
      "cell_type": "markdown",
      "metadata": {
        "id": "sJ7nHvZjqjJE"
      },
      "source": [
        "And now we can implement it as methods of our VAE."
      ]
    },
    {
      "cell_type": "code",
      "metadata": {
        "id": "fkCjyrCPqjJE"
      },
      "source": [
        "vae = VAE_torch()\n",
        "vae.model = model\n",
        "vae.guide = guide"
      ],
      "execution_count": null,
      "outputs": []
    },
    {
      "cell_type": "markdown",
      "metadata": {
        "id": "U_8lmtydqjJF"
      },
      "source": [
        "From scratch our VAE has the following structure."
      ]
    },
    {
      "cell_type": "code",
      "metadata": {
        "id": "_x4ndZ-TqjJF"
      },
      "source": [
        "class VAE_pyro(nn.Module):\n",
        "    # by default our latent space is 50-dimensional\n",
        "    # and we use 400 hidden units\n",
        "    def __init__(self, z_dim=50, hidden_dim=400):\n",
        "        super().__init__()\n",
        "        # create the encoder and decoder networks\n",
        "        self.encoder = Encoder(z_dim, hidden_dim)\n",
        "        self.decoder = Decoder(z_dim, hidden_dim)\n",
        "        \n",
        "        self.z_dim = z_dim\n",
        "\n",
        "    # define the model p(x|z)p(z)\n",
        "    def model(self, x):\n",
        "        # register PyTorch module `decoder` with Pyro\n",
        "        pyro.module(\"decoder\", self.decoder)\n",
        "        with pyro.plate(\"data\", x.shape[0]):\n",
        "            # setup hyperparameters for prior p(z)\n",
        "            z_mu = torch.zeros((x.shape[0], self.z_dim)).to(device)\n",
        "            z_sigma = torch.ones((x.shape[0], self.z_dim)).to(device)\n",
        "            # sample from prior (value will be sampled by guide when computing the ELBO)\n",
        "            z = pyro.sample(\"latent\", dist.Normal(z_mu, z_sigma).to_event(1))\n",
        "            # decode the latent code z\n",
        "            img_mu = self.decoder(z)\n",
        "            # score against actual images\n",
        "            pyro.sample(\"obs\", dist.Bernoulli(img_mu).to_event(1), obs=x.reshape(-1, 784))\n",
        "\n",
        "    # define the guide (i.e. variational distribution) q(z|x)\n",
        "    def guide(self, x):\n",
        "        # register PyTorch module `encoder` with Pyro\n",
        "        pyro.module(\"encoder\", self.encoder)\n",
        "        with pyro.plate(\"data\", x.shape[0]):\n",
        "            # use the encoder to get the parameters used to define q(z|x)\n",
        "            z_mu, z_sigma = self.encoder(x)\n",
        "            # sample the latent code z\n",
        "            pyro.sample(\"latent\", dist.Normal(z_mu, z_sigma).to_event(1))\n",
        "\n",
        "    # define a helper function for reconstructing images\n",
        "    def forward(self, x):\n",
        "        # encode image x\n",
        "        z_mu, z_sigma = self.encoder(x)\n",
        "        # sample in latent space\n",
        "        z = dist.Normal(z_mu, z_sigma).rsample()\n",
        "        # decode the image (note we don't sample in image space)\n",
        "        img_mu = self.decoder(z)\n",
        "        img_mu = img_mu.view(-1, 28*28)\n",
        "        return img_mu"
      ],
      "execution_count": null,
      "outputs": []
    },
    {
      "cell_type": "markdown",
      "metadata": {
        "id": "M8oIY0y7qjJF"
      },
      "source": [
        "The train and evaluation procedure has now following structure.<br>\n",
        "Here we use pyro built-in SVI algorithm."
      ]
    },
    {
      "cell_type": "code",
      "metadata": {
        "id": "D3a65b54qjJG"
      },
      "source": [
        "def train(svi, train_loader):\n",
        "    # initialize loss accumulator\n",
        "    epoch_loss = 0.\n",
        "    # do a training epoch over each mini-batch x returned\n",
        "    # by the data loader\n",
        "    for x, _ in train_loader:\n",
        "        x = x.to(device)\n",
        "        # do ELBO gradient and accumulate loss\n",
        "        epoch_loss += svi.step(x)\n",
        "\n",
        "    # return epoch loss\n",
        "    total_epoch_loss_train = epoch_loss / len(train_loader.dataset)\n",
        "    return total_epoch_loss_train\n",
        "\n",
        "\n",
        "def evaluate(svi, test_loader):\n",
        "    # initialize loss accumulator\n",
        "    test_loss = 0.\n",
        "    # compute the loss over the entire test set\n",
        "    for x, _ in test_loader:\n",
        "        x = x.to(device)\n",
        "        # compute ELBO estimate and accumulate loss\n",
        "        test_loss += svi.evaluate_loss(x)\n",
        "        \n",
        "    total_epoch_loss_test = test_loss / len(test_loader.dataset)\n",
        "    return total_epoch_loss_test"
      ],
      "execution_count": null,
      "outputs": []
    },
    {
      "cell_type": "markdown",
      "metadata": {
        "id": "oO0peO_sqjJG"
      },
      "source": [
        "And finally, we train our VAE."
      ]
    },
    {
      "cell_type": "code",
      "metadata": {
        "colab": {
          "base_uri": "https://localhost:8080/"
        },
        "id": "LOUhoTjrqjJG",
        "outputId": "63017db0-14e4-4c16-fffe-c6c944d56628"
      },
      "source": [
        "NUM_EPOCHS = 21\n",
        "TEST_FREQUENCY = 5\n",
        "\n",
        "pyro.set_rng_seed(42)\n",
        "torch.manual_seed(42)\n",
        "\n",
        "# clear param store\n",
        "pyro.clear_param_store()\n",
        "\n",
        "# setup the VAE\n",
        "vae = VAE_pyro().to(device)\n",
        "\n",
        "# setup the optimizer\n",
        "adam_args = {\"lr\": 1e-3}\n",
        "optimizer = Adam(adam_args)\n",
        "\n",
        "# setup the inference algorithm\n",
        "svi = SVI(vae.model, vae.guide, optimizer, loss=Trace_ELBO())\n",
        "\n",
        "train_elbo_pyro = []\n",
        "test_elbo_pyro = []\n",
        "# training loop\n",
        "for epoch in range(NUM_EPOCHS):\n",
        "    elbo = train(svi, train_loader)\n",
        "    train_elbo_pyro.append(-elbo)\n",
        "    print(\"[epoch %03d] average training loss: %.4f\" % (epoch, train_elbo_pyro[-1]))\n",
        "\n",
        "    if epoch % TEST_FREQUENCY == 0:\n",
        "        # report test diagnostics\n",
        "        elbo = evaluate(svi, test_loader)\n",
        "        test_elbo_pyro.append(-elbo)\n",
        "        print(\"----------> average test loss: %.4f\" % (test_elbo_pyro[-1]))"
      ],
      "execution_count": null,
      "outputs": [
        {
          "output_type": "stream",
          "text": [
            "[epoch 000] average training loss: -171.4386\n",
            "----------> average test loss: -136.7623\n",
            "[epoch 001] average training loss: -128.5200\n",
            "[epoch 002] average training loss: -118.3807\n",
            "[epoch 003] average training loss: -113.7820\n",
            "[epoch 004] average training loss: -111.1939\n",
            "[epoch 005] average training loss: -109.5944\n",
            "----------> average test loss: -108.3099\n",
            "[epoch 006] average training loss: -108.4668\n",
            "[epoch 007] average training loss: -107.6804\n",
            "[epoch 008] average training loss: -107.0811\n",
            "[epoch 009] average training loss: -106.6235\n",
            "[epoch 010] average training loss: -106.2441\n",
            "----------> average test loss: -105.6705\n",
            "[epoch 011] average training loss: -105.9210\n",
            "[epoch 012] average training loss: -105.6012\n",
            "[epoch 013] average training loss: -105.3782\n",
            "[epoch 014] average training loss: -105.1604\n",
            "[epoch 015] average training loss: -104.9609\n",
            "----------> average test loss: -104.6191\n",
            "[epoch 016] average training loss: -104.8082\n",
            "[epoch 017] average training loss: -104.6270\n",
            "[epoch 018] average training loss: -104.4760\n",
            "[epoch 019] average training loss: -104.3386\n",
            "[epoch 020] average training loss: -104.1979\n",
            "----------> average test loss: -104.2183\n"
          ],
          "name": "stdout"
        }
      ]
    },
    {
      "cell_type": "code",
      "metadata": {
        "colab": {
          "base_uri": "https://localhost:8080/",
          "height": 468
        },
        "id": "L8_awFrVqjJH",
        "outputId": "5f065524-8d4d-449f-e9fc-c2af924ce0ed"
      },
      "source": [
        "plt.figure(figsize=(10, 5))\n",
        "plt.plot(train_elbo, label='torch SVI')\n",
        "plt.plot(train_elbo_pyro, label='pyro SVI')\n",
        "plt.title('ELBO')\n",
        "plt.legend()\n",
        "#plt.yscale('symlog')\n",
        "plt.show()"
      ],
      "execution_count": null,
      "outputs": [
        {
          "output_type": "display_data",
          "data": {
            "image/png": "[encoded data removed]",
            "text/plain": [
              "<Figure size 1000x500 with 1 Axes>"
            ]
          },
          "metadata": {
            "tags": []
          }
        }
      ]
    },
    {
      "cell_type": "markdown",
      "metadata": {
        "id": "Y0vL-lXuqjJI"
      },
      "source": [
        "No we compare PyTorch and Pyro advantages:\n",
        "\n",
        "PyTorch:\n",
        "+ No need to declare all randomness with model and guide structure.\n",
        "- We should care about ELBO implementation.\n",
        "\n",
        "Pyro:\n",
        "- We have to declare all randomness with model and guide structure.\n",
        "+ The optimization is built-in.\n",
        "\n",
        "Also, with Pyro it is much easier to do following research: CI, prediction averaging, etc."
      ]
    },
    {
      "cell_type": "markdown",
      "metadata": {
        "id": "v1yTf62bqjJJ"
      },
      "source": [
        "### EOF"
      ]
    }
  ]
}