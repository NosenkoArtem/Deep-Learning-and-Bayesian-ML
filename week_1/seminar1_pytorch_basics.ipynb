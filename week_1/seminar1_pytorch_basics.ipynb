{
  "nbformat": 4,
  "nbformat_minor": 0,
  "metadata": {
    "accelerator": "GPU",
    "colab": {
      "name": "seminar1_pytorch_basics.ipynb",
      "provenance": []
    },
    "kernelspec": {
      "display_name": "Python 3",
      "language": "python",
      "name": "python3"
    },
    "language_info": {
      "codemirror_mode": {
        "name": "ipython",
        "version": 3
      },
      "file_extension": ".py",
      "mimetype": "text/x-python",
      "name": "python",
      "nbconvert_exporter": "python",
      "pygments_lexer": "ipython3",
      "version": "3.8.5"
    },
    "toc": {
      "base_numbering": 1,
      "nav_menu": {},
      "number_sections": true,
      "sideBar": true,
      "skip_h1_title": false,
      "title_cell": "Table of Contents",
      "title_sidebar": "Contents",
      "toc_cell": false,
      "toc_position": {},
      "toc_section_display": true,
      "toc_window_display": false
    },
    "varInspector": {
      "cols": {
        "lenName": 16,
        "lenType": 16,
        "lenVar": 40
      },
      "kernels_config": {
        "python": {
          "delete_cmd_postfix": "",
          "delete_cmd_prefix": "del ",
          "library": "var_list.py",
          "varRefreshCmd": "print(var_dic_list())"
        },
        "r": {
          "delete_cmd_postfix": ") ",
          "delete_cmd_prefix": "rm(",
          "library": "var_list.r",
          "varRefreshCmd": "cat(var_dic_list()) "
        }
      },
      "types_to_exclude": [
        "module",
        "function",
        "builtin_function_or_method",
        "instance",
        "_Feature"
      ],
      "window_display": false
    }
  },
  "cells": [
    {
      "cell_type": "markdown",
      "metadata": {
        "id": "pD6meoqEc6Qt"
      },
      "source": [
        "# **PyTorch**\n",
        "\n",
        "Библиотека в Python для научных вычислений. Две основных цели:\n",
        "\n",
        "* Замена NumPy для использования GPUs\n",
        "* Платформа для глубинного обучения с высокой гибкостью и скоростью"
      ]
    },
    {
      "cell_type": "markdown",
      "metadata": {
        "id": "j6PjB60VsUow"
      },
      "source": [
        ""
      ]
    },
    {
      "cell_type": "markdown",
      "metadata": {
        "id": "U7LEjCLEgR3q"
      },
      "source": [
        "# План занятия\n",
        "\n",
        "* Что такое тензоры\n",
        "* Строим модель линейной регрессии с помощью PyTorch\n",
        "* Строим модель логистической регрессии с помощью  PyTorch"
      ]
    },
    {
      "cell_type": "code",
      "metadata": {
        "ExecuteTime": {
          "end_time": "2021-04-04T15:45:24.192918Z",
          "start_time": "2021-04-04T15:45:22.772714Z"
        },
        "id": "Zar1lzomd839"
      },
      "source": [
        "import numpy as np\n",
        "import torch\n",
        "from torch.autograd import Variable"
      ],
      "execution_count": null,
      "outputs": []
    },
    {
      "cell_type": "markdown",
      "metadata": {
        "id": "3KbkVyhsdfqV"
      },
      "source": [
        "## **Тензоры**\n",
        "\n",
        "Тензоры - как массивы в NumPy. Но они могут эффективно использоваться на GPU.\n"
      ]
    },
    {
      "cell_type": "markdown",
      "metadata": {
        "id": "5wjiVBmahr1V"
      },
      "source": [
        "**Создание тензора**"
      ]
    },
    {
      "cell_type": "markdown",
      "metadata": {
        "id": "EqHyoMG1eWFr"
      },
      "source": [
        "Создадим пустой тензор размера 5 на 4 или тензор со случайными элементами."
      ]
    },
    {
      "cell_type": "code",
      "metadata": {
        "ExecuteTime": {
          "end_time": "2021-03-29T09:46:43.504635Z",
          "start_time": "2021-03-29T09:46:43.497656Z"
        },
        "colab": {
          "base_uri": "https://localhost:8080/"
        },
        "id": "lKPDhXineAai",
        "outputId": "1273d444-df49-435f-84c7-fd60456a3818"
      },
      "source": [
        "x = torch.empty(5, 4)\n",
        "print(x)"
      ],
      "execution_count": null,
      "outputs": [
        {
          "output_type": "stream",
          "text": [
            "tensor([[8.5448e+05, 3.0882e-41, 7.0065e-44, 6.8664e-44],\n",
            "        [6.3058e-44, 6.7262e-44, 7.2868e-44, 6.3058e-44],\n",
            "        [6.7262e-44, 7.4269e-44, 1.1771e-43, 6.8664e-44],\n",
            "        [7.4269e-44, 8.1275e-44, 7.0065e-44, 7.8473e-44],\n",
            "        [8.1275e-44, 7.2868e-44, 7.4269e-44, 6.4460e-44]])\n"
          ],
          "name": "stdout"
        }
      ]
    },
    {
      "cell_type": "code",
      "metadata": {
        "ExecuteTime": {
          "end_time": "2021-03-29T09:46:47.718420Z",
          "start_time": "2021-03-29T09:46:47.712439Z"
        },
        "colab": {
          "base_uri": "https://localhost:8080/"
        },
        "id": "jnRdzhFJeSZ0",
        "outputId": "79597597-d7fa-4f37-ea3c-40d511ae6768"
      },
      "source": [
        "x = torch.rand(5, 3)\n",
        "print(x)"
      ],
      "execution_count": null,
      "outputs": [
        {
          "output_type": "stream",
          "text": [
            "tensor([[0.0415, 0.0418, 0.9237],\n",
            "        [0.4190, 0.2177, 0.2448],\n",
            "        [0.5352, 0.2411, 0.6905],\n",
            "        [0.1614, 0.9138, 0.4381],\n",
            "        [0.8698, 0.6578, 0.7627]])\n"
          ],
          "name": "stdout"
        }
      ]
    },
    {
      "cell_type": "markdown",
      "metadata": {
        "id": "ebyYi-BJeiVe"
      },
      "source": [
        "Создадим тензор, заполненный нулями с типом long:"
      ]
    },
    {
      "cell_type": "code",
      "metadata": {
        "ExecuteTime": {
          "end_time": "2021-03-29T09:47:27.422627Z",
          "start_time": "2021-03-29T09:47:27.417642Z"
        },
        "id": "8sgCmAYUfHnJ",
        "outputId": "cee5a4a3-bc19-4159-f976-fd78e013fe1f"
      },
      "source": [
        "x = torch.zeros(5, 3, dtype=torch.long)\n",
        "print(x)"
      ],
      "execution_count": null,
      "outputs": [
        {
          "output_type": "stream",
          "text": [
            "tensor([[0, 0, 0],\n",
            "        [0, 0, 0],\n",
            "        [0, 0, 0],\n",
            "        [0, 0, 0],\n",
            "        [0, 0, 0]])\n"
          ],
          "name": "stdout"
        }
      ]
    },
    {
      "cell_type": "markdown",
      "metadata": {
        "id": "2_FJMVFWfg3Z"
      },
      "source": [
        "Создадим тензор из массива"
      ]
    },
    {
      "cell_type": "code",
      "metadata": {
        "ExecuteTime": {
          "end_time": "2021-03-29T09:47:35.079154Z",
          "start_time": "2021-03-29T09:47:35.072142Z"
        },
        "colab": {
          "base_uri": "https://localhost:8080/",
          "height": 201
        },
        "id": "XkL7YHbUfk45",
        "outputId": "6e3edbec-6cd9-470c-b8f5-77068983c0bf"
      },
      "source": [
        "y_numpy = np.random.rand(5, 3)\n",
        "x = torch.tensor(y_numpy)\n",
        "print(y_numpy)\n",
        "print(x)"
      ],
      "execution_count": null,
      "outputs": [
        {
          "output_type": "stream",
          "text": [
            "[[0.70337497 0.76866973 0.95935794]\n",
            " [0.7952345  0.5849783  0.58515958]\n",
            " [0.55587818 0.85376818 0.4595871 ]\n",
            " [0.88461404 0.37486089 0.13661277]\n",
            " [0.14590512 0.91448336 0.86498481]]\n",
            "tensor([[0.7034, 0.7687, 0.9594],\n",
            "        [0.7952, 0.5850, 0.5852],\n",
            "        [0.5559, 0.8538, 0.4596],\n",
            "        [0.8846, 0.3749, 0.1366],\n",
            "        [0.1459, 0.9145, 0.8650]], dtype=torch.float64)\n"
          ],
          "name": "stdout"
        }
      ]
    },
    {
      "cell_type": "markdown",
      "metadata": {
        "id": "WQNgag3ehxge"
      },
      "source": [
        "**Методы работы с тензорами**\n",
        "\n",
        "Создадим тензор и посмотрим, какие методы и атрбиты у него есть"
      ]
    },
    {
      "cell_type": "code",
      "metadata": {
        "ExecuteTime": {
          "end_time": "2021-03-29T09:47:42.003813Z",
          "start_time": "2021-03-29T09:47:41.999824Z"
        },
        "id": "MFaRDbCkh-sx"
      },
      "source": [
        "# Создадим тензор\n",
        "# torch.manual_seed(0)\n",
        "x = torch.rand(3, 2)"
      ],
      "execution_count": null,
      "outputs": []
    },
    {
      "cell_type": "code",
      "metadata": {
        "ExecuteTime": {
          "end_time": "2021-03-29T09:48:05.902327Z",
          "start_time": "2021-03-29T09:48:05.897341Z"
        },
        "colab": {
          "base_uri": "https://localhost:8080/",
          "height": 54
        },
        "id": "ShZndDw_f5cM",
        "outputId": "0f245f2e-3b5c-4533-a2e2-21c62623d521"
      },
      "source": [
        "x_size = x.size()\n",
        "print(x_size)\n",
        "print(x_size[0], x_size[1]) # возвращает tuple - неизменяемый лист значений"
      ],
      "execution_count": null,
      "outputs": [
        {
          "output_type": "stream",
          "text": [
            "torch.Size([3, 2])\n",
            "3 2\n"
          ],
          "name": "stdout"
        }
      ]
    },
    {
      "cell_type": "code",
      "metadata": {
        "ExecuteTime": {
          "end_time": "2021-03-29T09:48:21.801253Z",
          "start_time": "2021-03-29T09:48:21.795251Z"
        },
        "colab": {
          "base_uri": "https://localhost:8080/",
          "height": 72
        },
        "id": "l0ITRqhGhckZ",
        "outputId": "d06adc97-0d6a-4c6e-d108-ac5b25f0fcd0"
      },
      "source": [
        "y = torch.rand(3, 2)\n",
        "print(x + y) # можно складывать матрицы"
      ],
      "execution_count": null,
      "outputs": [
        {
          "output_type": "stream",
          "text": [
            "tensor([[0.5419, 0.7170],\n",
            "        [0.9353, 1.2134],\n",
            "        [0.8357, 0.6486]])\n"
          ],
          "name": "stdout"
        }
      ]
    },
    {
      "cell_type": "code",
      "metadata": {
        "ExecuteTime": {
          "end_time": "2021-03-29T09:48:26.248491Z",
          "start_time": "2021-03-29T09:48:26.242507Z"
        },
        "colab": {
          "base_uri": "https://localhost:8080/",
          "height": 72
        },
        "id": "OdHiLk1yiD5d",
        "outputId": "2af43a6e-3f48-49a4-b02a-4e0979c2f267"
      },
      "source": [
        "print(torch.add(x, y)) # есть отдельная операция для сложения (в numpy тоже такая есть)"
      ],
      "execution_count": null,
      "outputs": [
        {
          "output_type": "stream",
          "text": [
            "tensor([[0.5419, 0.7170],\n",
            "        [0.9353, 1.2134],\n",
            "        [0.8357, 0.6486]])\n"
          ],
          "name": "stdout"
        }
      ]
    },
    {
      "cell_type": "code",
      "metadata": {
        "ExecuteTime": {
          "end_time": "2021-03-29T09:49:14.063028Z",
          "start_time": "2021-03-29T09:49:14.056047Z"
        },
        "colab": {
          "base_uri": "https://localhost:8080/",
          "height": 72
        },
        "id": "7UYRBcpoiTbB",
        "outputId": "8f3b2c79-d73e-46ac-81f0-e052f1bfe089"
      },
      "source": [
        "result = torch.empty(5, 3)\n",
        "torch.add(x, y, out=result)\n",
        "print(result)"
      ],
      "execution_count": null,
      "outputs": [
        {
          "output_type": "stream",
          "text": [
            "tensor([[0.5419, 0.7170],\n",
            "        [0.9353, 1.2134],\n",
            "        [0.8357, 0.6486]])\n"
          ],
          "name": "stdout"
        },
        {
          "output_type": "stream",
          "text": [
            "<ipython-input-14-be44516bcd9b>:2: UserWarning: An output with one or more elements was resized since it had shape [5, 3], which does not match the required output shape [3, 2].This behavior is deprecated, and in a future PyTorch release outputs will not be resized unless they have zero elements. You can explicitly reuse an out tensor t by resizing it, inplace, to zero elements with t.resize_(0). (Triggered internally at  ..\\aten\\src\\ATen\\native\\Resize.cpp:19.)\n",
            "  torch.add(x, y, out=result)\n"
          ],
          "name": "stderr"
        }
      ]
    },
    {
      "cell_type": "code",
      "metadata": {
        "id": "2utbo1dppaLM"
      },
      "source": [
        "__dict__"
      ],
      "execution_count": null,
      "outputs": []
    },
    {
      "cell_type": "code",
      "metadata": {
        "ExecuteTime": {
          "end_time": "2021-03-29T09:49:35.456551Z",
          "start_time": "2021-03-29T09:49:35.446580Z"
        },
        "colab": {
          "base_uri": "https://localhost:8080/",
          "height": 72
        },
        "id": "GYFra_AyiVaZ",
        "outputId": "e9081e9b-588d-4955-8d4d-9be1b4fb9b94"
      },
      "source": [
        "# можем делать много чего еще\n",
        "y.add_(x)\n",
        "print(y)"
      ],
      "execution_count": null,
      "outputs": [
        {
          "output_type": "stream",
          "text": [
            "tensor([[3.2488, 3.4514],\n",
            "        [1.9527, 2.5150],\n",
            "        [3.3842, 0.9096]])\n"
          ],
          "name": "stdout"
        }
      ]
    },
    {
      "cell_type": "code",
      "metadata": {
        "ExecuteTime": {
          "end_time": "2021-03-29T09:49:38.154143Z",
          "start_time": "2021-03-29T09:49:38.143173Z"
        },
        "colab": {
          "base_uri": "https://localhost:8080/",
          "height": 35
        },
        "id": "FQkHCEX6i2BJ",
        "outputId": "ac71009f-da9b-4e8b-a6c1-9aacf305bb4c"
      },
      "source": [
        "# индексация совпадает с таковой в numpy\n",
        "print(x[:, 1])"
      ],
      "execution_count": null,
      "outputs": [
        {
          "output_type": "stream",
          "text": [
            "tensor([0.5469, 0.2603, 0.0522])\n"
          ],
          "name": "stdout"
        }
      ]
    },
    {
      "cell_type": "code",
      "metadata": {
        "ExecuteTime": {
          "end_time": "2021-03-29T09:49:47.583875Z",
          "start_time": "2021-03-29T09:49:47.577928Z"
        },
        "colab": {
          "base_uri": "https://localhost:8080/",
          "height": 35
        },
        "id": "0s1V5q80i6aC",
        "outputId": "e76d81b7-ccc1-416f-98ef-fcbd9a9a4de1"
      },
      "source": [
        "# Для изменения размера тензора используем  torch.view:\n",
        "\n",
        "x = torch.randn(4, 4)\n",
        "y = x.view(16)\n",
        "z = x.view(-1, 8)  # размер в первой позиции \n",
        "print(x.size(), y.size(), z.size())"
      ],
      "execution_count": null,
      "outputs": [
        {
          "output_type": "stream",
          "text": [
            "torch.Size([4, 4]) torch.Size([16]) torch.Size([2, 8])\n"
          ],
          "name": "stdout"
        }
      ]
    },
    {
      "cell_type": "code",
      "metadata": {
        "ExecuteTime": {
          "end_time": "2021-03-29T09:50:21.913198Z",
          "start_time": "2021-03-29T09:50:21.907216Z"
        },
        "colab": {
          "base_uri": "https://localhost:8080/",
          "height": 54
        },
        "id": "KxTb7IszjxC_",
        "outputId": "39b47680-0918-4afa-faab-80dc3007b34f"
      },
      "source": [
        "# Можно использовать __.item()__ для того, чтобы извлечь значение \n",
        "# из тензора размера 1 на 1\n",
        "\n",
        "x = torch.randn(1)\n",
        "print(x)\n",
        "print(x.item())"
      ],
      "execution_count": null,
      "outputs": [
        {
          "output_type": "stream",
          "text": [
            "tensor([-1.2196])\n",
            "-1.2196472883224487\n"
          ],
          "name": "stdout"
        }
      ]
    },
    {
      "cell_type": "markdown",
      "metadata": {
        "id": "7T3htsdzj_Zz"
      },
      "source": [
        "Больше информации о тензорах есть в документации\n",
        "https://pytorch.org/docs/stable/torch.html"
      ]
    },
    {
      "cell_type": "markdown",
      "metadata": {
        "id": "n6qBDtyrlQg9"
      },
      "source": [
        "## **Перемещение и преобразование pytorch.tensor()**\n",
        "\n",
        "**В numpy и обратно**"
      ]
    },
    {
      "cell_type": "code",
      "metadata": {
        "colab": {
          "base_uri": "https://localhost:8080/"
        },
        "id": "26D_Aq_9lWNG",
        "outputId": "6fab82ec-c1bd-4e48-b71b-d5f2806286a5"
      },
      "source": [
        "a = torch.ones(4)\n",
        "print(a)"
      ],
      "execution_count": null,
      "outputs": [
        {
          "output_type": "stream",
          "text": [
            "tensor([1., 1., 1., 1.])\n"
          ],
          "name": "stdout"
        }
      ]
    },
    {
      "cell_type": "code",
      "metadata": {
        "colab": {
          "base_uri": "https://localhost:8080/"
        },
        "id": "q1mbJ5Salkg7",
        "outputId": "171faed3-5543-4283-90d8-7369867fa427"
      },
      "source": [
        "# из тензора можно сделать numpy array\n",
        "b = a.numpy()\n",
        "print(b)"
      ],
      "execution_count": null,
      "outputs": [
        {
          "output_type": "stream",
          "text": [
            "[1. 1. 1. 1.]\n"
          ],
          "name": "stdout"
        }
      ]
    },
    {
      "cell_type": "code",
      "metadata": {
        "colab": {
          "base_uri": "https://localhost:8080/"
        },
        "id": "xgBx8hhllmDr",
        "outputId": "5c33990e-35b2-4917-c769-fbcc7615240a"
      },
      "source": [
        "# объекты остаются лежать в одной и той же области памяти\n",
        "a.add_(1)\n",
        "print(a)\n",
        "print(b)"
      ],
      "execution_count": null,
      "outputs": [
        {
          "output_type": "stream",
          "text": [
            "tensor([2., 2., 2., 2.])\n",
            "[2. 2. 2. 2.]\n"
          ],
          "name": "stdout"
        }
      ]
    },
    {
      "cell_type": "code",
      "metadata": {
        "colab": {
          "base_uri": "https://localhost:8080/"
        },
        "id": "-LgdKrnllo5Q",
        "outputId": "deffa607-09e2-489b-b82d-f73d0209839c"
      },
      "source": [
        "# преобразование можно делать и в обратную сторону\n",
        "a = np.ones(5)\n",
        "b = torch.from_numpy(a)\n",
        "np.add(a, 1, out=a)\n",
        "print(a)\n",
        "print(b)"
      ],
      "execution_count": null,
      "outputs": [
        {
          "output_type": "stream",
          "text": [
            "[2. 2. 2. 2. 2.]\n",
            "tensor([2., 2., 2., 2., 2.], dtype=torch.float64)\n"
          ],
          "name": "stdout"
        }
      ]
    },
    {
      "cell_type": "markdown",
      "metadata": {
        "id": "oRr2b6fYmGXj"
      },
      "source": [
        "**Перемещение в память устройства**"
      ]
    },
    {
      "cell_type": "code",
      "metadata": {
        "ExecuteTime": {
          "end_time": "2021-04-05T10:52:39.913654Z",
          "start_time": "2021-04-05T10:52:39.892739Z"
        },
        "colab": {
          "base_uri": "https://localhost:8080/"
        },
        "id": "phK_yYrrmLTD",
        "outputId": "c6c820ef-eb28-493f-f0b7-c2b22c687981"
      },
      "source": [
        "# проверим, доступна ли CUDA (GPU)\n",
        "print(torch.cuda.is_available())"
      ],
      "execution_count": null,
      "outputs": [
        {
          "output_type": "stream",
          "text": [
            "True\n"
          ],
          "name": "stdout"
        }
      ]
    },
    {
      "cell_type": "code",
      "metadata": {
        "colab": {
          "base_uri": "https://localhost:8080/"
        },
        "id": "CtBd1uUdmDIP",
        "outputId": "36e1a1a3-b68a-47d2-e58e-ee1388453b17"
      },
      "source": [
        "# теперь попробуем перемещать массивы из памяти CPU в память GPU\n",
        "x = torch.randn(4, 4)\n",
        "device = torch.device(\"cuda:0\")        # наше устройство с CUDA\n",
        "y = torch.ones_like(x, device=device)  # создать тензор сразу на устройстве GPU\n",
        "x = x.to(device)                       # или переместим на устройство ``.to(\"cuda\")``\n",
        "z = x + y\n",
        "print(z)\n",
        "print(z.to(\"cpu\", torch.double))       # ``.to`` позволяет менять тип"
      ],
      "execution_count": null,
      "outputs": [
        {
          "output_type": "stream",
          "text": [
            "tensor([[ 1.2830,  1.9322,  0.2625, -0.1267],\n",
            "        [-0.5638,  1.4110, -0.5280,  0.6161],\n",
            "        [ 1.6653,  0.8847,  0.9666,  0.4223],\n",
            "        [ 0.6835,  1.9330,  0.0549,  0.1737]], device='cuda:0')\n",
            "tensor([[ 1.2830,  1.9322,  0.2625, -0.1267],\n",
            "        [-0.5638,  1.4110, -0.5280,  0.6161],\n",
            "        [ 1.6653,  0.8847,  0.9666,  0.4223],\n",
            "        [ 0.6835,  1.9330,  0.0549,  0.1737]], dtype=torch.float64)\n"
          ],
          "name": "stdout"
        }
      ]
    },
    {
      "cell_type": "code",
      "metadata": {
        "colab": {
          "base_uri": "https://localhost:8080/"
        },
        "id": "rNhkUw1Jv0rz",
        "outputId": "58a0cbb3-ff5e-44ee-df97-e050813984f5"
      },
      "source": [
        "# зачем нам вообще работать на GPU? Потому что это быстрее!\n",
        "# пробуем использовать tensor на CPU\n",
        "x = torch.rand(5, 64)\n",
        "y = torch.rand(64, 5000)\n",
        "%timeit z = (x @ y).sum(dim=1)\n",
        "\n",
        "# пробуем использовать tensor на GPU\n",
        "x, y = x.cuda(), y.cuda()\n",
        "%timeit z = (x @ y).sum(dim=1)\n",
        "\n",
        "# сравним с numpy\n",
        "x = np.random.random((5, 64))\n",
        "y = np.random.random((64, 5000))\n",
        "%timeit z = (x @ y).sum(axis=1)"
      ],
      "execution_count": null,
      "outputs": [
        {
          "output_type": "stream",
          "text": [
            "The slowest run took 187.39 times longer than the fastest. This could mean that an intermediate result is being cached.\n",
            "10000 loops, best of 5: 87.3 µs per loop\n",
            "The slowest run took 534.95 times longer than the fastest. This could mean that an intermediate result is being cached.\n",
            "10000 loops, best of 5: 18.1 µs per loop\n",
            "The slowest run took 9.61 times longer than the fastest. This could mean that an intermediate result is being cached.\n",
            "1000 loops, best of 5: 463 µs per loop\n"
          ],
          "name": "stdout"
        }
      ]
    },
    {
      "cell_type": "markdown",
      "metadata": {
        "id": "3LaOR_aD3K_3"
      },
      "source": [
        "## **Автоматическое дифференцирование**"
      ]
    },
    {
      "cell_type": "code",
      "metadata": {
        "ExecuteTime": {
          "end_time": "2021-03-29T09:59:26.311221Z",
          "start_time": "2021-03-29T09:59:26.305238Z"
        },
        "colab": {
          "base_uri": "https://localhost:8080/"
        },
        "id": "Q4Grta513MST",
        "outputId": "ba1882c5-0b37-4510-c9ac-afe53a238237"
      },
      "source": [
        "# с помощью requires_grad говорим pytorch, что там нужны градиенты\n",
        "x = torch.ones(2, 2, requires_grad=True)\n",
        "print(x)"
      ],
      "execution_count": null,
      "outputs": [
        {
          "output_type": "stream",
          "text": [
            "tensor([[1., 1.],\n",
            "        [1., 1.]], requires_grad=True)\n"
          ],
          "name": "stdout"
        }
      ]
    },
    {
      "cell_type": "code",
      "metadata": {
        "ExecuteTime": {
          "end_time": "2021-03-29T09:59:28.050910Z",
          "start_time": "2021-03-29T09:59:28.044925Z"
        },
        "colab": {
          "base_uri": "https://localhost:8080/"
        },
        "id": "RV9THlvC3y8d",
        "outputId": "8890c0dc-6518-46cf-fca0-808e51f8f9d1"
      },
      "source": [
        "# теперь у других переменных мы следим за зависимостями от исходных переменных\n",
        "y = x + 2\n",
        "print(y)"
      ],
      "execution_count": null,
      "outputs": [
        {
          "output_type": "stream",
          "text": [
            "tensor([[3., 3.],\n",
            "        [3., 3.]], grad_fn=<AddBackward0>)\n"
          ],
          "name": "stdout"
        }
      ]
    },
    {
      "cell_type": "code",
      "metadata": {
        "ExecuteTime": {
          "end_time": "2021-03-29T09:59:29.094611Z",
          "start_time": "2021-03-29T09:59:29.090622Z"
        },
        "colab": {
          "base_uri": "https://localhost:8080/"
        },
        "id": "0ISL7gYI300-",
        "outputId": "bd7019ab-bf97-4175-8237-f3cac78a3e05"
      },
      "source": [
        "# можно посмотреть на эту функцию в явном виде\n",
        "print(y.grad_fn)"
      ],
      "execution_count": null,
      "outputs": [
        {
          "output_type": "stream",
          "text": [
            "<AddBackward0 object at 0x7fa1bf5ba510>\n"
          ],
          "name": "stdout"
        }
      ]
    },
    {
      "cell_type": "code",
      "metadata": {
        "ExecuteTime": {
          "end_time": "2021-03-29T09:59:50.783307Z",
          "start_time": "2021-03-29T09:59:50.776326Z"
        },
        "colab": {
          "base_uri": "https://localhost:8080/"
        },
        "id": "7t7srGOh36Va",
        "outputId": "7c17af58-36b5-4a2f-ca5f-e2f091fc7054"
      },
      "source": [
        "# получим теперь одно число out, которое будет функцией x\n",
        "z = y * y * 3\n",
        "out = z.mean()\n",
        "\n",
        "print(z, out)"
      ],
      "execution_count": null,
      "outputs": [
        {
          "output_type": "stream",
          "text": [
            "tensor([[27., 27.],\n",
            "        [27., 27.]], grad_fn=<MulBackward0>) tensor(27., grad_fn=<MeanBackward0>)\n"
          ],
          "name": "stdout"
        }
      ]
    },
    {
      "cell_type": "code",
      "metadata": {
        "ExecuteTime": {
          "end_time": "2021-03-29T10:00:01.126327Z",
          "start_time": "2021-03-29T10:00:01.116355Z"
        },
        "colab": {
          "base_uri": "https://localhost:8080/",
          "height": 90
        },
        "id": "tFNmcF2C3_gy",
        "outputId": "3db73af9-7091-4730-8a77-a2dcaccc8139"
      },
      "source": [
        "a = torch.randn(2, 2)\n",
        "a = ((a * 3) / (a - 1))\n",
        "print(a.requires_grad)\n",
        "b = (a * a).sum()\n",
        "print(b.grad_fn)\n",
        "\n",
        "# можно менять атрибут requires_grad в процессе работы\n",
        "a.requires_grad_(True)\n",
        "print(a.requires_grad)\n",
        "b = (a * a).sum()\n",
        "print(b.grad_fn)"
      ],
      "execution_count": null,
      "outputs": [
        {
          "output_type": "stream",
          "text": [
            "False\n",
            "None\n",
            "True\n",
            "<SumBackward0 object at 0x000002BC66519F40>\n"
          ],
          "name": "stdout"
        }
      ]
    },
    {
      "cell_type": "markdown",
      "metadata": {
        "id": "LkqbL2T448uo"
      },
      "source": [
        "**Как считать производные**"
      ]
    },
    {
      "cell_type": "code",
      "metadata": {
        "ExecuteTime": {
          "end_time": "2021-03-29T10:00:08.345028Z",
          "start_time": "2021-03-29T10:00:08.310124Z"
        },
        "id": "fxhafZv45Atb"
      },
      "source": [
        "# сначала запустим backward\n",
        "out.backward()"
      ],
      "execution_count": null,
      "outputs": []
    },
    {
      "cell_type": "code",
      "metadata": {
        "ExecuteTime": {
          "end_time": "2021-03-29T10:00:09.623880Z",
          "start_time": "2021-03-29T10:00:09.618865Z"
        },
        "colab": {
          "base_uri": "https://localhost:8080/",
          "height": 54
        },
        "id": "EZfukKMB5GFr",
        "outputId": "2ebe5413-c121-4b19-c0ca-a9021ce48309"
      },
      "source": [
        "# теперь знаем частные производные out по x\n",
        "print(x.grad)"
      ],
      "execution_count": null,
      "outputs": [
        {
          "output_type": "stream",
          "text": [
            "tensor([[4.5000, 4.5000],\n",
            "        [4.5000, 4.5000]])\n"
          ],
          "name": "stdout"
        }
      ]
    },
    {
      "cell_type": "code",
      "metadata": {
        "ExecuteTime": {
          "end_time": "2021-04-05T11:05:21.276923Z",
          "start_time": "2021-04-05T11:05:21.271938Z"
        },
        "id": "r2UCsUPL4DsH"
      },
      "source": [
        "x = torch.tensor([1., 2., 3.], requires_grad=True)"
      ],
      "execution_count": null,
      "outputs": []
    },
    {
      "cell_type": "code",
      "metadata": {
        "ExecuteTime": {
          "end_time": "2021-04-05T11:06:27.784911Z",
          "start_time": "2021-04-05T11:06:27.779952Z"
        },
        "id": "Q5woYbRy947S"
      },
      "source": [
        "y = x * 2\n",
        "z = x * 3"
      ],
      "execution_count": null,
      "outputs": []
    },
    {
      "cell_type": "code",
      "metadata": {
        "ExecuteTime": {
          "end_time": "2021-04-05T11:06:30.119517Z",
          "start_time": "2021-04-05T11:06:30.105561Z"
        },
        "id": "eNWl5j4rpaLW",
        "outputId": "71aa1bc8-63f9-4ccd-9632-861b20f488b0"
      },
      "source": [
        "w = torch.tensor([0.5, 1.0, 0.0001], dtype=torch.float)\n",
        "z.backward(w)\n",
        "print(x.grad)\n",
        "x.grad = torch.zeros_like(x.grad)\n",
        "\n",
        "v = torch.tensor([0.2, 1.0, 0.0001], dtype=torch.float)\n",
        "y.backward(v)\n",
        "print(x.grad)"
      ],
      "execution_count": null,
      "outputs": [
        {
          "output_type": "stream",
          "text": [
            "tensor([1.0390e+02, 5.1500e+02, 5.1500e-02])\n",
            "tensor([4.0000e-01, 2.0000e+00, 2.0000e-04])\n"
          ],
          "name": "stdout"
        }
      ]
    },
    {
      "cell_type": "code",
      "metadata": {
        "ExecuteTime": {
          "end_time": "2021-03-29T10:00:57.202269Z",
          "start_time": "2021-03-29T10:00:57.197314Z"
        },
        "colab": {
          "base_uri": "https://localhost:8080/",
          "height": 72
        },
        "id": "9ss0Q62l5Qxb",
        "outputId": "20d43764-c6a6-4a49-b970-7296bdf6bdd8"
      },
      "source": [
        "print(x.requires_grad)\n",
        "print((x ** 2).requires_grad)\n",
        "\n",
        "with torch.no_grad():\n",
        "    print((x ** 2).requires_grad)"
      ],
      "execution_count": null,
      "outputs": [
        {
          "output_type": "stream",
          "text": [
            "True\n",
            "True\n",
            "False\n"
          ],
          "name": "stdout"
        }
      ]
    },
    {
      "cell_type": "markdown",
      "metadata": {
        "id": "Gy8LxAg2W1YW"
      },
      "source": [
        "## Линейная регрессия с помощью PyTorch"
      ]
    },
    {
      "cell_type": "code",
      "metadata": {
        "ExecuteTime": {
          "end_time": "2021-04-05T11:08:12.557314Z",
          "start_time": "2021-04-05T11:08:12.552327Z"
        },
        "id": "yQFLLN1GLM2D"
      },
      "source": [
        "from sklearn import datasets, model_selection\n",
        "import matplotlib.pyplot as plt"
      ],
      "execution_count": null,
      "outputs": []
    },
    {
      "cell_type": "code",
      "metadata": {
        "ExecuteTime": {
          "end_time": "2021-04-05T11:08:15.062401Z",
          "start_time": "2021-04-05T11:08:15.031482Z"
        },
        "id": "9W5qICzSLTu-"
      },
      "source": [
        "# Загрузим стандартный набор данных, доступный в sklearn. \n",
        "# Для этой выборки будем строить линейную регрессионную модель. \n",
        "boston_data = datasets.load_boston()\n",
        "\n",
        "# отделим входы и выходы\n",
        "points = boston_data['data']\n",
        "values = boston_data['target'].reshape(-1, 1)\n",
        "\n",
        "\n",
        "# разобьем выборку на обучающую и тестовую\n",
        "training_points, test_points, training_values, test_values = model_selection.train_test_split(\n",
        "    points, values, test_size=0.33, random_state=42)"
      ],
      "execution_count": null,
      "outputs": []
    },
    {
      "cell_type": "code",
      "metadata": {
        "ExecuteTime": {
          "end_time": "2021-04-05T11:15:13.978833Z",
          "start_time": "2021-04-05T11:15:13.971853Z"
        },
        "id": "3IIWydaJI-zo"
      },
      "source": [
        "# зададим класс для линейной регрессии. Мы наследуем его от torch.nn.Module\n",
        "# нам нужны две функции: \n",
        "# * __init__ определяет, как мы создаем объект этого класса\n",
        "# * forward определяет, как мы делаем прогноз\n",
        "\n",
        "class linearRegression(torch.nn.Module):\n",
        "  # инициализация объекта класса\n",
        "  def __init__(self, input_dimension, output_dimension):\n",
        "    # сначала запустим init аналогичный родительскому классу\n",
        "    super(linearRegression, self).__init__() \n",
        "    # затем создадим свой первый слой на pytorch\n",
        "    # так как модель у нас линейная, то и слой линейный\n",
        "    self.linear = torch.nn.Linear(input_dimension, output_dimension)\n",
        "\n",
        "  # подсчет прогноза\n",
        "  def forward(self, x):\n",
        "    out = self.linear(x)\n",
        "    return out"
      ],
      "execution_count": null,
      "outputs": []
    },
    {
      "cell_type": "code",
      "metadata": {
        "ExecuteTime": {
          "end_time": "2021-04-05T11:15:15.820561Z",
          "start_time": "2021-04-05T11:15:15.809589Z"
        },
        "id": "I6aHMjU9I8Aw"
      },
      "source": [
        "# инициализируем объект нашего класса, получив сперва размерности \n",
        "input_dimension = training_points.shape[1]\n",
        "output_dimension = 1\n",
        "\n",
        "model = linearRegression(input_dimension, output_dimension)\n",
        "\n",
        "# используем GPU, чтобы все считалось быстрее\n",
        "if torch.cuda.is_available():\n",
        "    model.cuda()"
      ],
      "execution_count": null,
      "outputs": []
    },
    {
      "cell_type": "code",
      "metadata": {
        "ExecuteTime": {
          "end_time": "2021-04-05T11:15:17.407070Z",
          "start_time": "2021-04-05T11:15:17.393103Z"
        },
        "id": "Jlt5BMa5paLY",
        "outputId": "97d6a951-f72e-43b8-a7bf-cb945ced3055"
      },
      "source": [
        "[w for w in model.parameters()]"
      ],
      "execution_count": null,
      "outputs": [
        {
          "output_type": "execute_result",
          "data": {
            "text/plain": [
              "[Parameter containing:\n",
              " tensor([[ 0.2405,  0.0891,  0.0022, -0.2657,  0.2016,  0.0700,  0.1110,  0.1862,\n",
              "           0.0011, -0.1874,  0.1421,  0.2117,  0.1580]], device='cuda:0',\n",
              "        requires_grad=True),\n",
              " Parameter containing:\n",
              " tensor([-0.0612], device='cuda:0', requires_grad=True)]"
            ]
          },
          "metadata": {
            "tags": []
          },
          "execution_count": 409
        }
      ]
    },
    {
      "cell_type": "code",
      "metadata": {
        "ExecuteTime": {
          "end_time": "2021-04-05T11:15:19.110093Z",
          "start_time": "2021-04-05T11:15:19.105111Z"
        },
        "id": "W5AQEswLJNzE"
      },
      "source": [
        "# определим, что мы будем оптимизировать и как\n",
        "learning_rate = 1e-3\n",
        "\n",
        "# будем минимизировать квадратичную функцию потерь\n",
        "criterion = torch.nn.MSELoss()\n",
        "# с помощью алгоритма ADAM (дальше посмотрим на разные алгоритмы оптимизации подробнее)\n",
        "optimizer = torch.optim.Adam(model.parameters(), lr=learning_rate)"
      ],
      "execution_count": null,
      "outputs": []
    },
    {
      "cell_type": "code",
      "metadata": {
        "ExecuteTime": {
          "end_time": "2021-04-05T11:15:23.034314Z",
          "start_time": "2021-04-05T11:15:20.734883Z"
        },
        "colab": {
          "base_uri": "https://localhost:8080/",
          "height": 381
        },
        "id": "QrTfvzuXJQ_4",
        "outputId": "d9dc0536-ffa2-4d7c-8fb3-895a295428d2"
      },
      "source": [
        "epochs = 2000\n",
        "\n",
        "# входные и выходные матрицы сконевртируем в тензоры\n",
        "if torch.cuda.is_available():\n",
        "    inputs = torch.from_numpy(training_points).type(torch.float).cuda()\n",
        "    outputs = torch.from_numpy(training_values).type(torch.float).cuda()\n",
        "else:\n",
        "    inputs = torch.from_numpy(training_points)\n",
        "    outputs = torch.from_numpy(training_values)\n",
        "\n",
        "for epoch in range(epochs):\n",
        "    # нужно обнулить градиенты, иначе будет их аккумулировать\n",
        "    optimizer.zero_grad()\n",
        "\n",
        "    # получим выход модели с учетом наличия входов\n",
        "    training_predictions = model(inputs)\n",
        "\n",
        "    # получим значение функции потерь для полученных прогнозов\n",
        "    loss_value = criterion(training_predictions, outputs)\n",
        "    # подсчитаем градиенты\n",
        "    loss_value.backward()\n",
        "\n",
        "    # сделаем апдейт параметров\n",
        "    optimizer.step()\n",
        "\n",
        "    if epoch % 100 == 1:\n",
        "        print('epoch {}, loss {}'.format(epoch, loss_value.item()))"
      ],
      "execution_count": null,
      "outputs": [
        {
          "output_type": "stream",
          "text": [
            "epoch 1, loss 1405.087158203125\n",
            "epoch 101, loss 342.981201171875\n",
            "epoch 201, loss 147.70863342285156\n",
            "epoch 301, loss 106.92498779296875\n",
            "epoch 401, loss 90.6817855834961\n",
            "epoch 501, loss 80.91046905517578\n",
            "epoch 601, loss 73.45337677001953\n",
            "epoch 701, loss 67.3121337890625\n",
            "epoch 801, loss 62.16395950317383\n",
            "epoch 901, loss 57.81874465942383\n",
            "epoch 1001, loss 54.13913345336914\n",
            "epoch 1101, loss 51.02271270751953\n",
            "epoch 1201, loss 48.389251708984375\n",
            "epoch 1301, loss 46.1712760925293\n",
            "epoch 1401, loss 44.30875015258789\n",
            "epoch 1501, loss 42.74691390991211\n",
            "epoch 1601, loss 41.435787200927734\n",
            "epoch 1701, loss 40.33039474487305\n",
            "epoch 1801, loss 39.391136169433594\n",
            "epoch 1901, loss 38.58393859863281\n"
          ],
          "name": "stdout"
        }
      ]
    },
    {
      "cell_type": "code",
      "metadata": {
        "ExecuteTime": {
          "end_time": "2021-04-05T11:15:23.926612Z",
          "start_time": "2021-04-05T11:15:23.674284Z"
        },
        "colab": {
          "base_uri": "https://localhost:8080/",
          "height": 573
        },
        "id": "Miv4gCM4Oi04",
        "outputId": "ad267f13-c525-423c-af29-831b2276d101"
      },
      "source": [
        "# сравним настоящие значения и прогнозы для обучающей выборки\n",
        "training_predictions = training_predictions.cpu().data.numpy()\n",
        "\n",
        "plt.figure(figsize=(9, 9))\n",
        "plt.plot(training_values, training_predictions, 'o');\n",
        "plt.plot([np.min(training_predictions), np.max(training_values)], \n",
        "         [np.min(training_predictions), np.max(training_values)])\n",
        "plt.xlabel('Настоящее значение')\n",
        "plt.ylabel('Прогноз');"
      ],
      "execution_count": null,
      "outputs": [
        {
          "output_type": "display_data",
          "data": {
            "image/png": "[encoded data removed]",
            "text/plain": [
              "<Figure size 648x648 with 1 Axes>"
            ]
          },
          "metadata": {
            "tags": [],
            "needs_background": "light"
          }
        }
      ]
    },
    {
      "cell_type": "code",
      "metadata": {
        "ExecuteTime": {
          "end_time": "2021-04-05T11:15:27.541969Z",
          "start_time": "2021-04-05T11:15:27.534989Z"
        },
        "id": "I4etWYP4Kfus"
      },
      "source": [
        "# Получим прогноз для тестовой выборки\n",
        "with torch.no_grad():\n",
        "    if torch.cuda.is_available():\n",
        "        test_predictions = model(torch.from_numpy(test_points).type(torch.float).cuda()).cpu().data.numpy()\n",
        "    else:\n",
        "        test_predictions = model(torch.from_numpy(test_points)).type(torch.float).data.numpy()"
      ],
      "execution_count": null,
      "outputs": []
    },
    {
      "cell_type": "code",
      "metadata": {
        "ExecuteTime": {
          "end_time": "2021-04-05T11:15:28.464395Z",
          "start_time": "2021-04-05T11:15:28.216613Z"
        },
        "colab": {
          "base_uri": "https://localhost:8080/",
          "height": 555
        },
        "id": "kR4QnPiNKaWb",
        "outputId": "8d1fee97-6d98-4127-ece4-7e2c9a7bfa8a"
      },
      "source": [
        "# TODO сравним настоящие значения и прогнозы для обучающей выборки\n",
        "plt.figure(figsize=(9, 9))\n",
        "plt.plot(test_values, test_predictions, 'o');\n",
        "plt.plot([np.min(test_predictions), np.max(test_values)], \n",
        "         [np.min(test_predictions), np.max(test_values)])\n",
        "plt.xlabel('Настоящее значение')\n",
        "plt.ylabel('Прогноз');"
      ],
      "execution_count": null,
      "outputs": [
        {
          "output_type": "display_data",
          "data": {
            "image/png": "[encoded data removed]",
            "text/plain": [
              "<Figure size 648x648 with 1 Axes>"
            ]
          },
          "metadata": {
            "tags": [],
            "needs_background": "light"
          }
        }
      ]
    },
    {
      "cell_type": "markdown",
      "metadata": {
        "id": "C59CyPrqSzm-"
      },
      "source": [
        "## **Логистическая регрессия с помощью PyTorch**"
      ]
    },
    {
      "cell_type": "code",
      "metadata": {
        "ExecuteTime": {
          "end_time": "2021-03-29T10:02:08.661337Z",
          "start_time": "2021-03-29T10:02:08.640364Z"
        },
        "id": "bge7OTT2TPBM"
      },
      "source": [
        "# Загрузим данные по предсказанию рака груди\n",
        "breast_cancer_data = datasets.load_breast_cancer()\n",
        "\n",
        "points = breast_cancer_data['data']\n",
        "labels = breast_cancer_data['target'].reshape(-1, 1)\n",
        "training_points, test_points, training_labels, test_labels = model_selection.train_test_split(\n",
        "    points, labels, test_size=0.33, random_state=42)"
      ],
      "execution_count": null,
      "outputs": []
    },
    {
      "cell_type": "code",
      "metadata": {
        "ExecuteTime": {
          "end_time": "2021-03-29T10:02:09.225524Z",
          "start_time": "2021-03-29T10:02:09.220502Z"
        },
        "id": "r2NaEGdKS21n"
      },
      "source": [
        "# TODO создадим класс для логистической регрессии\n",
        "class logisticRegression(torch.nn.Module):\n",
        "    def __init__(self, input_dimension, output_dimension):\n",
        "        super(logisticRegression, self).__init__()\n",
        "        self.linear = torch.nn.Linear(input_dimension, output_dimension)\n",
        "\n",
        "    def forward(self, x):\n",
        "        out = self.linear(x)\n",
        "        return out"
      ],
      "execution_count": null,
      "outputs": []
    },
    {
      "cell_type": "code",
      "metadata": {
        "ExecuteTime": {
          "end_time": "2021-03-29T10:02:12.792972Z",
          "start_time": "2021-03-29T10:02:12.787981Z"
        },
        "id": "IBFsykqflHiZ"
      },
      "source": [
        "# инициализируем объект нашего класса, получив сперва размерности \n",
        "input_dimension = training_points.shape[1]\n",
        "output_dimension = 1\n",
        "\n",
        "logistic_regression_model = logisticRegression(input_dimension, output_dimension)\n",
        "\n",
        "# используем GPU, чтобы все считалось быстрее\n",
        "if torch.cuda.is_available():\n",
        "    logistic_regression_model.cuda()"
      ],
      "execution_count": null,
      "outputs": []
    },
    {
      "cell_type": "code",
      "metadata": {
        "ExecuteTime": {
          "end_time": "2021-03-29T10:02:13.678490Z",
          "start_time": "2021-03-29T10:02:13.672513Z"
        },
        "colab": {
          "base_uri": "https://localhost:8080/",
          "height": 74
        },
        "id": "PfAeeG9ImZKg",
        "outputId": "dcf673a9-636e-4050-9011-96ffd39c6dca"
      },
      "source": [
        "# определим, что мы будем оптимизировать и как\n",
        "learning_rate = 1e-2\n",
        "\n",
        "# инициализируем нулями веса логистической регрессии\n",
        "torch.nn.init.constant_(logistic_regression_model.linear.weight, 0)\n",
        "\n",
        "# будем минимизировать логистическую функцию потерь\n",
        "criterion = torch.nn.BCEWithLogitsLoss(size_average=True)\n",
        "# с помощью алгоритма ADAM (дальше посмотрим на разные алгоритмы оптимизации подробнее)\n",
        "optimizer = torch.optim.Adam(logistic_regression_model.parameters(), lr=learning_rate)"
      ],
      "execution_count": null,
      "outputs": [
        {
          "output_type": "stream",
          "text": [
            "C:\\ProgramData\\Anaconda3\\lib\\site-packages\\torch\\nn\\_reduction.py:42: UserWarning: size_average and reduce args will be deprecated, please use reduction='mean' instead.\n",
            "  warnings.warn(warning.format(ret))\n"
          ],
          "name": "stderr"
        }
      ]
    },
    {
      "cell_type": "code",
      "metadata": {
        "ExecuteTime": {
          "end_time": "2021-03-29T10:02:18.292219Z",
          "start_time": "2021-03-29T10:02:16.238699Z"
        },
        "id": "cOT7JN8zLGRu",
        "outputId": "b3e5b799-4e9a-4021-b3fe-343a3eea8e6d"
      },
      "source": [
        "epochs = 2000\n",
        "\n",
        "# входные и выходные матрицы сконевртируем в тензоры\n",
        "if torch.cuda.is_available():\n",
        "    inputs = Variable(torch.from_numpy(training_points).type(torch.float).cuda())\n",
        "    outputs = Variable(torch.from_numpy(training_labels).type(torch.float).cuda())\n",
        "else:\n",
        "    inputs = Variable(torch.from_numpy(training_points).type(torch.float))\n",
        "    outputs = Variable(torch.from_numpy(training_labels).type(torch.float))\n",
        "\n",
        "for epoch in range(epochs):\n",
        "    # нужно обнулить градиенты, иначе будет их аккумулировать\n",
        "    optimizer.zero_grad()\n",
        "\n",
        "    # получим выход модели с учетом наличия входов\n",
        "    training_predictions = logistic_regression_model(inputs)\n",
        "\n",
        "    # получим значение функции потерь для полученных прогнозов\n",
        "    loss_value = criterion(training_predictions, outputs)\n",
        "    # подсчитаем градиенты\n",
        "    loss_value.backward()\n",
        "\n",
        "    # сделаем апдейт параметров\n",
        "    optimizer.step()\n",
        "\n",
        "    if epoch % 100 == 1:\n",
        "        print('epoch {}, loss {}'.format(epoch, loss_value.item()))"
      ],
      "execution_count": null,
      "outputs": [
        {
          "output_type": "stream",
          "text": [
            "epoch 1, loss 5.134042739868164\n",
            "epoch 101, loss 0.22277499735355377\n",
            "epoch 201, loss 0.1871049553155899\n",
            "epoch 301, loss 0.16426105797290802\n",
            "epoch 401, loss 0.14741481840610504\n",
            "epoch 501, loss 0.134878009557724\n",
            "epoch 601, loss 0.1254711002111435\n",
            "epoch 701, loss 0.11828348785638809\n",
            "epoch 801, loss 0.11264032125473022\n",
            "epoch 901, loss 0.1080738976597786\n",
            "epoch 1001, loss 0.10427065193653107\n",
            "epoch 1101, loss 0.10102133452892303\n",
            "epoch 1201, loss 0.09818503260612488\n",
            "epoch 1301, loss 0.09566515684127808\n",
            "epoch 1401, loss 0.09339410811662674\n",
            "epoch 1501, loss 0.09132342040538788\n",
            "epoch 1601, loss 0.08941781520843506\n",
            "epoch 1701, loss 0.08765087276697159\n",
            "epoch 1801, loss 0.08600243926048279\n",
            "epoch 1901, loss 0.0844569131731987\n"
          ],
          "name": "stdout"
        }
      ]
    },
    {
      "cell_type": "markdown",
      "metadata": {
        "id": "J6Ri0klFw7Ui"
      },
      "source": [
        "## Оценка качества построенной модели\n",
        "\n",
        "Мы сравним качество полученной модели с качеством модели логистической регрессии из sklearn с помощью метрики ROCAUC."
      ]
    },
    {
      "cell_type": "code",
      "metadata": {
        "ExecuteTime": {
          "end_time": "2021-03-29T10:02:43.496341Z",
          "start_time": "2021-03-29T10:02:43.395481Z"
        },
        "id": "ORg5P-pcqskO"
      },
      "source": [
        "# импортируем нужные модели\n",
        "from sklearn import metrics, linear_model"
      ],
      "execution_count": null,
      "outputs": []
    },
    {
      "cell_type": "code",
      "metadata": {
        "ExecuteTime": {
          "end_time": "2021-03-29T10:02:44.030003Z",
          "start_time": "2021-03-29T10:02:44.023022Z"
        },
        "id": "M6O9sE1kwuIa"
      },
      "source": [
        "# считаем прогнозы\n",
        "with torch.no_grad():\n",
        "    if torch.cuda.is_available():\n",
        "        test_predictions = logistic_regression_model(Variable(torch.from_numpy(test_points).type(torch.float).cuda())).cpu().data.numpy()\n",
        "    else:\n",
        "        test_predictions = logistic_regression_model(Variable(torch.from_numpy(test_points))).type(torch.float).data.numpy()"
      ],
      "execution_count": null,
      "outputs": []
    },
    {
      "cell_type": "code",
      "metadata": {
        "ExecuteTime": {
          "end_time": "2021-03-29T10:02:45.284845Z",
          "start_time": "2021-03-29T10:02:45.280856Z"
        },
        "id": "Jv70tnIUw03D"
      },
      "source": [
        "sklearn_logistic_regression_model = linear_model.LogisticRegression()"
      ],
      "execution_count": null,
      "outputs": []
    },
    {
      "cell_type": "code",
      "metadata": {
        "ExecuteTime": {
          "end_time": "2021-03-29T10:02:47.417843Z",
          "start_time": "2021-03-29T10:02:47.357003Z"
        },
        "colab": {
          "base_uri": "https://localhost:8080/",
          "height": 110
        },
        "id": "YHJN9W9mxmaa",
        "outputId": "2b664c0f-be0f-48cc-a1e8-45db5921988b"
      },
      "source": [
        "sklearn_logistic_regression_model.fit(training_points, training_labels)"
      ],
      "execution_count": null,
      "outputs": [
        {
          "output_type": "stream",
          "text": [
            "C:\\ProgramData\\Anaconda3\\lib\\site-packages\\sklearn\\utils\\validation.py:72: DataConversionWarning: A column-vector y was passed when a 1d array was expected. Please change the shape of y to (n_samples, ), for example using ravel().\n",
            "  return f(**kwargs)\n",
            "C:\\ProgramData\\Anaconda3\\lib\\site-packages\\sklearn\\linear_model\\_logistic.py:762: ConvergenceWarning: lbfgs failed to converge (status=1):\n",
            "STOP: TOTAL NO. of ITERATIONS REACHED LIMIT.\n",
            "\n",
            "Increase the number of iterations (max_iter) or scale the data as shown in:\n",
            "    https://scikit-learn.org/stable/modules/preprocessing.html\n",
            "Please also refer to the documentation for alternative solver options:\n",
            "    https://scikit-learn.org/stable/modules/linear_model.html#logistic-regression\n",
            "  n_iter_i = _check_optimize_result(\n"
          ],
          "name": "stderr"
        },
        {
          "output_type": "execute_result",
          "data": {
            "text/plain": [
              "LogisticRegression()"
            ]
          },
          "metadata": {
            "tags": []
          },
          "execution_count": 54
        }
      ]
    },
    {
      "cell_type": "code",
      "metadata": {
        "ExecuteTime": {
          "end_time": "2021-03-29T10:02:51.347498Z",
          "start_time": "2021-03-29T10:02:51.342513Z"
        },
        "id": "Or0r3pGsxrBP"
      },
      "source": [
        "sklearn_test_predictions = sklearn_logistic_regression_model.predict_proba(test_points)[:, 1]"
      ],
      "execution_count": null,
      "outputs": []
    },
    {
      "cell_type": "code",
      "metadata": {
        "ExecuteTime": {
          "end_time": "2021-03-29T10:02:59.404590Z",
          "start_time": "2021-03-29T10:02:59.396612Z"
        },
        "colab": {
          "base_uri": "https://localhost:8080/",
          "height": 35
        },
        "id": "0rsHfBc3xyGE",
        "outputId": "d9388cfc-8e06-42ce-da4d-0a1730d36be8"
      },
      "source": [
        "# считаем ROC AUC для двух моделей\n",
        "metrics.roc_auc_score(test_labels, test_predictions)"
      ],
      "execution_count": null,
      "outputs": [
        {
          "output_type": "execute_result",
          "data": {
            "text/plain": [
              "0.9969162452201801"
            ]
          },
          "metadata": {
            "tags": []
          },
          "execution_count": 57
        }
      ]
    },
    {
      "cell_type": "code",
      "metadata": {
        "ExecuteTime": {
          "end_time": "2021-03-29T10:02:59.930442Z",
          "start_time": "2021-03-29T10:02:59.923481Z"
        },
        "colab": {
          "base_uri": "https://localhost:8080/",
          "height": 35
        },
        "id": "z5zoJUPZpaLg",
        "outputId": "d9388cfc-8e06-42ce-da4d-0a1730d36be8"
      },
      "source": [
        "metrics.roc_auc_score(test_labels, sklearn_test_predictions)"
      ],
      "execution_count": null,
      "outputs": [
        {
          "output_type": "execute_result",
          "data": {
            "text/plain": [
              "0.9975329961761441"
            ]
          },
          "metadata": {
            "tags": []
          },
          "execution_count": 58
        }
      ]
    },
    {
      "cell_type": "markdown",
      "metadata": {
        "id": "t9cA-F_qpaLh"
      },
      "source": [
        "# Практика"
      ]
    },
    {
      "cell_type": "code",
      "metadata": {
        "ExecuteTime": {
          "end_time": "2021-04-04T15:53:07.988004Z",
          "start_time": "2021-04-04T15:53:07.983039Z"
        },
        "id": "LjAA0PCnpaLh"
      },
      "source": [
        "import matplotlib.pyplot as plt\n",
        "import numpy as np\n",
        "\n",
        "# накидываем тысячу точек от -3 до 3\n",
        "x = np.linspace(-3, 3, 1000).reshape(-1, 1)\n",
        "\n",
        "# задаём линейную функцию, которую попробуем приблизить нашей нейронной сетью\n",
        "def f(x):    \n",
        "    return 2 * x + 5"
      ],
      "execution_count": null,
      "outputs": []
    },
    {
      "cell_type": "code",
      "metadata": {
        "ExecuteTime": {
          "end_time": "2021-04-04T15:53:12.135862Z",
          "start_time": "2021-04-04T15:53:12.126912Z"
        },
        "id": "Tk4cJv1wpaLh"
      },
      "source": [
        "f = np.vectorize(f)\n",
        "\n",
        "# вычисляем вектор значений функции\n",
        "y = f(x)"
      ],
      "execution_count": null,
      "outputs": []
    },
    {
      "cell_type": "code",
      "metadata": {
        "ExecuteTime": {
          "end_time": "2021-04-04T15:55:46.877581Z",
          "start_time": "2021-04-04T15:55:46.683099Z"
        },
        "id": "TA8N-7IfpaLh",
        "outputId": "b381e705-d2a4-4fea-99ec-428f3bc2e88a"
      },
      "source": [
        "plt.plot(y)\n",
        "plt.legend('y')"
      ],
      "execution_count": null,
      "outputs": [
        {
          "output_type": "execute_result",
          "data": {
            "text/plain": [
              "<matplotlib.legend.Legend at 0x27fac7ffa60>"
            ]
          },
          "metadata": {
            "tags": []
          },
          "execution_count": 13
        },
        {
          "output_type": "display_data",
          "data": {
            "image/png": "[encoded data removed]",
            "text/plain": [
              "<Figure size 432x288 with 1 Axes>"
            ]
          },
          "metadata": {
            "tags": [],
            "needs_background": "light"
          }
        }
      ]
    },
    {
      "cell_type": "code",
      "metadata": {
        "ExecuteTime": {
          "end_time": "2021-04-04T16:25:27.792705Z",
          "start_time": "2021-04-04T16:25:27.786719Z"
        },
        "id": "wT6jeWhcpaLi"
      },
      "source": [
        "# зададим класс для линейной регрессии. Мы наследуем его от torch.nn.Module\n",
        "# нам нужны две функции: \n",
        "# * __init__ определяет, как мы создаем объект этого класса\n",
        "# * forward определяет, как мы делаем прогноз\n",
        "\n",
        "class linearRegression(torch.nn.Module):\n",
        "  # инициализация объекта класса\n",
        "    def __init__(self, input_dimension, output_dimension):\n",
        "        # сначала запустим init аналогичный родительскому классу\n",
        "        super(linearRegression, self).__init__() \n",
        "        # затем создадим свой первый слой на pytorch\n",
        "        # так как модель у нас линейная, то и слой линейный\n",
        "        self.linear = torch.nn.Linear(input_dimension, output_dimension)\n",
        "\n",
        "  # подсчет прогноза\n",
        "    def forward(self, x):\n",
        "        out = self.linear(x)\n",
        "        return out\n",
        "\n",
        "    def predict(self, test):\n",
        "        return self.__call__(test)"
      ],
      "execution_count": null,
      "outputs": []
    },
    {
      "cell_type": "code",
      "metadata": {
        "ExecuteTime": {
          "end_time": "2021-04-04T16:25:28.783178Z",
          "start_time": "2021-04-04T16:25:28.777194Z"
        },
        "id": "t2nrk1G1paLi"
      },
      "source": [
        "# инициализируем объект нашего класса, получив сперва размерности \n",
        "input_dimension = y.shape[1]\n",
        "output_dimension = 1\n",
        "\n",
        "model = linearRegression(input_dimension, output_dimension)\n",
        "\n",
        "# используем GPU, чтобы все считалось быстрее\n",
        "if torch.cuda.is_available():\n",
        "    model.cuda()"
      ],
      "execution_count": null,
      "outputs": []
    },
    {
      "cell_type": "code",
      "metadata": {
        "ExecuteTime": {
          "end_time": "2021-04-04T16:25:29.715611Z",
          "start_time": "2021-04-04T16:25:29.710623Z"
        },
        "id": "FSM5EEQ0paLi",
        "outputId": "87dd12c0-2b2d-4626-b400-9cabc7f1349e"
      },
      "source": [
        "model.__dict__"
      ],
      "execution_count": null,
      "outputs": [
        {
          "output_type": "execute_result",
          "data": {
            "text/plain": [
              "{'training': True,\n",
              " '_parameters': OrderedDict(),\n",
              " '_buffers': OrderedDict(),\n",
              " '_non_persistent_buffers_set': set(),\n",
              " '_backward_hooks': OrderedDict(),\n",
              " '_is_full_backward_hook': None,\n",
              " '_forward_hooks': OrderedDict(),\n",
              " '_forward_pre_hooks': OrderedDict(),\n",
              " '_state_dict_hooks': OrderedDict(),\n",
              " '_load_state_dict_pre_hooks': OrderedDict(),\n",
              " '_modules': OrderedDict([('linear',\n",
              "               Linear(in_features=1, out_features=1, bias=True))])}"
            ]
          },
          "metadata": {
            "tags": []
          },
          "execution_count": 69
        }
      ]
    },
    {
      "cell_type": "code",
      "metadata": {
        "ExecuteTime": {
          "end_time": "2021-04-04T16:25:30.671212Z",
          "start_time": "2021-04-04T16:25:30.666226Z"
        },
        "id": "FixgeiD1paLi"
      },
      "source": [
        "# определим, что мы будем оптимизировать и как\n",
        "learning_rate = 1e-2\n",
        "\n",
        "# будем минимизировать квадратичную функцию потерь\n",
        "criterion = torch.nn.MSELoss()\n",
        "# с помощью алгоритма ADAM (дальше посмотрим на разные алгоритмы оптимизации подробнее)\n",
        "optimizer = torch.optim.Adam(model.parameters(), lr=learning_rate)"
      ],
      "execution_count": null,
      "outputs": []
    },
    {
      "cell_type": "code",
      "metadata": {
        "ExecuteTime": {
          "end_time": "2021-04-04T16:25:40.641612Z",
          "start_time": "2021-04-04T16:25:39.747208Z"
        },
        "colab": {
          "base_uri": "https://localhost:8080/",
          "height": 381
        },
        "id": "YQ1MPsg7paLj",
        "outputId": "d9dc0536-ffa2-4d7c-8fb3-895a295428d2"
      },
      "source": [
        "epochs = 1000\n",
        "\n",
        "# входные и выходные матрицы сконевртируем в тензоры\n",
        "if torch.cuda.is_available():\n",
        "    inputs = Variable(torch.from_numpy(x).type(torch.float).cuda())\n",
        "    outputs = Variable(torch.from_numpy(y).type(torch.float).cuda())\n",
        "else:\n",
        "    inputs = Variable(torch.from_numpy(x))\n",
        "    outputs = Variable(torch.from_numpy(y))\n",
        "\n",
        "for epoch in range(epochs):\n",
        "  # нужно обнулить градиенты, иначе будет их аккумулировать\n",
        "  optimizer.zero_grad()\n",
        "\n",
        "  # получим выход модели с учетом наличия входов\n",
        "  training_predictions = model(inputs)\n",
        "\n",
        "  # получим значение функции потерь для полученных прогнозов\n",
        "  loss_value = criterion(training_predictions, outputs)\n",
        "  # подсчитаем градиенты\n",
        "  loss_value.backward()\n",
        "\n",
        "  # сделаем апдейт параметров\n",
        "  optimizer.step()\n",
        "  \n",
        "  if epoch % 100 == 1:\n",
        "    print('epoch {}, loss {}'.format(epoch, loss_value.item()))"
      ],
      "execution_count": null,
      "outputs": [
        {
          "output_type": "stream",
          "text": [
            "epoch 1, loss 10.1619234085083\n",
            "epoch 101, loss 5.763704299926758\n",
            "epoch 201, loss 3.1448309421539307\n",
            "epoch 301, loss 1.606860637664795\n",
            "epoch 401, loss 0.7616341710090637\n",
            "epoch 501, loss 0.3330865502357483\n",
            "epoch 601, loss 0.1338312178850174\n",
            "epoch 701, loss 0.04922310262918472\n",
            "epoch 801, loss 0.016517026349902153\n",
            "epoch 901, loss 0.0050397953018546104\n"
          ],
          "name": "stdout"
        }
      ]
    },
    {
      "cell_type": "code",
      "metadata": {
        "ExecuteTime": {
          "end_time": "2021-04-04T16:25:43.320961Z",
          "start_time": "2021-04-04T16:25:43.150508Z"
        },
        "id": "Ds3suDeapaLj",
        "outputId": "a283830d-39f7-4a56-af6e-81b6abb658a7"
      },
      "source": [
        "plt.scatter(x, y, color='black', antialiased=True)\n",
        "plt.plot(x, model.predict(inputs).detach().cpu().numpy(), color='magenta', linewidth=2, antialiased=True)\n",
        "plt.show()"
      ],
      "execution_count": null,
      "outputs": [
        {
          "output_type": "display_data",
          "data": {
            "image/png": "[encoded data removed]",
            "text/plain": [
              "<Figure size 432x288 with 1 Axes>"
            ]
          },
          "metadata": {
            "tags": [],
            "needs_background": "light"
          }
        }
      ]
    },
    {
      "cell_type": "code",
      "metadata": {
        "ExecuteTime": {
          "end_time": "2021-04-04T16:28:49.051393Z",
          "start_time": "2021-04-04T16:28:49.042415Z"
        },
        "id": "lPr3orykpaLk",
        "outputId": "be0f99f2-3d6e-41ed-c468-2b31d211cfd0"
      },
      "source": [
        "model.linear._parameters"
      ],
      "execution_count": null,
      "outputs": [
        {
          "output_type": "execute_result",
          "data": {
            "text/plain": [
              "OrderedDict([('weight',\n",
              "              Parameter containing:\n",
              "              tensor([[2.0000]], device='cuda:0', requires_grad=True)),\n",
              "             ('bias',\n",
              "              Parameter containing:\n",
              "              tensor([4.9624], device='cuda:0', requires_grad=True))])"
            ]
          },
          "metadata": {
            "tags": []
          },
          "execution_count": 85
        }
      ]
    },
    {
      "cell_type": "code",
      "metadata": {
        "ExecuteTime": {
          "end_time": "2021-04-04T16:29:19.871669Z",
          "start_time": "2021-04-04T16:29:19.867679Z"
        },
        "id": "DStqQ-IHpaLk"
      },
      "source": [
        "def f(x):    \n",
        "    return 2 * np.sin(x) + 5"
      ],
      "execution_count": null,
      "outputs": []
    },
    {
      "cell_type": "code",
      "metadata": {
        "ExecuteTime": {
          "end_time": "2021-04-04T16:29:52.154329Z",
          "start_time": "2021-04-04T16:29:52.150340Z"
        },
        "id": "xSkIwmmdpaLk"
      },
      "source": [
        "y = f(x)"
      ],
      "execution_count": null,
      "outputs": []
    },
    {
      "cell_type": "code",
      "metadata": {
        "ExecuteTime": {
          "end_time": "2021-04-04T16:25:31.642650Z",
          "start_time": "2021-04-04T16:25:31.637627Z"
        },
        "id": "J4p9uScApaLk",
        "outputId": "15c42b66-3869-438d-d62d-b88aed6d585c"
      },
      "source": [
        "model._modules"
      ],
      "execution_count": null,
      "outputs": [
        {
          "output_type": "execute_result",
          "data": {
            "text/plain": [
              "OrderedDict([('linear', Linear(in_features=1, out_features=1, bias=True))])"
            ]
          },
          "metadata": {
            "tags": []
          },
          "execution_count": 71
        }
      ]
    },
    {
      "cell_type": "code",
      "metadata": {
        "ExecuteTime": {
          "end_time": "2021-04-04T16:29:53.688763Z",
          "start_time": "2021-04-04T16:29:53.481290Z"
        },
        "id": "OXHN5CJspaLl",
        "outputId": "7a3cc26e-2418-4876-b94e-a51a7f3fda6b"
      },
      "source": [
        "plt.scatter(x, y)\n",
        "plt.legend('y')"
      ],
      "execution_count": null,
      "outputs": [
        {
          "output_type": "execute_result",
          "data": {
            "text/plain": [
              "<matplotlib.legend.Legend at 0x27f9eb8bca0>"
            ]
          },
          "metadata": {
            "tags": []
          },
          "execution_count": 89
        },
        {
          "output_type": "display_data",
          "data": {
            "image/png": "[encoded data removed]",
            "text/plain": [
              "<Figure size 432x288 with 1 Axes>"
            ]
          },
          "metadata": {
            "tags": [],
            "needs_background": "light"
          }
        }
      ]
    },
    {
      "cell_type": "code",
      "metadata": {
        "ExecuteTime": {
          "end_time": "2021-04-04T16:30:24.865482Z",
          "start_time": "2021-04-04T16:30:24.860498Z"
        },
        "id": "_pzNjbfnpaLl"
      },
      "source": [
        "# инициализируем объект нашего класса, получив сперва размерности \n",
        "input_dimension = y.shape[1]\n",
        "output_dimension = 1\n",
        "\n",
        "model = linearRegression(input_dimension, output_dimension)\n",
        "\n",
        "# используем GPU, чтобы все считалось быстрее\n",
        "if torch.cuda.is_available():\n",
        "    model.cuda()"
      ],
      "execution_count": null,
      "outputs": []
    },
    {
      "cell_type": "code",
      "metadata": {
        "ExecuteTime": {
          "end_time": "2021-04-04T16:30:30.172133Z",
          "start_time": "2021-04-04T16:30:30.167174Z"
        },
        "id": "cWqKnMP3paLl"
      },
      "source": [
        "# определим, что мы будем оптимизировать и как\n",
        "learning_rate = 1e-2\n",
        "\n",
        "# будем минимизировать квадратичную функцию потерь\n",
        "criterion = torch.nn.MSELoss()\n",
        "# с помощью алгоритма ADAM (дальше посмотрим на разные алгоритмы оптимизации подробнее)\n",
        "optimizer = torch.optim.Adam(model.parameters(), lr=learning_rate)"
      ],
      "execution_count": null,
      "outputs": []
    },
    {
      "cell_type": "code",
      "metadata": {
        "ExecuteTime": {
          "end_time": "2021-04-04T16:30:35.051787Z",
          "start_time": "2021-04-04T16:30:34.208042Z"
        },
        "colab": {
          "base_uri": "https://localhost:8080/",
          "height": 381
        },
        "id": "KudgG30MpaLl",
        "outputId": "d9dc0536-ffa2-4d7c-8fb3-895a295428d2"
      },
      "source": [
        "epochs = 1000\n",
        "\n",
        "# входные и выходные матрицы сконевртируем в тензоры\n",
        "if torch.cuda.is_available():\n",
        "    inputs = Variable(torch.from_numpy(x).type(torch.float).cuda())\n",
        "    outputs = Variable(torch.from_numpy(y).type(torch.float).cuda())\n",
        "else:\n",
        "    inputs = Variable(torch.from_numpy(x))\n",
        "    outputs = Variable(torch.from_numpy(y))\n",
        "\n",
        "for epoch in range(epochs):\n",
        "  # нужно обнулить градиенты, иначе будет их аккумулировать\n",
        "  optimizer.zero_grad()\n",
        "\n",
        "  # получим выход модели с учетом наличия входов\n",
        "  training_predictions = model(inputs)\n",
        "\n",
        "  # получим значение функции потерь для полученных прогнозов\n",
        "  loss_value = criterion(training_predictions, outputs)\n",
        "  # подсчитаем градиенты\n",
        "  loss_value.backward()\n",
        "\n",
        "  # сделаем апдейт параметров\n",
        "  optimizer.step()\n",
        "  \n",
        "  if epoch % 100 == 1:\n",
        "    print('epoch {}, loss {}'.format(epoch, loss_value.item()))"
      ],
      "execution_count": null,
      "outputs": [
        {
          "output_type": "stream",
          "text": [
            "epoch 1, loss 26.68116569519043\n",
            "epoch 101, loss 17.692747116088867\n",
            "epoch 201, loss 11.333208084106445\n",
            "epoch 301, loss 7.004435062408447\n",
            "epoch 401, loss 4.214919567108154\n",
            "epoch 501, loss 2.526259422302246\n",
            "epoch 601, loss 1.5730265378952026\n",
            "epoch 701, loss 1.0745288133621216\n",
            "epoch 801, loss 0.8343121409416199\n",
            "epoch 901, loss 0.7280933260917664\n"
          ],
          "name": "stdout"
        }
      ]
    },
    {
      "cell_type": "code",
      "metadata": {
        "ExecuteTime": {
          "end_time": "2021-04-04T16:30:37.311827Z",
          "start_time": "2021-04-04T16:30:37.154216Z"
        },
        "id": "1_jyLbWXpaLm",
        "outputId": "2431e004-8803-46ff-edaf-4ad9414ed7b3"
      },
      "source": [
        "plt.scatter(x, y, color='black', antialiased=True)\n",
        "plt.plot(x, model.predict(inputs).detach().cpu().numpy(), color='magenta', linewidth=2, antialiased=True)\n",
        "plt.show()"
      ],
      "execution_count": null,
      "outputs": [
        {
          "output_type": "display_data",
          "data": {
            "image/png": "[encoded data removed]",
            "text/plain": [
              "<Figure size 432x288 with 1 Axes>"
            ]
          },
          "metadata": {
            "tags": [],
            "needs_background": "light"
          }
        }
      ]
    },
    {
      "cell_type": "code",
      "metadata": {
        "ExecuteTime": {
          "end_time": "2021-04-04T16:30:41.840091Z",
          "start_time": "2021-04-04T16:30:41.831115Z"
        },
        "id": "2Yr8jp_LpaLm",
        "outputId": "fbe7dcaa-fe25-442b-fe0f-61a5257d31a0"
      },
      "source": [
        "model.linear._parameters"
      ],
      "execution_count": null,
      "outputs": [
        {
          "output_type": "execute_result",
          "data": {
            "text/plain": [
              "OrderedDict([('weight',\n",
              "              Parameter containing:\n",
              "              tensor([[0.6896]], device='cuda:0', requires_grad=True)),\n",
              "             ('bias',\n",
              "              Parameter containing:\n",
              "              tensor([4.8463], device='cuda:0', requires_grad=True))])"
            ]
          },
          "metadata": {
            "tags": []
          },
          "execution_count": 96
        }
      ]
    },
    {
      "cell_type": "code",
      "metadata": {
        "ExecuteTime": {
          "end_time": "2021-04-04T16:32:46.819765Z",
          "start_time": "2021-04-04T16:32:46.528521Z"
        },
        "id": "12erx1bBpaLm",
        "outputId": "5cb5a6da-13c4-4de3-d293-4763b3be1c79"
      },
      "source": [
        "def line(x):\n",
        "    w = model.linear.weight.item()\n",
        "    b = model.linear.bias.item()\n",
        "    \n",
        "    return w * x + b\n",
        "\n",
        "# отрисовываем результат приближения нейросетью поверх исходной функции\n",
        "plt.scatter(x, y, color='black', antialiased=True)\n",
        "plt.plot(x, model.predict(inputs).detach().cpu().numpy(), color='magenta', linewidth=3, antialiased=True)\n",
        "plt.plot(x, line(x), color='yellow', linewidth=1, antialiased=True)\n",
        "plt.show()"
      ],
      "execution_count": null,
      "outputs": [
        {
          "output_type": "display_data",
          "data": {
            "image/png": "[encoded data removed]",
            "text/plain": [
              "<Figure size 432x288 with 1 Axes>"
            ]
          },
          "metadata": {
            "tags": [],
            "needs_background": "light"
          }
        }
      ]
    },
    {
      "cell_type": "code",
      "metadata": {
        "ExecuteTime": {
          "end_time": "2021-04-04T16:34:13.158498Z",
          "start_time": "2021-04-04T16:34:13.152514Z"
        },
        "id": "kv4mma-ppaLn"
      },
      "source": [
        "# зададим класс для линейной регрессии. Мы наследуем его от torch.nn.Module\n",
        "# нам нужны две функции: \n",
        "# * __init__ определяет, как мы создаем объект этого класса\n",
        "# * forward определяет, как мы делаем прогноз\n",
        "\n",
        "class linearRegression(torch.nn.Module):\n",
        "  # инициализация объекта класса\n",
        "    def __init__(self, input_dimension, output_dimension):\n",
        "        # сначала запустим init аналогичный родительскому классу\n",
        "        super(linearRegression, self).__init__() \n",
        "        # затем создадим свой первый слой на pytorch\n",
        "        # так как модель у нас линейная, то и слой линейный\n",
        "        self.linear1 = torch.nn.Linear(input_dimension, 5)\n",
        "        self.linear2 = torch.nn.Linear(5, output_dimension)\n",
        "\n",
        "  # подсчет прогноза\n",
        "    def forward(self, x):\n",
        "        out = self.linear1(x)\n",
        "        return self.linear2(out)\n",
        "\n",
        "    def predict(self, test):\n",
        "        return self.__call__(test)"
      ],
      "execution_count": null,
      "outputs": []
    },
    {
      "cell_type": "code",
      "metadata": {
        "ExecuteTime": {
          "end_time": "2021-04-04T16:34:42.585867Z",
          "start_time": "2021-04-04T16:34:42.578883Z"
        },
        "id": "Zm-flQ67paLn"
      },
      "source": [
        "# инициализируем объект нашего класса, получив сперва размерности \n",
        "input_dimension = y.shape[1]\n",
        "output_dimension = 1\n",
        "\n",
        "model = linearRegression(input_dimension, output_dimension)\n",
        "\n",
        "# используем GPU, чтобы все считалось быстрее\n",
        "if torch.cuda.is_available():\n",
        "    model.cuda()"
      ],
      "execution_count": null,
      "outputs": []
    },
    {
      "cell_type": "code",
      "metadata": {
        "ExecuteTime": {
          "end_time": "2021-04-04T16:34:46.512485Z",
          "start_time": "2021-04-04T16:34:46.507464Z"
        },
        "id": "Be_9NOV1paLn"
      },
      "source": [
        "# определим, что мы будем оптимизировать и как\n",
        "learning_rate = 1e-2\n",
        "\n",
        "# будем минимизировать квадратичную функцию потерь\n",
        "criterion = torch.nn.MSELoss()\n",
        "# с помощью алгоритма ADAM (дальше посмотрим на разные алгоритмы оптимизации подробнее)\n",
        "optimizer = torch.optim.Adam(model.parameters(), lr=learning_rate)"
      ],
      "execution_count": null,
      "outputs": []
    },
    {
      "cell_type": "code",
      "metadata": {
        "ExecuteTime": {
          "end_time": "2021-04-04T16:34:49.012584Z",
          "start_time": "2021-04-04T16:34:47.690970Z"
        },
        "colab": {
          "base_uri": "https://localhost:8080/",
          "height": 381
        },
        "id": "D8W8e4ObpaLn",
        "outputId": "d9dc0536-ffa2-4d7c-8fb3-895a295428d2"
      },
      "source": [
        "epochs = 1000\n",
        "\n",
        "# входные и выходные матрицы сконевртируем в тензоры\n",
        "if torch.cuda.is_available():\n",
        "    inputs = Variable(torch.from_numpy(x).type(torch.float).cuda())\n",
        "    outputs = Variable(torch.from_numpy(y).type(torch.float).cuda())\n",
        "else:\n",
        "    inputs = Variable(torch.from_numpy(x))\n",
        "    outputs = Variable(torch.from_numpy(y))\n",
        "\n",
        "for epoch in range(epochs):\n",
        "  # нужно обнулить градиенты, иначе будет их аккумулировать\n",
        "  optimizer.zero_grad()\n",
        "\n",
        "  # получим выход модели с учетом наличия входов\n",
        "  training_predictions = model(inputs)\n",
        "\n",
        "  # получим значение функции потерь для полученных прогнозов\n",
        "  loss_value = criterion(training_predictions, outputs)\n",
        "  # подсчитаем градиенты\n",
        "  loss_value.backward()\n",
        "\n",
        "  # сделаем апдейт параметров\n",
        "  optimizer.step()\n",
        "  \n",
        "  if epoch % 100 == 1:\n",
        "    print('epoch {}, loss {}'.format(epoch, loss_value.item()))"
      ],
      "execution_count": null,
      "outputs": [
        {
          "output_type": "stream",
          "text": [
            "epoch 1, loss 25.933300018310547\n",
            "epoch 101, loss 0.6791734099388123\n",
            "epoch 201, loss 0.6617746949195862\n",
            "epoch 301, loss 0.6617746949195862\n",
            "epoch 401, loss 0.6617746353149414\n",
            "epoch 501, loss 0.6617746949195862\n",
            "epoch 601, loss 0.6617746949195862\n",
            "epoch 701, loss 0.6617746949195862\n",
            "epoch 801, loss 0.6617746949195862\n",
            "epoch 901, loss 0.6617746949195862\n"
          ],
          "name": "stdout"
        }
      ]
    },
    {
      "cell_type": "code",
      "metadata": {
        "ExecuteTime": {
          "end_time": "2021-04-04T16:34:53.448047Z",
          "start_time": "2021-04-04T16:34:53.271543Z"
        },
        "id": "EHcp_q0UpaLo",
        "outputId": "5d6bc009-9cfd-4f6d-a9dc-09a6425d869e"
      },
      "source": [
        "plt.scatter(x, y, color='black', antialiased=True)\n",
        "plt.plot(x, model.predict(inputs).detach().cpu().numpy(), color='magenta', linewidth=2, antialiased=True)\n",
        "plt.show()"
      ],
      "execution_count": null,
      "outputs": [
        {
          "output_type": "display_data",
          "data": {
            "image/png": "[encoded data removed]",
            "text/plain": [
              "<Figure size 432x288 with 1 Axes>"
            ]
          },
          "metadata": {
            "tags": [],
            "needs_background": "light"
          }
        }
      ]
    },
    {
      "cell_type": "code",
      "metadata": {
        "ExecuteTime": {
          "end_time": "2021-04-04T16:35:26.906587Z",
          "start_time": "2021-04-04T16:35:26.896617Z"
        },
        "id": "D5ls-HpupaLo",
        "outputId": "fb8c93ab-7069-45b7-a956-6c7b8a6c2972"
      },
      "source": [
        "model.linear1.weight, model.linear1.bias"
      ],
      "execution_count": null,
      "outputs": [
        {
          "output_type": "execute_result",
          "data": {
            "text/plain": [
              "(Parameter containing:\n",
              " tensor([[-0.7301],\n",
              "         [ 0.7268],\n",
              "         [ 0.1841],\n",
              "         [-0.1715],\n",
              "         [-0.0193]], device='cuda:0', requires_grad=True),\n",
              " Parameter containing:\n",
              " tensor([-1.5202,  0.2412, -1.3658,  1.0280,  1.6380], device='cuda:0',\n",
              "        requires_grad=True))"
            ]
          },
          "metadata": {
            "tags": []
          },
          "execution_count": 111
        }
      ]
    },
    {
      "cell_type": "markdown",
      "metadata": {
        "id": "kzzhslZTpaLo"
      },
      "source": [
        "Всё дело в том, что архитектура нашей сети сводится к линейной комбинации линейных функций: <br>\n",
        "f(x) = w1' * (w1 * x + b1) +… + w5' (w5 * x + b5) + b <br>\n",
        "Т.е. опять же является линейной функцией. Чтобы сделать поведение нашей сети более интересным, добавим нейронам внутреннего слоя функцию активации ReLU (выпрямитель, f(x) = max(0, x)), которая позволяет сети ломать прямую на сегменты:"
      ]
    },
    {
      "cell_type": "code",
      "metadata": {
        "ExecuteTime": {
          "end_time": "2021-04-04T16:46:40.516474Z",
          "start_time": "2021-04-04T16:46:40.506501Z"
        },
        "id": "8HxwsVYlpaLo"
      },
      "source": [
        "# зададим класс для линейной регрессии. Мы наследуем его от torch.nn.Module\n",
        "# нам нужны две функции: \n",
        "# * __init__ определяет, как мы создаем объект этого класса\n",
        "# * forward определяет, как мы делаем прогноз\n",
        "\n",
        "class linearRegression(torch.nn.Module):\n",
        "  # инициализация объекта класса\n",
        "    def __init__(self, input_dimension, output_dimension):\n",
        "        # сначала запустим init аналогичный родительскому классу\n",
        "        super(linearRegression, self).__init__() \n",
        "        # затем создадим свой первый слой на pytorch\n",
        "        # так как модель у нас линейная, то и слой линейный\n",
        "        self.linear1 = torch.nn.Linear(input_dimension, 15)\n",
        "        self.linear2 = torch.nn.Linear(15, output_dimension)\n",
        "\n",
        "  # подсчет прогноза\n",
        "    def forward(self, x):\n",
        "        out = self.linear1(x)\n",
        "        out = torch.nn.functional.relu(out)\n",
        "        return self.linear2(out)\n",
        "\n",
        "    def predict(self, test):\n",
        "        return self.__call__(test)"
      ],
      "execution_count": null,
      "outputs": []
    },
    {
      "cell_type": "code",
      "metadata": {
        "ExecuteTime": {
          "end_time": "2021-04-04T16:46:41.817646Z",
          "start_time": "2021-04-04T16:46:41.811671Z"
        },
        "id": "X3tcUIm4paLp"
      },
      "source": [
        "# инициализируем объект нашего класса, получив сперва размерности \n",
        "input_dimension = y.shape[1]\n",
        "output_dimension = 1\n",
        "\n",
        "model = linearRegression(input_dimension, output_dimension)\n",
        "\n",
        "# используем GPU, чтобы все считалось быстрее\n",
        "if torch.cuda.is_available():\n",
        "    model.cuda()"
      ],
      "execution_count": null,
      "outputs": []
    },
    {
      "cell_type": "code",
      "metadata": {
        "ExecuteTime": {
          "end_time": "2021-04-04T16:46:42.705762Z",
          "start_time": "2021-04-04T16:46:42.700774Z"
        },
        "id": "ExYxbSGPpaLp"
      },
      "source": [
        "# определим, что мы будем оптимизировать и как\n",
        "learning_rate = 1e-2\n",
        "\n",
        "# будем минимизировать квадратичную функцию потерь\n",
        "criterion = torch.nn.MSELoss()\n",
        "# с помощью алгоритма ADAM (дальше посмотрим на разные алгоритмы оптимизации подробнее)\n",
        "optimizer = torch.optim.Adam(model.parameters(), lr=learning_rate)"
      ],
      "execution_count": null,
      "outputs": []
    },
    {
      "cell_type": "code",
      "metadata": {
        "ExecuteTime": {
          "end_time": "2021-04-04T16:46:46.350682Z",
          "start_time": "2021-04-04T16:46:43.565973Z"
        },
        "colab": {
          "base_uri": "https://localhost:8080/",
          "height": 381
        },
        "id": "KZb9lQsHpaLp",
        "outputId": "d9dc0536-ffa2-4d7c-8fb3-895a295428d2"
      },
      "source": [
        "epochs = 1000\n",
        "\n",
        "# входные и выходные матрицы сконевртируем в тензоры\n",
        "if torch.cuda.is_available():\n",
        "    inputs = Variable(torch.from_numpy(x).type(torch.float).cuda())\n",
        "    outputs = Variable(torch.from_numpy(y).type(torch.float).cuda())\n",
        "else:\n",
        "    inputs = Variable(torch.from_numpy(x))\n",
        "    outputs = Variable(torch.from_numpy(y))\n",
        "\n",
        "for epoch in range(epochs):\n",
        "  # нужно обнулить градиенты, иначе будет их аккумулировать\n",
        "  optimizer.zero_grad()\n",
        "\n",
        "  # получим выход модели с учетом наличия входов\n",
        "  training_predictions = model(inputs)\n",
        "\n",
        "  # получим значение функции потерь для полученных прогнозов\n",
        "  loss_value = criterion(training_predictions, outputs)\n",
        "  # подсчитаем градиенты\n",
        "  loss_value.backward()\n",
        "\n",
        "  # сделаем апдейт параметров\n",
        "  optimizer.step()\n",
        "  \n",
        "  if epoch % 100 == 1:\n",
        "    print('epoch {}, loss {}'.format(epoch, loss_value.item()))"
      ],
      "execution_count": null,
      "outputs": [
        {
          "output_type": "stream",
          "text": [
            "epoch 1, loss 25.94715690612793\n",
            "epoch 101, loss 0.8069921731948853\n",
            "epoch 201, loss 0.33723652362823486\n",
            "epoch 301, loss 0.11965460330247879\n",
            "epoch 401, loss 0.03595784679055214\n",
            "epoch 501, loss 0.017643099650740623\n",
            "epoch 601, loss 0.009895340539515018\n",
            "epoch 701, loss 0.007140594068914652\n",
            "epoch 801, loss 0.006107900757342577\n",
            "epoch 901, loss 0.005646689794957638\n",
            "epoch 1001, loss 0.0053772106766700745\n",
            "epoch 1101, loss 0.0051750061102211475\n",
            "epoch 1201, loss 0.004993814043700695\n",
            "epoch 1301, loss 0.004817205015569925\n",
            "epoch 1401, loss 0.004640216939151287\n",
            "epoch 1501, loss 0.0044577354565262794\n",
            "epoch 1601, loss 0.004271993413567543\n",
            "epoch 1701, loss 0.004082293715327978\n",
            "epoch 1801, loss 0.00388868129812181\n",
            "epoch 1901, loss 0.0036941878497600555\n"
          ],
          "name": "stdout"
        }
      ]
    },
    {
      "cell_type": "code",
      "metadata": {
        "ExecuteTime": {
          "end_time": "2021-04-04T16:46:47.399856Z",
          "start_time": "2021-04-04T16:46:47.240743Z"
        },
        "id": "Q4nPPMhqpaLp",
        "outputId": "11c798fb-7e96-419d-c123-55882639826a"
      },
      "source": [
        "plt.scatter(x, y, color='black', antialiased=True)\n",
        "plt.plot(x, model.predict(inputs).detach().cpu().numpy(), color='magenta', linewidth=2, antialiased=True)\n",
        "plt.show()"
      ],
      "execution_count": null,
      "outputs": [
        {
          "output_type": "display_data",
          "data": {
            "image/png": "[encoded data removed]",
            "text/plain": [
              "<Figure size 432x288 with 1 Axes>"
            ]
          },
          "metadata": {
            "tags": [],
            "needs_background": "light"
          }
        }
      ]
    },
    {
      "cell_type": "markdown",
      "metadata": {
        "ExecuteTime": {
          "end_time": "2021-04-04T16:46:30.062671Z",
          "start_time": "2021-04-04T16:46:30.059679Z"
        },
        "id": "xQZ3VJTepaLq"
      },
      "source": [
        "#TODO: Как сделать аппроксимацию идеальной не добавляя слоев и не меняя их число?"
      ]
    },
    {
      "cell_type": "markdown",
      "metadata": {
        "id": "aqONMjMEpaLq"
      },
      "source": [
        "# Усложняем"
      ]
    },
    {
      "cell_type": "code",
      "metadata": {
        "ExecuteTime": {
          "end_time": "2021-04-04T16:56:59.697560Z",
          "start_time": "2021-04-04T16:56:59.076588Z"
        },
        "id": "46DGpQuZpaLs"
      },
      "source": [
        "import pandas as pd"
      ],
      "execution_count": null,
      "outputs": []
    },
    {
      "cell_type": "code",
      "metadata": {
        "ExecuteTime": {
          "end_time": "2021-04-04T17:02:31.787394Z",
          "start_time": "2021-04-04T17:02:31.782407Z"
        },
        "id": "kZCM7d05paLs"
      },
      "source": [
        "def f(x):\n",
        "    return -x * np.sin(x * np.pi) + np.exp(x / 2) - np.exp(0)"
      ],
      "execution_count": null,
      "outputs": []
    },
    {
      "cell_type": "code",
      "metadata": {
        "ExecuteTime": {
          "end_time": "2021-04-04T17:02:38.360114Z",
          "start_time": "2021-04-04T17:02:38.356127Z"
        },
        "id": "dN-4I7uJpaLt"
      },
      "source": [
        "y = f(x)"
      ],
      "execution_count": null,
      "outputs": []
    },
    {
      "cell_type": "code",
      "metadata": {
        "ExecuteTime": {
          "end_time": "2021-04-04T17:02:39.936915Z",
          "start_time": "2021-04-04T17:02:39.776315Z"
        },
        "id": "xijLafjwpaLt",
        "outputId": "2efa0b06-fcae-4ae1-b364-8f75bf5942cb"
      },
      "source": [
        "plt.scatter(x, y)"
      ],
      "execution_count": null,
      "outputs": [
        {
          "output_type": "execute_result",
          "data": {
            "text/plain": [
              "<matplotlib.collections.PathCollection at 0x280005d44f0>"
            ]
          },
          "metadata": {
            "tags": []
          },
          "execution_count": 218
        },
        {
          "output_type": "display_data",
          "data": {
            "image/png": "[encoded data removed]",
            "text/plain": [
              "<Figure size 432x288 with 1 Axes>"
            ]
          },
          "metadata": {
            "tags": [],
            "needs_background": "light"
          }
        }
      ]
    },
    {
      "cell_type": "code",
      "metadata": {
        "ExecuteTime": {
          "end_time": "2021-04-04T17:03:30.713331Z",
          "start_time": "2021-04-04T17:03:30.705323Z"
        },
        "id": "bzoFMLtMpaLt"
      },
      "source": [
        "class linearRegression(torch.nn.Module):\n",
        "    def __init__(self, input_dimension, output_dimension):\n",
        "        # сначала запустим init аналогичный родительскому классу\n",
        "        super(linearRegression, self).__init__() \n",
        "        # затем создадим свой первый слой на pytorch\n",
        "        self.linear1 = torch.nn.Linear(input_dimension, 15)\n",
        "        self.linear2 = torch.nn.Linear(15, output_dimension)\n",
        "\n",
        "  # подсчет прогноза\n",
        "    def forward(self, x):\n",
        "        out = self.linear1(x)\n",
        "        out = torch.nn.functional.relu(out)\n",
        "        return self.linear2(out)\n",
        "\n",
        "    def predict(self, test):\n",
        "        return self.__call__(test)"
      ],
      "execution_count": null,
      "outputs": []
    },
    {
      "cell_type": "code",
      "metadata": {
        "ExecuteTime": {
          "end_time": "2021-04-04T17:03:32.099792Z",
          "start_time": "2021-04-04T17:03:32.093775Z"
        },
        "id": "jJakymw5paLt"
      },
      "source": [
        "# инициализируем объект нашего класса, получив сперва размерности \n",
        "input_dimension = y.shape[1]\n",
        "output_dimension = 1\n",
        "\n",
        "model = linearRegression(input_dimension, output_dimension)\n",
        "\n",
        "# используем GPU, чтобы все считалось быстрее\n",
        "if torch.cuda.is_available():\n",
        "    model.cuda()"
      ],
      "execution_count": null,
      "outputs": []
    },
    {
      "cell_type": "code",
      "metadata": {
        "ExecuteTime": {
          "end_time": "2021-04-04T17:03:32.983658Z",
          "start_time": "2021-04-04T17:03:32.978666Z"
        },
        "id": "9T9zKVYupaLu"
      },
      "source": [
        "# определим, что мы будем оптимизировать и как\n",
        "learning_rate = 1e-2\n",
        "\n",
        "# будем минимизировать квадратичную функцию потерь\n",
        "criterion = torch.nn.MSELoss()\n",
        "# с помощью алгоритма ADAM (дальше посмотрим на разные алгоритмы оптимизации подробнее)\n",
        "optimizer = torch.optim.Adam(model.parameters(), lr=learning_rate)"
      ],
      "execution_count": null,
      "outputs": []
    },
    {
      "cell_type": "code",
      "metadata": {
        "ExecuteTime": {
          "end_time": "2021-04-04T17:03:36.831114Z",
          "start_time": "2021-04-04T17:03:33.852300Z"
        },
        "colab": {
          "base_uri": "https://localhost:8080/",
          "height": 381
        },
        "id": "Tyyk9q9QpaLu",
        "outputId": "d9dc0536-ffa2-4d7c-8fb3-895a295428d2"
      },
      "source": [
        "epochs = 1000\n",
        "\n",
        "# входные и выходные матрицы сконевртируем в тензоры\n",
        "if torch.cuda.is_available():\n",
        "    inputs = Variable(torch.from_numpy(x).type(torch.float).cuda())\n",
        "    outputs = Variable(torch.from_numpy(y).type(torch.float).cuda())\n",
        "else:\n",
        "    inputs = Variable(torch.from_numpy(x))\n",
        "    outputs = Variable(torch.from_numpy(y))\n",
        "\n",
        "for epoch in range(epochs):\n",
        "  # нужно обнулить градиенты, иначе будет их аккумулировать\n",
        "  optimizer.zero_grad()\n",
        "\n",
        "  # получим выход модели с учетом наличия входов\n",
        "  training_predictions = model(inputs)\n",
        "\n",
        "  # получим значение функции потерь для полученных прогнозов\n",
        "  loss_value = criterion(training_predictions, outputs)\n",
        "  # подсчитаем градиенты\n",
        "  loss_value.backward()\n",
        "\n",
        "  # сделаем апдейт параметров\n",
        "  optimizer.step()\n",
        "  \n",
        "  if epoch % 100 == 1:\n",
        "    print('epoch {}, loss {}'.format(epoch, loss_value.item()))"
      ],
      "execution_count": null,
      "outputs": [
        {
          "output_type": "stream",
          "text": [
            "epoch 1, loss 3.270921230316162\n",
            "epoch 101, loss 0.8832722306251526\n",
            "epoch 201, loss 0.7486993074417114\n",
            "epoch 301, loss 0.6624316573143005\n",
            "epoch 401, loss 0.5777513980865479\n",
            "epoch 501, loss 0.4925082325935364\n",
            "epoch 601, loss 0.43404385447502136\n",
            "epoch 701, loss 0.3967864215373993\n",
            "epoch 801, loss 0.3651922047138214\n",
            "epoch 901, loss 0.3123458921909332\n",
            "epoch 1001, loss 0.29324835538864136\n",
            "epoch 1101, loss 0.28121089935302734\n",
            "epoch 1201, loss 0.27265188097953796\n",
            "epoch 1301, loss 0.26617056131362915\n",
            "epoch 1401, loss 0.26108986139297485\n",
            "epoch 1501, loss 0.2569510042667389\n",
            "epoch 1601, loss 0.2536584436893463\n",
            "epoch 1701, loss 0.2509343922138214\n",
            "epoch 1801, loss 0.24918191134929657\n",
            "epoch 1901, loss 0.24671635031700134\n"
          ],
          "name": "stdout"
        }
      ]
    },
    {
      "cell_type": "code",
      "metadata": {
        "ExecuteTime": {
          "end_time": "2021-04-04T17:03:37.960441Z",
          "start_time": "2021-04-04T17:03:37.798868Z"
        },
        "id": "REptIJappaLu",
        "outputId": "5f2a9e89-49a8-4256-f3a3-9d37cefbd940"
      },
      "source": [
        "plt.scatter(x, y, color='black', antialiased=True)\n",
        "plt.plot(x, model.predict(inputs).detach().cpu().numpy(), color='magenta', linewidth=2, antialiased=True)\n",
        "plt.show()"
      ],
      "execution_count": null,
      "outputs": [
        {
          "output_type": "display_data",
          "data": {
            "image/png": "[encoded data removed]",
            "text/plain": [
              "<Figure size 432x288 with 1 Axes>"
            ]
          },
          "metadata": {
            "tags": [],
            "needs_background": "light"
          }
        }
      ]
    },
    {
      "cell_type": "markdown",
      "metadata": {
        "id": "CXCGiujipaLu"
      },
      "source": [
        "## Upgrade"
      ]
    },
    {
      "cell_type": "code",
      "metadata": {
        "ExecuteTime": {
          "end_time": "2021-04-04T17:34:08.639225Z",
          "start_time": "2021-04-04T17:34:08.633247Z"
        },
        "id": "We-9rM0ypaLv"
      },
      "source": [
        "class linearRegression(torch.nn.Module):\n",
        "    def __init__(self, input_dimension, output_dimension):\n",
        "        # сначала запустим init аналогичный родительскому классу\n",
        "        super(linearRegression, self).__init__() \n",
        "        # затем создадим свой первый слой на pytorch\n",
        "        self.linear1 = torch.nn.Linear(input_dimension, 10)\n",
        "        self.linear2 = torch.nn.Linear(10, output_dimension)\n",
        "\n",
        "  # подсчет прогноза\n",
        "    def forward(self, x):\n",
        "        out = self.linear1(x)\n",
        "        out = torch.nn.functional.tanh(out)\n",
        "        return self.linear2(out)\n",
        "\n",
        "    def predict(self, test):\n",
        "        return self.__call__(test)"
      ],
      "execution_count": null,
      "outputs": []
    },
    {
      "cell_type": "code",
      "metadata": {
        "ExecuteTime": {
          "end_time": "2021-04-04T17:34:09.638810Z",
          "start_time": "2021-04-04T17:34:09.632854Z"
        },
        "id": "z9aYYnippaLv"
      },
      "source": [
        "# инициализируем объект нашего класса, получив сперва размерности \n",
        "input_dimension = y.shape[1]\n",
        "output_dimension = 1\n",
        "\n",
        "model = linearRegression(input_dimension, output_dimension)\n",
        "\n",
        "# используем GPU, чтобы все считалось быстрее\n",
        "if torch.cuda.is_available():\n",
        "    model.cuda()"
      ],
      "execution_count": null,
      "outputs": []
    },
    {
      "cell_type": "code",
      "metadata": {
        "ExecuteTime": {
          "end_time": "2021-04-04T17:34:10.481776Z",
          "start_time": "2021-04-04T17:34:10.477815Z"
        },
        "id": "rqUNPTHwpaLv"
      },
      "source": [
        "# определим, что мы будем оптимизировать и как\n",
        "learning_rate = 1e-2\n",
        "\n",
        "# будем минимизировать квадратичную функцию потерь\n",
        "criterion = torch.nn.MSELoss()\n",
        "# с помощью алгоритма ADAM (дальше посмотрим на разные алгоритмы оптимизации подробнее)\n",
        "optimizer = torch.optim.Adam(model.parameters(), lr=learning_rate)"
      ],
      "execution_count": null,
      "outputs": []
    },
    {
      "cell_type": "code",
      "metadata": {
        "ExecuteTime": {
          "end_time": "2021-04-04T17:34:12.696154Z",
          "start_time": "2021-04-04T17:34:11.387947Z"
        },
        "colab": {
          "base_uri": "https://localhost:8080/",
          "height": 381
        },
        "id": "oUB4-OyYpaLv",
        "outputId": "d9dc0536-ffa2-4d7c-8fb3-895a295428d2"
      },
      "source": [
        "epochs = 1000\n",
        "\n",
        "# входные и выходные матрицы сконевртируем в тензоры\n",
        "if torch.cuda.is_available():\n",
        "    inputs = Variable(torch.from_numpy(x).type(torch.float).cuda())\n",
        "    outputs = Variable(torch.from_numpy(y).type(torch.float).cuda())\n",
        "else:\n",
        "    inputs = Variable(torch.from_numpy(x))\n",
        "    outputs = Variable(torch.from_numpy(y))\n",
        "\n",
        "for epoch in range(epochs):\n",
        "  # нужно обнулить градиенты, иначе будет их аккумулировать\n",
        "  optimizer.zero_grad()\n",
        "\n",
        "  # получим выход модели с учетом наличия входов\n",
        "  training_predictions = model(inputs)\n",
        "\n",
        "  # получим значение функции потерь для полученных прогнозов\n",
        "  loss_value = criterion(training_predictions, outputs)\n",
        "  # подсчитаем градиенты\n",
        "  loss_value.backward()\n",
        "\n",
        "  # сделаем апдейт параметров\n",
        "  optimizer.step()\n",
        "  \n",
        "  if epoch % 100 == 1:\n",
        "    print('epoch {}, loss {}'.format(epoch, loss_value.item()))"
      ],
      "execution_count": null,
      "outputs": [
        {
          "output_type": "stream",
          "text": [
            "epoch 1, loss 2.923943281173706\n",
            "epoch 101, loss 0.9905673861503601\n"
          ],
          "name": "stdout"
        },
        {
          "output_type": "stream",
          "text": [
            "C:\\ProgramData\\Anaconda3\\lib\\site-packages\\torch\\nn\\functional.py:1698: UserWarning: nn.functional.tanh is deprecated. Use torch.tanh instead.\n",
            "  warnings.warn(\"nn.functional.tanh is deprecated. Use torch.tanh instead.\")\n"
          ],
          "name": "stderr"
        },
        {
          "output_type": "stream",
          "text": [
            "epoch 201, loss 0.8315572738647461\n",
            "epoch 301, loss 0.6407930254936218\n",
            "epoch 401, loss 0.48321840167045593\n",
            "epoch 501, loss 0.3939366936683655\n",
            "epoch 601, loss 0.3329851031303406\n",
            "epoch 701, loss 0.29204845428466797\n",
            "epoch 801, loss 0.2546483278274536\n",
            "epoch 901, loss 0.21419596672058105\n"
          ],
          "name": "stdout"
        }
      ]
    },
    {
      "cell_type": "code",
      "metadata": {
        "ExecuteTime": {
          "end_time": "2021-04-04T17:34:13.846959Z",
          "start_time": "2021-04-04T17:34:13.676386Z"
        },
        "id": "0Z4qD5kEpaLv",
        "outputId": "f9cae1bd-039c-4853-d9b2-38074f767c2e"
      },
      "source": [
        "plt.scatter(x, y, color='black', antialiased=True)\n",
        "plt.plot(x, model.predict(inputs).detach().cpu().numpy(), color='magenta', linewidth=2, antialiased=True)\n",
        "plt.show()"
      ],
      "execution_count": null,
      "outputs": [
        {
          "output_type": "display_data",
          "data": {
            "image/png": "[encoded data removed]",
            "text/plain": [
              "<Figure size 432x288 with 1 Axes>"
            ]
          },
          "metadata": {
            "tags": [],
            "needs_background": "light"
          }
        }
      ]
    },
    {
      "cell_type": "markdown",
      "metadata": {
        "id": "eW_GHS1upaLw"
      },
      "source": [
        "Давайте сделаем небольшую паузу и разберёмся, каким образом работает наша текущая конфигурация. Сеть представляет из себя линейную комбинацию гиперболических тангенсов:\n",
        "<br>\n",
        "f(x) = w1' * tanh(w1 * x + b1) +… + w5' * tanh(w5 * x + b5) + b"
      ]
    },
    {
      "cell_type": "code",
      "metadata": {
        "ExecuteTime": {
          "end_time": "2021-04-04T17:37:38.517849Z",
          "start_time": "2021-04-04T17:37:38.290457Z"
        },
        "id": "5OMzN5SVpaLw",
        "outputId": "49b1f1d4-801e-45e6-b62e-09d82b1716b0"
      },
      "source": [
        "# с помощью матрицы весом моделируем выход каждого отдельного нейрона перед суммацией\n",
        "def tanh(x, i):\n",
        "    w0 = model.linear1.weight.detach().cpu().numpy()\n",
        "    w1 = model.linear2.weight.detach().cpu().numpy().T\n",
        "    b0 = model.linear1.bias.detach().cpu().numpy()\n",
        "    b1 = model.linear2.bias.detach().cpu().numpy()\n",
        "    \n",
        "    return w1[i][0] * np.tanh(w0[i][0] * x + b0[i]) + b1[0]\n",
        "\n",
        "# рисуем функцию и приближение\n",
        "plt.scatter(x, y, color='black', antialiased=True)\n",
        "plt.plot(x, model.predict(inputs).detach().cpu().numpy(), color='magenta', linewidth=2, antialiased=True)\n",
        "\n",
        "# рисуем разложение\n",
        "for i in range(0, 10, 1):\n",
        "    plt.plot(x, tanh(x, i), color='blue',\n",
        "         linewidth=1)\n",
        "\n",
        "plt.show()"
      ],
      "execution_count": null,
      "outputs": [
        {
          "output_type": "stream",
          "text": [
            "C:\\ProgramData\\Anaconda3\\lib\\site-packages\\torch\\nn\\functional.py:1698: UserWarning: nn.functional.tanh is deprecated. Use torch.tanh instead.\n",
            "  warnings.warn(\"nn.functional.tanh is deprecated. Use torch.tanh instead.\")\n"
          ],
          "name": "stderr"
        },
        {
          "output_type": "display_data",
          "data": {
            "image/png": "[encoded data removed]",
            "text/plain": [
              "<Figure size 432x288 with 1 Axes>"
            ]
          },
          "metadata": {
            "tags": [],
            "needs_background": "light"
          }
        }
      ]
    },
    {
      "cell_type": "code",
      "metadata": {
        "ExecuteTime": {
          "end_time": "2021-04-04T17:40:58.576202Z",
          "start_time": "2021-04-04T17:40:58.572213Z"
        },
        "id": "Kz0oZEkRpaLw"
      },
      "source": [
        "x = np.linspace(-10, 10, 1000).reshape(-1, 1)"
      ],
      "execution_count": null,
      "outputs": []
    },
    {
      "cell_type": "code",
      "metadata": {
        "ExecuteTime": {
          "end_time": "2021-04-04T17:41:00.095140Z",
          "start_time": "2021-04-04T17:40:59.863758Z"
        },
        "id": "iBJ6ydwPpaLw",
        "outputId": "7651599a-90b4-43d4-be3f-101959e72deb"
      },
      "source": [
        "# с помощью матрицы весом моделируем выход каждого отдельного нейрона перед суммацией\n",
        "def tanh(x, i):\n",
        "    w0 = model.linear1.weight.detach().cpu().numpy()\n",
        "    w1 = model.linear2.weight.detach().cpu().numpy().T\n",
        "    b0 = model.linear1.bias.detach().cpu().numpy()\n",
        "    b1 = model.linear2.bias.detach().cpu().numpy()\n",
        "    \n",
        "    return w1[i][0] * np.tanh(w0[i][0] * x + b0[i]) + b1[0]\n",
        "\n",
        "# рисуем функцию и приближение\n",
        "plt.scatter(x, y, color='black', antialiased=True)\n",
        "plt.plot(x, model.predict(inputs).detach().cpu().numpy(), color='magenta', linewidth=2, antialiased=True)\n",
        "\n",
        "# рисуем разложение\n",
        "for i in range(0, 10, 1):\n",
        "    plt.plot(x, tanh(x, i), color='blue',\n",
        "         linewidth=1)\n",
        "\n",
        "plt.show()"
      ],
      "execution_count": null,
      "outputs": [
        {
          "output_type": "stream",
          "text": [
            "C:\\ProgramData\\Anaconda3\\lib\\site-packages\\torch\\nn\\functional.py:1698: UserWarning: nn.functional.tanh is deprecated. Use torch.tanh instead.\n",
            "  warnings.warn(\"nn.functional.tanh is deprecated. Use torch.tanh instead.\")\n"
          ],
          "name": "stderr"
        },
        {
          "output_type": "display_data",
          "data": {
            "image/png": "[encoded data removed]",
            "text/plain": [
              "<Figure size 432x288 with 1 Axes>"
            ]
          },
          "metadata": {
            "tags": [],
            "needs_background": "light"
          }
        }
      ]
    },
    {
      "cell_type": "code",
      "metadata": {
        "ExecuteTime": {
          "end_time": "2021-04-04T21:02:41.775856Z",
          "start_time": "2021-04-04T21:02:41.768879Z"
        },
        "id": "dXNUhKtWpaLx",
        "outputId": "50896aff-8b7a-4791-a810-a4d64ff325d8"
      },
      "source": [
        "[w.shape for w in model.parameters()]"
      ],
      "execution_count": null,
      "outputs": [
        {
          "output_type": "execute_result",
          "data": {
            "text/plain": [
              "[torch.Size([10, 1]), torch.Size([10]), torch.Size([1, 10]), torch.Size([1])]"
            ]
          },
          "metadata": {
            "tags": []
          },
          "execution_count": 358
        }
      ]
    },
    {
      "cell_type": "code",
      "metadata": {
        "id": "VeK-ll-2paLx"
      },
      "source": [
        ""
      ],
      "execution_count": null,
      "outputs": []
    },
    {
      "cell_type": "code",
      "metadata": {
        "id": "hurLrpSnpaLx"
      },
      "source": [
        ""
      ],
      "execution_count": null,
      "outputs": []
    },
    {
      "cell_type": "code",
      "metadata": {
        "ExecuteTime": {
          "end_time": "2021-04-04T21:03:00.813103Z",
          "start_time": "2021-04-04T21:03:00.801136Z"
        },
        "id": "WKgL_pMCpaLx",
        "outputId": "f0c9a0a0-7c8e-4560-b634-cbbd5fbf7af5"
      },
      "source": [
        ""
      ],
      "execution_count": null,
      "outputs": [
        {
          "output_type": "error",
          "ename": "TypeError",
          "evalue": "'method' object is not subscriptable",
          "traceback": [
            "\u001b[1;31m---------------------------------------------------------------------------\u001b[0m",
            "\u001b[1;31mTypeError\u001b[0m                                 Traceback (most recent call last)",
            "\u001b[1;32m<ipython-input-362-026099aeb4b2>\u001b[0m in \u001b[0;36m<module>\u001b[1;34m\u001b[0m\n\u001b[1;32m----> 1\u001b[1;33m \u001b[0mmodel\u001b[0m\u001b[1;33m.\u001b[0m\u001b[0mparameters\u001b[0m\u001b[1;33m[\u001b[0m\u001b[1;36m0\u001b[0m\u001b[1;33m]\u001b[0m\u001b[1;33m\u001b[0m\u001b[1;33m\u001b[0m\u001b[0m\n\u001b[0m",
            "\u001b[1;31mTypeError\u001b[0m: 'method' object is not subscriptable"
          ]
        }
      ]
    },
    {
      "cell_type": "code",
      "metadata": {
        "id": "kdUfepyhpaLy"
      },
      "source": [
        "return w1[i][0] * np.tanh(w0[i] * x + w0[1][i]) + w1[1][0]"
      ],
      "execution_count": null,
      "outputs": []
    },
    {
      "cell_type": "code",
      "metadata": {
        "ExecuteTime": {
          "end_time": "2021-04-04T17:38:25.384075Z",
          "start_time": "2021-04-04T17:38:25.379068Z"
        },
        "id": "udoM084ppaLy",
        "outputId": "6a031230-a889-4518-9bc1-e7ddfa52bb7d"
      },
      "source": [
        "w0[0]"
      ],
      "execution_count": null,
      "outputs": [
        {
          "output_type": "execute_result",
          "data": {
            "text/plain": [
              "array([-1.0935417], dtype=float32)"
            ]
          },
          "metadata": {
            "tags": []
          },
          "execution_count": 348
        }
      ]
    },
    {
      "cell_type": "code",
      "metadata": {
        "ExecuteTime": {
          "end_time": "2021-04-04T17:36:03.465870Z",
          "start_time": "2021-04-04T17:36:03.461883Z"
        },
        "id": "0_Qi1ejIpaLy"
      },
      "source": [
        "b1=np.zeros(10)"
      ],
      "execution_count": null,
      "outputs": []
    },
    {
      "cell_type": "code",
      "metadata": {
        "ExecuteTime": {
          "end_time": "2021-04-04T17:36:38.520791Z",
          "start_time": "2021-04-04T17:36:38.516777Z"
        },
        "id": "_lwRfvm0paLy"
      },
      "source": [
        "b1[9] = model.linear2.bias.detach().cpu().numpy()"
      ],
      "execution_count": null,
      "outputs": []
    },
    {
      "cell_type": "code",
      "metadata": {
        "ExecuteTime": {
          "end_time": "2021-04-04T17:36:40.749920Z",
          "start_time": "2021-04-04T17:36:40.743937Z"
        },
        "id": "A-vTpP8DpaLz",
        "outputId": "7a0b3ef2-1491-4ae4-9773-fc8cf0a00db6"
      },
      "source": [
        "b1"
      ],
      "execution_count": null,
      "outputs": [
        {
          "output_type": "execute_result",
          "data": {
            "text/plain": [
              "array([0.08623865, 0.        , 0.        , 0.        , 0.        ,\n",
              "       0.        , 0.        , 0.        , 0.        , 0.08623865])"
            ]
          },
          "metadata": {
            "tags": []
          },
          "execution_count": 343
        }
      ]
    },
    {
      "cell_type": "code",
      "metadata": {
        "ExecuteTime": {
          "end_time": "2021-04-04T17:24:13.968890Z",
          "start_time": "2021-04-04T17:24:13.960910Z"
        },
        "id": "0WJbLMoppaLz",
        "outputId": "fff663d0-d780-4a81-fa3b-5b5e498efdac"
      },
      "source": [
        "model.linear2.weight"
      ],
      "execution_count": null,
      "outputs": [
        {
          "output_type": "execute_result",
          "data": {
            "text/plain": [
              "Parameter containing:\n",
              "tensor([[ 0.3739, -0.0610,  1.7397, -1.0040, -0.6279, -0.8524,  1.4591, -0.8242,\n",
              "         -0.9413,  1.0333]], device='cuda:0', requires_grad=True)"
            ]
          },
          "metadata": {
            "tags": []
          },
          "execution_count": 294
        }
      ]
    },
    {
      "cell_type": "code",
      "metadata": {
        "ExecuteTime": {
          "end_time": "2021-04-04T17:32:00.593076Z",
          "start_time": "2021-04-04T17:32:00.588088Z"
        },
        "id": "fpXkFh-QpaLz",
        "outputId": "eba8fd96-ee6a-425a-a487-448af08d5f1e"
      },
      "source": [
        "w0[0]"
      ],
      "execution_count": null,
      "outputs": [
        {
          "output_type": "execute_result",
          "data": {
            "text/plain": [
              "array([-1.0935417], dtype=float32)"
            ]
          },
          "metadata": {
            "tags": []
          },
          "execution_count": 324
        }
      ]
    },
    {
      "cell_type": "code",
      "metadata": {
        "ExecuteTime": {
          "end_time": "2021-04-04T17:31:54.100814Z",
          "start_time": "2021-04-04T17:31:54.096797Z"
        },
        "id": "nRHb34IppaL0",
        "outputId": "bb094d72-fcb3-487c-e85d-b543278352c8"
      },
      "source": [
        "w1[1][0]"
      ],
      "execution_count": null,
      "outputs": [
        {
          "output_type": "execute_result",
          "data": {
            "text/plain": [
              "-0.061049048"
            ]
          },
          "metadata": {
            "tags": []
          },
          "execution_count": 323
        }
      ]
    },
    {
      "cell_type": "code",
      "metadata": {
        "ExecuteTime": {
          "end_time": "2021-04-04T17:31:44.977981Z",
          "start_time": "2021-04-04T17:31:44.972030Z"
        },
        "id": "5QU1iXegpaL0",
        "outputId": "3a97b89b-1936-4e25-a590-25b5b397e58e"
      },
      "source": [
        "w0.shape, w1.shape, b0.shape, b1.shape"
      ],
      "execution_count": null,
      "outputs": [
        {
          "output_type": "execute_result",
          "data": {
            "text/plain": [
              "((10, 1), (10, 1), (10,), (1,))"
            ]
          },
          "metadata": {
            "tags": []
          },
          "execution_count": 321
        }
      ]
    },
    {
      "cell_type": "code",
      "metadata": {
        "id": "DTRYdpOxpaL1"
      },
      "source": [
        "w1[i][0] * np.tanh(w0[i][0] * x + b0[i]) + b1[0]"
      ],
      "execution_count": null,
      "outputs": []
    },
    {
      "cell_type": "code",
      "metadata": {
        "ExecuteTime": {
          "end_time": "2021-04-04T17:31:43.607483Z",
          "start_time": "2021-04-04T17:31:43.601524Z"
        },
        "id": "rsUhy6kypaL1"
      },
      "source": [
        "w0 = model.linear1.weight.detach().cpu().numpy()\n",
        "w1 = model.linear2.weight.detach().cpu().numpy().T\n",
        "b0 = model.linear1.bias.detach().cpu().numpy()\n",
        "b1 = model.linear2.bias.detach().cpu().numpy()"
      ],
      "execution_count": null,
      "outputs": []
    },
    {
      "cell_type": "code",
      "metadata": {
        "ExecuteTime": {
          "end_time": "2021-04-04T17:31:02.062781Z",
          "start_time": "2021-04-04T17:31:02.055799Z"
        },
        "id": "bGWtkP4apaL1",
        "outputId": "73b8ea0f-c55e-4296-a82c-70780bc77fb6"
      },
      "source": [
        "model.linear2.weight.detach().cpu().numpy().T"
      ],
      "execution_count": null,
      "outputs": [
        {
          "output_type": "execute_result",
          "data": {
            "text/plain": [
              "array([[ 0.37391365],\n",
              "       [-0.06104905],\n",
              "       [ 1.7397275 ],\n",
              "       [-1.0040377 ],\n",
              "       [-0.6278751 ],\n",
              "       [-0.8523965 ],\n",
              "       [ 1.459133  ],\n",
              "       [-0.8241983 ],\n",
              "       [-0.94125825],\n",
              "       [ 1.0333205 ]], dtype=float32)"
            ]
          },
          "metadata": {
            "tags": []
          },
          "execution_count": 317
        }
      ]
    },
    {
      "cell_type": "code",
      "metadata": {
        "ExecuteTime": {
          "end_time": "2021-04-04T17:30:28.395576Z",
          "start_time": "2021-04-04T17:30:28.390588Z"
        },
        "id": "vadU8kJspaL2",
        "outputId": "fac6cd99-5ea5-49bb-86b4-77935c2ee8aa"
      },
      "source": [
        "w1.shape"
      ],
      "execution_count": null,
      "outputs": [
        {
          "output_type": "execute_result",
          "data": {
            "text/plain": [
              "(1, 10)"
            ]
          },
          "metadata": {
            "tags": []
          },
          "execution_count": 313
        }
      ]
    },
    {
      "cell_type": "code",
      "metadata": {
        "ExecuteTime": {
          "end_time": "2021-04-04T17:27:08.964083Z",
          "start_time": "2021-04-04T17:27:08.958097Z"
        },
        "id": "qzVqukaDpaL2",
        "outputId": "36e4e9da-80e9-4cbc-e2c8-71c6c97d6fa4"
      },
      "source": [
        "model.linear1.weight.detach().cpu().numpy()"
      ],
      "execution_count": null,
      "outputs": [
        {
          "output_type": "execute_result",
          "data": {
            "text/plain": [
              "array([[-1.0935417 ],\n",
              "       [ 0.47026607],\n",
              "       [ 3.5226896 ],\n",
              "       [-3.785802  ],\n",
              "       [-0.8060669 ],\n",
              "       [ 1.9255171 ],\n",
              "       [-4.159888  ],\n",
              "       [-1.3623426 ],\n",
              "       [ 1.5555637 ],\n",
              "       [ 3.6163363 ]], dtype=float32)"
            ]
          },
          "metadata": {
            "tags": []
          },
          "execution_count": 304
        }
      ]
    },
    {
      "cell_type": "code",
      "metadata": {
        "ExecuteTime": {
          "end_time": "2021-04-04T17:26:47.379389Z",
          "start_time": "2021-04-04T17:26:47.356449Z"
        },
        "id": "lpK6jPaGpaL2",
        "outputId": "692c6fd8-279f-46b8-d6fd-cf22183c6607"
      },
      "source": [
        "tanh(x, 0)"
      ],
      "execution_count": null,
      "outputs": [
        {
          "output_type": "error",
          "ename": "TypeError",
          "evalue": "can't convert cuda:0 device type tensor to numpy. Use Tensor.cpu() to copy the tensor to host memory first.",
          "traceback": [
            "\u001b[1;31m---------------------------------------------------------------------------\u001b[0m",
            "\u001b[1;31mTypeError\u001b[0m                                 Traceback (most recent call last)",
            "\u001b[1;32m<ipython-input-300-8845565accee>\u001b[0m in \u001b[0;36m<module>\u001b[1;34m\u001b[0m\n\u001b[1;32m----> 1\u001b[1;33m \u001b[0mtanh\u001b[0m\u001b[1;33m(\u001b[0m\u001b[0mx\u001b[0m\u001b[1;33m,\u001b[0m \u001b[1;36m0\u001b[0m\u001b[1;33m)\u001b[0m\u001b[1;33m\u001b[0m\u001b[1;33m\u001b[0m\u001b[0m\n\u001b[0m",
            "\u001b[1;32m<ipython-input-298-a6473635758a>\u001b[0m in \u001b[0;36mtanh\u001b[1;34m(x, i)\u001b[0m\n\u001b[0;32m      6\u001b[0m     \u001b[0mb1\u001b[0m \u001b[1;33m=\u001b[0m \u001b[0mmodel\u001b[0m\u001b[1;33m.\u001b[0m\u001b[0mlinear2\u001b[0m\u001b[1;33m.\u001b[0m\u001b[0mbias\u001b[0m\u001b[1;33m\u001b[0m\u001b[1;33m\u001b[0m\u001b[0m\n\u001b[0;32m      7\u001b[0m \u001b[1;33m\u001b[0m\u001b[0m\n\u001b[1;32m----> 8\u001b[1;33m     \u001b[1;32mreturn\u001b[0m \u001b[0mw1\u001b[0m\u001b[1;33m[\u001b[0m\u001b[0mi\u001b[0m\u001b[1;33m]\u001b[0m\u001b[1;33m[\u001b[0m\u001b[1;36m0\u001b[0m\u001b[1;33m]\u001b[0m \u001b[1;33m*\u001b[0m \u001b[0mnp\u001b[0m\u001b[1;33m.\u001b[0m\u001b[0mtanh\u001b[0m\u001b[1;33m(\u001b[0m\u001b[0mw0\u001b[0m\u001b[1;33m[\u001b[0m\u001b[1;36m0\u001b[0m\u001b[1;33m]\u001b[0m\u001b[1;33m[\u001b[0m\u001b[0mi\u001b[0m\u001b[1;33m]\u001b[0m \u001b[1;33m*\u001b[0m \u001b[0mx\u001b[0m \u001b[1;33m+\u001b[0m \u001b[0mb0\u001b[0m\u001b[1;33m[\u001b[0m\u001b[0mi\u001b[0m\u001b[1;33m]\u001b[0m\u001b[1;33m)\u001b[0m \u001b[1;33m+\u001b[0m \u001b[0mb1\u001b[0m\u001b[1;33m[\u001b[0m\u001b[1;36m0\u001b[0m\u001b[1;33m]\u001b[0m\u001b[1;33m\u001b[0m\u001b[1;33m\u001b[0m\u001b[0m\n\u001b[0m\u001b[0;32m      9\u001b[0m \u001b[1;33m\u001b[0m\u001b[0m\n\u001b[0;32m     10\u001b[0m \u001b[1;31m# рисуем функцию и приближение\u001b[0m\u001b[1;33m\u001b[0m\u001b[1;33m\u001b[0m\u001b[1;33m\u001b[0m\u001b[0m\n",
            "\u001b[1;32mC:\\ProgramData\\Anaconda3\\lib\\site-packages\\torch\\tensor.py\u001b[0m in \u001b[0;36m__array__\u001b[1;34m(self, dtype)\u001b[0m\n\u001b[0;32m    619\u001b[0m             \u001b[1;32mreturn\u001b[0m \u001b[0mhandle_torch_function\u001b[0m\u001b[1;33m(\u001b[0m\u001b[0mTensor\u001b[0m\u001b[1;33m.\u001b[0m\u001b[0m__array__\u001b[0m\u001b[1;33m,\u001b[0m \u001b[1;33m(\u001b[0m\u001b[0mself\u001b[0m\u001b[1;33m,\u001b[0m\u001b[1;33m)\u001b[0m\u001b[1;33m,\u001b[0m \u001b[0mself\u001b[0m\u001b[1;33m,\u001b[0m \u001b[0mdtype\u001b[0m\u001b[1;33m=\u001b[0m\u001b[0mdtype\u001b[0m\u001b[1;33m)\u001b[0m\u001b[1;33m\u001b[0m\u001b[1;33m\u001b[0m\u001b[0m\n\u001b[0;32m    620\u001b[0m         \u001b[1;32mif\u001b[0m \u001b[0mdtype\u001b[0m \u001b[1;32mis\u001b[0m \u001b[1;32mNone\u001b[0m\u001b[1;33m:\u001b[0m\u001b[1;33m\u001b[0m\u001b[1;33m\u001b[0m\u001b[0m\n\u001b[1;32m--> 621\u001b[1;33m             \u001b[1;32mreturn\u001b[0m \u001b[0mself\u001b[0m\u001b[1;33m.\u001b[0m\u001b[0mnumpy\u001b[0m\u001b[1;33m(\u001b[0m\u001b[1;33m)\u001b[0m\u001b[1;33m\u001b[0m\u001b[1;33m\u001b[0m\u001b[0m\n\u001b[0m\u001b[0;32m    622\u001b[0m         \u001b[1;32melse\u001b[0m\u001b[1;33m:\u001b[0m\u001b[1;33m\u001b[0m\u001b[1;33m\u001b[0m\u001b[0m\n\u001b[0;32m    623\u001b[0m             \u001b[1;32mreturn\u001b[0m \u001b[0mself\u001b[0m\u001b[1;33m.\u001b[0m\u001b[0mnumpy\u001b[0m\u001b[1;33m(\u001b[0m\u001b[1;33m)\u001b[0m\u001b[1;33m.\u001b[0m\u001b[0mastype\u001b[0m\u001b[1;33m(\u001b[0m\u001b[0mdtype\u001b[0m\u001b[1;33m,\u001b[0m \u001b[0mcopy\u001b[0m\u001b[1;33m=\u001b[0m\u001b[1;32mFalse\u001b[0m\u001b[1;33m)\u001b[0m\u001b[1;33m\u001b[0m\u001b[1;33m\u001b[0m\u001b[0m\n",
            "\u001b[1;31mTypeError\u001b[0m: can't convert cuda:0 device type tensor to numpy. Use Tensor.cpu() to copy the tensor to host memory first."
          ]
        }
      ]
    },
    {
      "cell_type": "code",
      "metadata": {
        "ExecuteTime": {
          "end_time": "2021-04-04T17:25:54.925065Z",
          "start_time": "2021-04-04T17:25:54.918083Z"
        },
        "id": "b1Bbh_I9paL2",
        "outputId": "4d171aa3-3812-4a68-cb01-b2eaf559f820"
      },
      "source": [
        "w0[5][0]"
      ],
      "execution_count": null,
      "outputs": [
        {
          "output_type": "execute_result",
          "data": {
            "text/plain": [
              "tensor(1.9255, device='cuda:0', grad_fn=<SelectBackward>)"
            ]
          },
          "metadata": {
            "tags": []
          },
          "execution_count": 297
        }
      ]
    },
    {
      "cell_type": "code",
      "metadata": {
        "ExecuteTime": {
          "end_time": "2021-04-04T17:18:54.323822Z",
          "start_time": "2021-04-04T17:18:54.316813Z"
        },
        "id": "fQvSM_RxpaL3",
        "outputId": "2067a010-7a04-494b-ed13-eef5a21cf7dc"
      },
      "source": [
        "model.predict(inputs).detach().cpu().numpy()"
      ],
      "execution_count": null,
      "outputs": [
        {
          "output_type": "execute_result",
          "data": {
            "text/plain": [
              "(1000, 1)"
            ]
          },
          "metadata": {
            "tags": []
          },
          "execution_count": 287
        }
      ]
    },
    {
      "cell_type": "code",
      "metadata": {
        "ExecuteTime": {
          "end_time": "2021-04-04T17:20:31.091905Z",
          "start_time": "2021-04-04T17:20:31.051016Z"
        },
        "id": "EkOBs440paL3",
        "outputId": "fb1e5c50-2303-48da-db14-046ac85a8637"
      },
      "source": [
        "np.apply_along_axis(lambda x: tanh(x, 1), 0, x)"
      ],
      "execution_count": null,
      "outputs": [
        {
          "output_type": "error",
          "ename": "IndexError",
          "evalue": "index 1 is out of bounds for dimension 0 with size 1",
          "traceback": [
            "\u001b[1;31m---------------------------------------------------------------------------\u001b[0m",
            "\u001b[1;31mIndexError\u001b[0m                                Traceback (most recent call last)",
            "\u001b[1;32m<ipython-input-289-f32256d90a38>\u001b[0m in \u001b[0;36m<module>\u001b[1;34m\u001b[0m\n\u001b[1;32m----> 1\u001b[1;33m \u001b[0mnp\u001b[0m\u001b[1;33m.\u001b[0m\u001b[0mapply_along_axis\u001b[0m\u001b[1;33m(\u001b[0m\u001b[1;32mlambda\u001b[0m \u001b[0mx\u001b[0m\u001b[1;33m:\u001b[0m \u001b[0mtanh\u001b[0m\u001b[1;33m(\u001b[0m\u001b[0mx\u001b[0m\u001b[1;33m,\u001b[0m \u001b[1;36m1\u001b[0m\u001b[1;33m)\u001b[0m\u001b[1;33m,\u001b[0m \u001b[1;36m0\u001b[0m\u001b[1;33m,\u001b[0m \u001b[0mx\u001b[0m\u001b[1;33m)\u001b[0m\u001b[1;33m\u001b[0m\u001b[1;33m\u001b[0m\u001b[0m\n\u001b[0m",
            "\u001b[1;32m<__array_function__ internals>\u001b[0m in \u001b[0;36mapply_along_axis\u001b[1;34m(*args, **kwargs)\u001b[0m\n",
            "\u001b[1;32mC:\\ProgramData\\Anaconda3\\lib\\site-packages\\numpy\\lib\\shape_base.py\u001b[0m in \u001b[0;36mapply_along_axis\u001b[1;34m(func1d, axis, arr, *args, **kwargs)\u001b[0m\n\u001b[0;32m    377\u001b[0m             \u001b[1;34m'Cannot apply_along_axis when any iteration dimensions are 0'\u001b[0m\u001b[1;33m\u001b[0m\u001b[1;33m\u001b[0m\u001b[0m\n\u001b[0;32m    378\u001b[0m         ) from None\n\u001b[1;32m--> 379\u001b[1;33m     \u001b[0mres\u001b[0m \u001b[1;33m=\u001b[0m \u001b[0masanyarray\u001b[0m\u001b[1;33m(\u001b[0m\u001b[0mfunc1d\u001b[0m\u001b[1;33m(\u001b[0m\u001b[0minarr_view\u001b[0m\u001b[1;33m[\u001b[0m\u001b[0mind0\u001b[0m\u001b[1;33m]\u001b[0m\u001b[1;33m,\u001b[0m \u001b[1;33m*\u001b[0m\u001b[0margs\u001b[0m\u001b[1;33m,\u001b[0m \u001b[1;33m**\u001b[0m\u001b[0mkwargs\u001b[0m\u001b[1;33m)\u001b[0m\u001b[1;33m)\u001b[0m\u001b[1;33m\u001b[0m\u001b[1;33m\u001b[0m\u001b[0m\n\u001b[0m\u001b[0;32m    380\u001b[0m \u001b[1;33m\u001b[0m\u001b[0m\n\u001b[0;32m    381\u001b[0m     \u001b[1;31m# build a buffer for storing evaluations of func1d.\u001b[0m\u001b[1;33m\u001b[0m\u001b[1;33m\u001b[0m\u001b[1;33m\u001b[0m\u001b[0m\n",
            "\u001b[1;32m<ipython-input-289-f32256d90a38>\u001b[0m in \u001b[0;36m<lambda>\u001b[1;34m(x)\u001b[0m\n\u001b[1;32m----> 1\u001b[1;33m \u001b[0mnp\u001b[0m\u001b[1;33m.\u001b[0m\u001b[0mapply_along_axis\u001b[0m\u001b[1;33m(\u001b[0m\u001b[1;32mlambda\u001b[0m \u001b[0mx\u001b[0m\u001b[1;33m:\u001b[0m \u001b[0mtanh\u001b[0m\u001b[1;33m(\u001b[0m\u001b[0mx\u001b[0m\u001b[1;33m,\u001b[0m \u001b[1;36m1\u001b[0m\u001b[1;33m)\u001b[0m\u001b[1;33m,\u001b[0m \u001b[1;36m0\u001b[0m\u001b[1;33m,\u001b[0m \u001b[0mx\u001b[0m\u001b[1;33m)\u001b[0m\u001b[1;33m\u001b[0m\u001b[1;33m\u001b[0m\u001b[0m\n\u001b[0m",
            "\u001b[1;32m<ipython-input-283-95a879d49c7d>\u001b[0m in \u001b[0;36mtanh\u001b[1;34m(x, i)\u001b[0m\n\u001b[0;32m      6\u001b[0m     \u001b[0mb1\u001b[0m \u001b[1;33m=\u001b[0m \u001b[0mmodel\u001b[0m\u001b[1;33m.\u001b[0m\u001b[0mlinear2\u001b[0m\u001b[1;33m.\u001b[0m\u001b[0mbias\u001b[0m\u001b[1;33m\u001b[0m\u001b[1;33m\u001b[0m\u001b[0m\n\u001b[0;32m      7\u001b[0m \u001b[1;33m\u001b[0m\u001b[0m\n\u001b[1;32m----> 8\u001b[1;33m     \u001b[1;32mreturn\u001b[0m \u001b[0mw1\u001b[0m\u001b[1;33m[\u001b[0m\u001b[0mi\u001b[0m\u001b[1;33m]\u001b[0m\u001b[1;33m.\u001b[0m\u001b[0mitem\u001b[0m\u001b[1;33m(\u001b[0m\u001b[1;33m)\u001b[0m \u001b[1;33m*\u001b[0m \u001b[0mnp\u001b[0m\u001b[1;33m.\u001b[0m\u001b[0mtanh\u001b[0m\u001b[1;33m(\u001b[0m\u001b[0mw0\u001b[0m\u001b[1;33m[\u001b[0m\u001b[0mi\u001b[0m\u001b[1;33m]\u001b[0m\u001b[1;33m.\u001b[0m\u001b[0mitem\u001b[0m\u001b[1;33m(\u001b[0m\u001b[1;33m)\u001b[0m \u001b[1;33m*\u001b[0m \u001b[0mx\u001b[0m \u001b[1;33m+\u001b[0m \u001b[0mb0\u001b[0m\u001b[1;33m[\u001b[0m\u001b[0mi\u001b[0m\u001b[1;33m]\u001b[0m\u001b[1;33m.\u001b[0m\u001b[0mitem\u001b[0m\u001b[1;33m(\u001b[0m\u001b[1;33m)\u001b[0m\u001b[1;33m)\u001b[0m \u001b[1;33m+\u001b[0m \u001b[0mb1\u001b[0m\u001b[1;33m[\u001b[0m\u001b[1;36m0\u001b[0m\u001b[1;33m]\u001b[0m\u001b[1;33m\u001b[0m\u001b[1;33m\u001b[0m\u001b[0m\n\u001b[0m\u001b[0;32m      9\u001b[0m \u001b[1;33m\u001b[0m\u001b[0m\n\u001b[0;32m     10\u001b[0m \u001b[1;31m# рисуем функцию и приближение\u001b[0m\u001b[1;33m\u001b[0m\u001b[1;33m\u001b[0m\u001b[1;33m\u001b[0m\u001b[0m\n",
            "\u001b[1;31mIndexError\u001b[0m: index 1 is out of bounds for dimension 0 with size 1"
          ]
        }
      ]
    },
    {
      "cell_type": "code",
      "metadata": {
        "ExecuteTime": {
          "end_time": "2021-04-04T17:17:31.995694Z",
          "start_time": "2021-04-04T17:17:31.968757Z"
        },
        "id": "8cQfR1S0paL3",
        "outputId": "3b60df59-2e7f-44e9-c897-6025ba8013b5"
      },
      "source": [
        "model.predict(inputs).detach().cpu().numpy()"
      ],
      "execution_count": null,
      "outputs": [
        {
          "output_type": "stream",
          "text": [
            "C:\\ProgramData\\Anaconda3\\lib\\site-packages\\torch\\nn\\functional.py:1698: UserWarning: nn.functional.tanh is deprecated. Use torch.tanh instead.\n",
            "  warnings.warn(\"nn.functional.tanh is deprecated. Use torch.tanh instead.\")\n"
          ],
          "name": "stderr"
        },
        {
          "output_type": "execute_result",
          "data": {
            "text/plain": [
              "array([[-2.52612758e+00],\n",
              "       [-2.52791381e+00],\n",
              "       [-2.52969599e+00],\n",
              "       [-2.53147364e+00],\n",
              "       [-2.53324699e+00],\n",
              "       [-2.53501463e+00],\n",
              "       [-2.53677654e+00],\n",
              "       [-2.53853154e+00],\n",
              "       [-2.54027987e+00],\n",
              "       [-2.54202008e+00],\n",
              "       [-2.54375243e+00],\n",
              "       [-2.54547524e+00],\n",
              "       [-2.54718876e+00],\n",
              "       [-2.54889154e+00],\n",
              "       [-2.55058312e+00],\n",
              "       [-2.55226302e+00],\n",
              "       [-2.55393028e+00],\n",
              "       [-2.55558372e+00],\n",
              "       [-2.55722284e+00],\n",
              "       [-2.55884743e+00],\n",
              "       [-2.56045580e+00],\n",
              "       [-2.56204700e+00],\n",
              "       [-2.56362081e+00],\n",
              "       [-2.56517553e+00],\n",
              "       [-2.56671119e+00],\n",
              "       [-2.56822515e+00],\n",
              "       [-2.56971812e+00],\n",
              "       [-2.57118773e+00],\n",
              "       [-2.57263374e+00],\n",
              "       [-2.57405424e+00],\n",
              "       [-2.57544827e+00],\n",
              "       [-2.57681513e+00],\n",
              "       [-2.57815289e+00],\n",
              "       [-2.57946038e+00],\n",
              "       [-2.58073688e+00],\n",
              "       [-2.58197999e+00],\n",
              "       [-2.58318901e+00],\n",
              "       [-2.58436227e+00],\n",
              "       [-2.58549714e+00],\n",
              "       [-2.58659410e+00],\n",
              "       [-2.58764982e+00],\n",
              "       [-2.58866334e+00],\n",
              "       [-2.58963227e+00],\n",
              "       [-2.59055591e+00],\n",
              "       [-2.59143162e+00],\n",
              "       [-2.59225726e+00],\n",
              "       [-2.59303093e+00],\n",
              "       [-2.59375072e+00],\n",
              "       [-2.59441400e+00],\n",
              "       [-2.59501934e+00],\n",
              "       [-2.59556437e+00],\n",
              "       [-2.59604549e+00],\n",
              "       [-2.59646177e+00],\n",
              "       [-2.59680986e+00],\n",
              "       [-2.59708667e+00],\n",
              "       [-2.59729052e+00],\n",
              "       [-2.59741759e+00],\n",
              "       [-2.59746552e+00],\n",
              "       [-2.59743118e+00],\n",
              "       [-2.59731150e+00],\n",
              "       [-2.59710288e+00],\n",
              "       [-2.59680176e+00],\n",
              "       [-2.59640527e+00],\n",
              "       [-2.59591031e+00],\n",
              "       [-2.59531140e+00],\n",
              "       [-2.59460664e+00],\n",
              "       [-2.59379029e+00],\n",
              "       [-2.59285903e+00],\n",
              "       [-2.59180880e+00],\n",
              "       [-2.59063530e+00],\n",
              "       [-2.58933306e+00],\n",
              "       [-2.58789849e+00],\n",
              "       [-2.58632588e+00],\n",
              "       [-2.58461118e+00],\n",
              "       [-2.58274817e+00],\n",
              "       [-2.58073139e+00],\n",
              "       [-2.57855701e+00],\n",
              "       [-2.57621741e+00],\n",
              "       [-2.57370734e+00],\n",
              "       [-2.57102084e+00],\n",
              "       [-2.56815195e+00],\n",
              "       [-2.56509376e+00],\n",
              "       [-2.56183958e+00],\n",
              "       [-2.55838275e+00],\n",
              "       [-2.55471611e+00],\n",
              "       [-2.55083275e+00],\n",
              "       [-2.54672480e+00],\n",
              "       [-2.54238510e+00],\n",
              "       [-2.53780484e+00],\n",
              "       [-2.53297710e+00],\n",
              "       [-2.52789283e+00],\n",
              "       [-2.52254343e+00],\n",
              "       [-2.51692057e+00],\n",
              "       [-2.51101542e+00],\n",
              "       [-2.50481844e+00],\n",
              "       [-2.49832058e+00],\n",
              "       [-2.49151230e+00],\n",
              "       [-2.48438334e+00],\n",
              "       [-2.47692442e+00],\n",
              "       [-2.46912456e+00],\n",
              "       [-2.46097445e+00],\n",
              "       [-2.45246315e+00],\n",
              "       [-2.44358015e+00],\n",
              "       [-2.43431425e+00],\n",
              "       [-2.42465520e+00],\n",
              "       [-2.41459131e+00],\n",
              "       [-2.40411186e+00],\n",
              "       [-2.39320588e+00],\n",
              "       [-2.38186097e+00],\n",
              "       [-2.37006688e+00],\n",
              "       [-2.35781240e+00],\n",
              "       [-2.34508491e+00],\n",
              "       [-2.33187413e+00],\n",
              "       [-2.31816816e+00],\n",
              "       [-2.30395651e+00],\n",
              "       [-2.28922772e+00],\n",
              "       [-2.27397084e+00],\n",
              "       [-2.25817513e+00],\n",
              "       [-2.24183035e+00],\n",
              "       [-2.22492671e+00],\n",
              "       [-2.20745373e+00],\n",
              "       [-2.18940210e+00],\n",
              "       [-2.17076302e+00],\n",
              "       [-2.15152717e+00],\n",
              "       [-2.13168716e+00],\n",
              "       [-2.11123562e+00],\n",
              "       [-2.09016609e+00],\n",
              "       [-2.06847048e+00],\n",
              "       [-2.04614615e+00],\n",
              "       [-2.02318597e+00],\n",
              "       [-1.99958873e+00],\n",
              "       [-1.97534895e+00],\n",
              "       [-1.95046663e+00],\n",
              "       [-1.92493987e+00],\n",
              "       [-1.89876938e+00],\n",
              "       [-1.87195683e+00],\n",
              "       [-1.84450436e+00],\n",
              "       [-1.81641579e+00],\n",
              "       [-1.78769612e+00],\n",
              "       [-1.75835204e+00],\n",
              "       [-1.72839069e+00],\n",
              "       [-1.69782162e+00],\n",
              "       [-1.66665483e+00],\n",
              "       [-1.63490283e+00],\n",
              "       [-1.60257804e+00],\n",
              "       [-1.56969619e+00],\n",
              "       [-1.53627288e+00],\n",
              "       [-1.50232577e+00],\n",
              "       [-1.46787357e+00],\n",
              "       [-1.43293738e+00],\n",
              "       [-1.39753842e+00],\n",
              "       [-1.36169982e+00],\n",
              "       [-1.32544577e+00],\n",
              "       [-1.28880167e+00],\n",
              "       [-1.25179434e+00],\n",
              "       [-1.21445131e+00],\n",
              "       [-1.17680168e+00],\n",
              "       [-1.13887453e+00],\n",
              "       [-1.10070038e+00],\n",
              "       [-1.06231046e+00],\n",
              "       [-1.02373648e+00],\n",
              "       [-9.85010147e-01],\n",
              "       [-9.46164489e-01],\n",
              "       [-9.07232046e-01],\n",
              "       [-8.68246257e-01],\n",
              "       [-8.29239726e-01],\n",
              "       [-7.90245414e-01],\n",
              "       [-7.51295745e-01],\n",
              "       [-7.12424219e-01],\n",
              "       [-6.73662126e-01],\n",
              "       [-6.35041535e-01],\n",
              "       [-5.96592844e-01],\n",
              "       [-5.58346212e-01],\n",
              "       [-5.20330846e-01],\n",
              "       [-4.82575357e-01],\n",
              "       [-4.45107162e-01],\n",
              "       [-4.07952487e-01],\n",
              "       [-3.71136844e-01],\n",
              "       [-3.34683716e-01],\n",
              "       [-2.98616230e-01],\n",
              "       [-2.62955844e-01],\n",
              "       [-2.27722943e-01],\n",
              "       [-1.92935884e-01],\n",
              "       [-1.58612669e-01],\n",
              "       [-1.24768436e-01],\n",
              "       [-9.14191604e-02],\n",
              "       [-5.85779548e-02],\n",
              "       [-2.62567401e-02],\n",
              "       [ 5.53399324e-03],\n",
              "       [ 3.67849469e-02],\n",
              "       [ 6.74875379e-02],\n",
              "       [ 9.76350904e-02],\n",
              "       [ 1.27222359e-01],\n",
              "       [ 1.56244099e-01],\n",
              "       [ 1.84697330e-01],\n",
              "       [ 2.12579548e-01],\n",
              "       [ 2.39889681e-01],\n",
              "       [ 2.66626894e-01],\n",
              "       [ 2.92792141e-01],\n",
              "       [ 3.18385899e-01],\n",
              "       [ 3.43411028e-01],\n",
              "       [ 3.67870629e-01],\n",
              "       [ 3.91766369e-01],\n",
              "       [ 4.15104210e-01],\n",
              "       [ 4.37887251e-01],\n",
              "       [ 4.60121930e-01],\n",
              "       [ 4.81812060e-01],\n",
              "       [ 5.02964318e-01],\n",
              "       [ 5.23584664e-01],\n",
              "       [ 5.43679059e-01],\n",
              "       [ 5.63254416e-01],\n",
              "       [ 5.82316935e-01],\n",
              "       [ 6.00873053e-01],\n",
              "       [ 6.18930161e-01],\n",
              "       [ 6.36494458e-01],\n",
              "       [ 6.53573334e-01],\n",
              "       [ 6.70172036e-01],\n",
              "       [ 6.86298430e-01],\n",
              "       [ 7.01957524e-01],\n",
              "       [ 7.17156231e-01],\n",
              "       [ 7.31899798e-01],\n",
              "       [ 7.46194184e-01],\n",
              "       [ 7.60044634e-01],\n",
              "       [ 7.73455679e-01],\n",
              "       [ 7.86432564e-01],\n",
              "       [ 7.98978865e-01],\n",
              "       [ 8.11098397e-01],\n",
              "       [ 8.22794735e-01],\n",
              "       [ 8.34070981e-01],\n",
              "       [ 8.44929516e-01],\n",
              "       [ 8.55372012e-01],\n",
              "       [ 8.65400136e-01],\n",
              "       [ 8.75015080e-01],\n",
              "       [ 8.84217083e-01],\n",
              "       [ 8.93006146e-01],\n",
              "       [ 9.01381791e-01],\n",
              "       [ 9.09342587e-01],\n",
              "       [ 9.16886866e-01],\n",
              "       [ 9.24012959e-01],\n",
              "       [ 9.30717528e-01],\n",
              "       [ 9.36996996e-01],\n",
              "       [ 9.42847550e-01],\n",
              "       [ 9.48264897e-01],\n",
              "       [ 9.53243315e-01],\n",
              "       [ 9.57777798e-01],\n",
              "       [ 9.61861908e-01],\n",
              "       [ 9.65488732e-01],\n",
              "       [ 9.68651116e-01],\n",
              "       [ 9.71340477e-01],\n",
              "       [ 9.73549664e-01],\n",
              "       [ 9.75269139e-01],\n",
              "       [ 9.76489842e-01],\n",
              "       [ 9.77201760e-01],\n",
              "       [ 9.77394879e-01],\n",
              "       [ 9.77058947e-01],\n",
              "       [ 9.76182044e-01],\n",
              "       [ 9.74754393e-01],\n",
              "       [ 9.72763360e-01],\n",
              "       [ 9.70198214e-01],\n",
              "       [ 9.67046082e-01],\n",
              "       [ 9.63295758e-01],\n",
              "       [ 9.58935082e-01],\n",
              "       [ 9.53951895e-01],\n",
              "       [ 9.48334992e-01],\n",
              "       [ 9.42071497e-01],\n",
              "       [ 9.35150921e-01],\n",
              "       [ 9.27561820e-01],\n",
              "       [ 9.19293702e-01],\n",
              "       [ 9.10336077e-01],\n",
              "       [ 9.00679886e-01],\n",
              "       [ 8.90315592e-01],\n",
              "       [ 8.79235804e-01],\n",
              "       [ 8.67433369e-01],\n",
              "       [ 8.54902327e-01],\n",
              "       [ 8.41637433e-01],\n",
              "       [ 8.27636063e-01],\n",
              "       [ 8.12895119e-01],\n",
              "       [ 7.97414124e-01],\n",
              "       [ 7.81194746e-01],\n",
              "       [ 7.64238894e-01],\n",
              "       [ 7.46551096e-01],\n",
              "       [ 7.28138149e-01],\n",
              "       [ 7.09008157e-01],\n",
              "       [ 6.89171731e-01],\n",
              "       [ 6.68640554e-01],\n",
              "       [ 6.47431076e-01],\n",
              "       [ 6.25558794e-01],\n",
              "       [ 6.03043973e-01],\n",
              "       [ 5.79907596e-01],\n",
              "       [ 5.56173742e-01],\n",
              "       [ 5.31867921e-01],\n",
              "       [ 5.07018983e-01],\n",
              "       [ 4.81657207e-01],\n",
              "       [ 4.55814779e-01],\n",
              "       [ 4.29526269e-01],\n",
              "       [ 4.02828157e-01],\n",
              "       [ 3.75758111e-01],\n",
              "       [ 3.48356187e-01],\n",
              "       [ 3.20663393e-01],\n",
              "       [ 2.92721212e-01],\n",
              "       [ 2.64573514e-01],\n",
              "       [ 2.36265242e-01],\n",
              "       [ 2.07840383e-01],\n",
              "       [ 1.79344118e-01],\n",
              "       [ 1.50822341e-01],\n",
              "       [ 1.22320116e-01],\n",
              "       [ 9.38829780e-02],\n",
              "       [ 6.55555129e-02],\n",
              "       [ 3.73814702e-02],\n",
              "       [ 9.40436125e-03],\n",
              "       [-1.83342099e-02],\n",
              "       [-4.57932353e-02],\n",
              "       [-7.29332566e-02],\n",
              "       [-9.97174382e-02],\n",
              "       [-1.26109183e-01],\n",
              "       [-1.52075112e-01],\n",
              "       [-1.77582800e-01],\n",
              "       [-2.02603400e-01],\n",
              "       [-2.27107942e-01],\n",
              "       [-2.51072109e-01],\n",
              "       [-2.74472415e-01],\n",
              "       [-2.97288835e-01],\n",
              "       [-3.19502175e-01],\n",
              "       [-3.41096461e-01],\n",
              "       [-3.62058461e-01],\n",
              "       [-3.82376015e-01],\n",
              "       [-4.02040064e-01],\n",
              "       [-4.21043098e-01],\n",
              "       [-4.39380467e-01],\n",
              "       [-4.57048237e-01],\n",
              "       [-4.74045575e-01],\n",
              "       [-4.90372479e-01],\n",
              "       [-5.06031334e-01],\n",
              "       [-5.21025717e-01],\n",
              "       [-5.35360754e-01],\n",
              "       [-5.49043119e-01],\n",
              "       [-5.62080204e-01],\n",
              "       [-5.74480832e-01],\n",
              "       [-5.86255372e-01],\n",
              "       [-5.97414196e-01],\n",
              "       [-6.07968867e-01],\n",
              "       [-6.17932260e-01],\n",
              "       [-6.27317250e-01],\n",
              "       [-6.36136472e-01],\n",
              "       [-6.44404829e-01],\n",
              "       [-6.52136743e-01],\n",
              "       [-6.59346402e-01],\n",
              "       [-6.66048586e-01],\n",
              "       [-6.72258675e-01],\n",
              "       [-6.77991688e-01],\n",
              "       [-6.83262885e-01],\n",
              "       [-6.88086927e-01],\n",
              "       [-6.92479551e-01],\n",
              "       [-6.96455300e-01],\n",
              "       [-7.00029194e-01],\n",
              "       [-7.03215659e-01],\n",
              "       [-7.06029475e-01],\n",
              "       [-7.08484471e-01],\n",
              "       [-7.10594952e-01],\n",
              "       [-7.12374270e-01],\n",
              "       [-7.13835895e-01],\n",
              "       [-7.14993536e-01],\n",
              "       [-7.15858757e-01],\n",
              "       [-7.16444790e-01],\n",
              "       [-7.16763318e-01],\n",
              "       [-7.16826379e-01],\n",
              "       [-7.16645181e-01],\n",
              "       [-7.16230690e-01],\n",
              "       [-7.15593636e-01],\n",
              "       [-7.14744031e-01],\n",
              "       [-7.13692605e-01],\n",
              "       [-7.12448061e-01],\n",
              "       [-7.11020172e-01],\n",
              "       [-7.09418237e-01],\n",
              "       [-7.07650244e-01],\n",
              "       [-7.05724895e-01],\n",
              "       [-7.03649580e-01],\n",
              "       [-7.01432645e-01],\n",
              "       [-6.99081123e-01],\n",
              "       [-6.96602046e-01],\n",
              "       [-6.94002211e-01],\n",
              "       [-6.91288412e-01],\n",
              "       [-6.88466609e-01],\n",
              "       [-6.85542524e-01],\n",
              "       [-6.82522357e-01],\n",
              "       [-6.79411352e-01],\n",
              "       [-6.76214516e-01],\n",
              "       [-6.72937334e-01],\n",
              "       [-6.69584095e-01],\n",
              "       [-6.66159332e-01],\n",
              "       [-6.62667692e-01],\n",
              "       [-6.59113467e-01],\n",
              "       [-6.55500233e-01],\n",
              "       [-6.51831806e-01],\n",
              "       [-6.48112118e-01],\n",
              "       [-6.44344866e-01],\n",
              "       [-6.40532076e-01],\n",
              "       [-6.36678040e-01],\n",
              "       [-6.32785261e-01],\n",
              "       [-6.28856599e-01],\n",
              "       [-6.24894917e-01],\n",
              "       [-6.20902359e-01],\n",
              "       [-6.16881788e-01],\n",
              "       [-6.12835348e-01],\n",
              "       [-6.08765423e-01],\n",
              "       [-6.04673922e-01],\n",
              "       [-6.00562990e-01],\n",
              "       [-5.96434176e-01],\n",
              "       [-5.92289269e-01],\n",
              "       [-5.88130653e-01],\n",
              "       [-5.83959401e-01],\n",
              "       [-5.79776943e-01],\n",
              "       [-5.75584829e-01],\n",
              "       [-5.71384728e-01],\n",
              "       [-5.67177474e-01],\n",
              "       [-5.62964857e-01],\n",
              "       [-5.58747709e-01],\n",
              "       [-5.54527104e-01],\n",
              "       [-5.50304472e-01],\n",
              "       [-5.46080172e-01],\n",
              "       [-5.41855991e-01],\n",
              "       [-5.37632048e-01],\n",
              "       [-5.33409655e-01],\n",
              "       [-5.29189408e-01],\n",
              "       [-5.24971783e-01],\n",
              "       [-5.20758331e-01],\n",
              "       [-5.16549051e-01],\n",
              "       [-5.12344778e-01],\n",
              "       [-5.08146107e-01],\n",
              "       [-5.03953874e-01],\n",
              "       [-4.99768198e-01],\n",
              "       [-4.95589793e-01],\n",
              "       [-4.91418898e-01],\n",
              "       [-4.87256825e-01],\n",
              "       [-4.83102858e-01],\n",
              "       [-4.78958070e-01],\n",
              "       [-4.74822938e-01],\n",
              "       [-4.70697343e-01],\n",
              "       [-4.66582239e-01],\n",
              "       [-4.62477505e-01],\n",
              "       [-4.58383262e-01],\n",
              "       [-4.54300702e-01],\n",
              "       [-4.50229108e-01],\n",
              "       [-4.46169078e-01],\n",
              "       [-4.42121446e-01],\n",
              "       [-4.38085616e-01],\n",
              "       [-4.34062183e-01],\n",
              "       [-4.30051386e-01],\n",
              "       [-4.26053226e-01],\n",
              "       [-4.22068179e-01],\n",
              "       [-4.18096125e-01],\n",
              "       [-4.14137542e-01],\n",
              "       [-4.10192668e-01],\n",
              "       [-4.06261027e-01],\n",
              "       [-4.02343452e-01],\n",
              "       [-3.98439705e-01],\n",
              "       [-3.94550025e-01],\n",
              "       [-3.90674531e-01],\n",
              "       [-3.86813581e-01],\n",
              "       [-3.82966936e-01],\n",
              "       [-3.79134715e-01],\n",
              "       [-3.75317276e-01],\n",
              "       [-3.71514857e-01],\n",
              "       [-3.67726862e-01],\n",
              "       [-3.63954365e-01],\n",
              "       [-3.60196531e-01],\n",
              "       [-3.56454313e-01],\n",
              "       [-3.52727115e-01],\n",
              "       [-3.49015415e-01],\n",
              "       [-3.45318735e-01],\n",
              "       [-3.41638148e-01],\n",
              "       [-3.37972581e-01],\n",
              "       [-3.34323347e-01],\n",
              "       [-3.30689490e-01],\n",
              "       [-3.27071607e-01],\n",
              "       [-3.23469698e-01],\n",
              "       [-3.19883645e-01],\n",
              "       [-3.16313803e-01],\n",
              "       [-3.12760293e-01],\n",
              "       [-3.09222639e-01],\n",
              "       [-3.05701435e-01],\n",
              "       [-3.02196801e-01],\n",
              "       [-2.98708618e-01],\n",
              "       [-2.95236766e-01],\n",
              "       [-2.91781843e-01],\n",
              "       [-2.88343370e-01],\n",
              "       [-2.84921825e-01],\n",
              "       [-2.81516969e-01],\n",
              "       [-2.78129160e-01],\n",
              "       [-2.74758279e-01],\n",
              "       [-2.71404445e-01],\n",
              "       [-2.68067777e-01],\n",
              "       [-2.64748037e-01],\n",
              "       [-2.61445940e-01],\n",
              "       [-2.58161008e-01],\n",
              "       [-2.54893482e-01],\n",
              "       [-2.51643717e-01],\n",
              "       [-2.48411596e-01],\n",
              "       [-2.45196998e-01],\n",
              "       [-2.42000163e-01],\n",
              "       [-2.38821089e-01],\n",
              "       [-2.35659659e-01],\n",
              "       [-2.32516706e-01],\n",
              "       [-2.29391515e-01],\n",
              "       [-2.26284444e-01],\n",
              "       [-2.23195851e-01],\n",
              "       [-2.20125139e-01],\n",
              "       [-2.17072904e-01],\n",
              "       [-2.14039028e-01],\n",
              "       [-2.11023748e-01],\n",
              "       [-2.08027065e-01],\n",
              "       [-2.05049098e-01],\n",
              "       [-2.02089608e-01],\n",
              "       [-1.99149072e-01],\n",
              "       [-1.96227372e-01],\n",
              "       [-1.93324506e-01],\n",
              "       [-1.90440714e-01],\n",
              "       [-1.87576234e-01],\n",
              "       [-1.84730351e-01],\n",
              "       [-1.81904018e-01],\n",
              "       [-1.79096758e-01],\n",
              "       [-1.76308930e-01],\n",
              "       [-1.73540294e-01],\n",
              "       [-1.70791090e-01],\n",
              "       [-1.68061316e-01],\n",
              "       [-1.65351212e-01],\n",
              "       [-1.62660420e-01],\n",
              "       [-1.59989417e-01],\n",
              "       [-1.57337725e-01],\n",
              "       [-1.54706061e-01],\n",
              "       [-1.52093828e-01],\n",
              "       [-1.49501383e-01],\n",
              "       [-1.46928728e-01],\n",
              "       [-1.44375503e-01],\n",
              "       [-1.41842306e-01],\n",
              "       [-1.39328897e-01],\n",
              "       [-1.36835277e-01],\n",
              "       [-1.34361088e-01],\n",
              "       [-1.31906569e-01],\n",
              "       [-1.29471600e-01],\n",
              "       [-1.27056777e-01],\n",
              "       [-1.24661267e-01],\n",
              "       [-1.22285187e-01],\n",
              "       [-1.19928777e-01],\n",
              "       [-1.17591679e-01],\n",
              "       [-1.15273535e-01],\n",
              "       [-1.12975061e-01],\n",
              "       [-1.10695422e-01],\n",
              "       [-1.08434975e-01],\n",
              "       [-1.06193244e-01],\n",
              "       [-1.03970230e-01],\n",
              "       [-1.01765811e-01],\n",
              "       [-9.95795131e-02],\n",
              "       [-9.74115729e-02],\n",
              "       [-9.52611566e-02],\n",
              "       [-9.31288600e-02],\n",
              "       [-9.10139680e-02],\n",
              "       [-8.89163613e-02],\n",
              "       [-8.68353248e-02],\n",
              "       [-8.47709775e-02],\n",
              "       [-8.27228427e-02],\n",
              "       [-8.06905627e-02],\n",
              "       [-7.86740184e-02],\n",
              "       [-7.66721368e-02],\n",
              "       [-7.46846795e-02],\n",
              "       [-7.27120042e-02],\n",
              "       [-7.07524419e-02],\n",
              "       [-6.88062310e-02],\n",
              "       [-6.68724179e-02],\n",
              "       [-6.49501681e-02],\n",
              "       [-6.30398393e-02],\n",
              "       [-6.11395240e-02],\n",
              "       [-5.92491031e-02],\n",
              "       [-5.73679805e-02],\n",
              "       [-5.54949641e-02],\n",
              "       [-5.36292195e-02],\n",
              "       [-5.17700315e-02],\n",
              "       [-4.99160886e-02],\n",
              "       [-4.80667949e-02],\n",
              "       [-4.62209582e-02],\n",
              "       [-4.43769097e-02],\n",
              "       [-4.25340533e-02],\n",
              "       [-4.06909585e-02],\n",
              "       [-3.88461947e-02],\n",
              "       [-3.69984508e-02],\n",
              "       [-3.51464152e-02],\n",
              "       [-3.32879424e-02],\n",
              "       [-3.14221978e-02],\n",
              "       [-2.95469165e-02],\n",
              "       [-2.76603103e-02],\n",
              "       [-2.57604718e-02],\n",
              "       [-2.38456130e-02],\n",
              "       [-2.19135880e-02],\n",
              "       [-1.99622512e-02],\n",
              "       [-1.79890990e-02],\n",
              "       [-1.59917474e-02],\n",
              "       [-1.39676929e-02],\n",
              "       [-1.19143128e-02],\n",
              "       [-9.82910395e-03],\n",
              "       [-7.70872831e-03],\n",
              "       [-5.54984808e-03],\n",
              "       [-3.35031748e-03],\n",
              "       [-1.10578537e-03],\n",
              "       [ 1.18654966e-03],\n",
              "       [ 3.53044271e-03],\n",
              "       [ 5.93024492e-03],\n",
              "       [ 8.38905573e-03],\n",
              "       [ 1.09116435e-02],\n",
              "       [ 1.35022402e-02],\n",
              "       [ 1.61649585e-02],\n",
              "       [ 1.89047456e-02],\n",
              "       [ 2.17266083e-02],\n",
              "       [ 2.46354342e-02],\n",
              "       [ 2.76365280e-02],\n",
              "       [ 3.07354331e-02],\n",
              "       [ 3.39379907e-02],\n",
              "       [ 3.72501016e-02],\n",
              "       [ 4.06777263e-02],\n",
              "       [ 4.42274809e-02],\n",
              "       [ 4.79061604e-02],\n",
              "       [ 5.17200828e-02],\n",
              "       [ 5.56771159e-02],\n",
              "       [ 5.97839952e-02],\n",
              "       [ 6.40492439e-02],\n",
              "       [ 6.84800744e-02],\n",
              "       [ 7.30848908e-02],\n",
              "       [ 7.78721571e-02],\n",
              "       [ 8.28508139e-02],\n",
              "       [ 8.80298615e-02],\n",
              "       [ 9.34184194e-02],\n",
              "       [ 9.90259051e-02],\n",
              "       [ 1.04862690e-01],\n",
              "       [ 1.10938549e-01],\n",
              "       [ 1.17264092e-01],\n",
              "       [ 1.23849690e-01],\n",
              "       [ 1.30706728e-01],\n",
              "       [ 1.37846470e-01],\n",
              "       [ 1.45279884e-01],\n",
              "       [ 1.53018773e-01],\n",
              "       [ 1.61075652e-01],\n",
              "       [ 1.69462144e-01],\n",
              "       [ 1.78190708e-01],\n",
              "       [ 1.87274218e-01],\n",
              "       [ 1.96724832e-01],\n",
              "       [ 2.06555963e-01],\n",
              "       [ 2.16780663e-01],\n",
              "       [ 2.27411985e-01],\n",
              "       [ 2.38462746e-01],\n",
              "       [ 2.49946654e-01],\n",
              "       [ 2.61876822e-01],\n",
              "       [ 2.74266660e-01],\n",
              "       [ 2.87129343e-01],\n",
              "       [ 3.00477922e-01],\n",
              "       [ 3.14325273e-01],\n",
              "       [ 3.28684270e-01],\n",
              "       [ 3.43567669e-01],\n",
              "       [ 3.58987153e-01],\n",
              "       [ 3.74955118e-01],\n",
              "       [ 3.91483009e-01],\n",
              "       [ 4.08581436e-01],\n",
              "       [ 4.26260889e-01],\n",
              "       [ 4.44531858e-01],\n",
              "       [ 4.63402450e-01],\n",
              "       [ 4.82881844e-01],\n",
              "       [ 5.02977312e-01],\n",
              "       [ 5.23695886e-01],\n",
              "       [ 5.45043051e-01],\n",
              "       [ 5.67023814e-01],\n",
              "       [ 5.89640558e-01],\n",
              "       [ 6.12897575e-01],\n",
              "       [ 6.36794508e-01],\n",
              "       [ 6.61330879e-01],\n",
              "       [ 6.86505854e-01],\n",
              "       [ 7.12315738e-01],\n",
              "       [ 7.38755882e-01],\n",
              "       [ 7.65820086e-01],\n",
              "       [ 7.93499649e-01],\n",
              "       [ 8.21785390e-01],\n",
              "       [ 8.50665152e-01],\n",
              "       [ 8.80126178e-01],\n",
              "       [ 9.10152614e-01],\n",
              "       [ 9.40727413e-01],\n",
              "       [ 9.71831977e-01],\n",
              "       [ 1.00344563e+00],\n",
              "       [ 1.03554440e+00],\n",
              "       [ 1.06810427e+00],\n",
              "       [ 1.10109878e+00],\n",
              "       [ 1.13449979e+00],\n",
              "       [ 1.16827679e+00],\n",
              "       [ 1.20239854e+00],\n",
              "       [ 1.23683119e+00],\n",
              "       [ 1.27154016e+00],\n",
              "       [ 1.30648947e+00],\n",
              "       [ 1.34164071e+00],\n",
              "       [ 1.37695551e+00],\n",
              "       [ 1.41239357e+00],\n",
              "       [ 1.44791389e+00],\n",
              "       [ 1.48347569e+00],\n",
              "       [ 1.51903534e+00],\n",
              "       [ 1.55455041e+00],\n",
              "       [ 1.58997726e+00],\n",
              "       [ 1.62527299e+00],\n",
              "       [ 1.66039371e+00],\n",
              "       [ 1.69529581e+00],\n",
              "       [ 1.72993636e+00],\n",
              "       [ 1.76427245e+00],\n",
              "       [ 1.79826212e+00],\n",
              "       [ 1.83186483e+00],\n",
              "       [ 1.86503887e+00],\n",
              "       [ 1.89774585e+00],\n",
              "       [ 1.92994738e+00],\n",
              "       [ 1.96160674e+00],\n",
              "       [ 1.99268842e+00],\n",
              "       [ 2.02315855e+00],\n",
              "       [ 2.05298543e+00],\n",
              "       [ 2.08213782e+00],\n",
              "       [ 2.11058855e+00],\n",
              "       [ 2.13830948e+00],\n",
              "       [ 2.16527605e+00],\n",
              "       [ 2.19146562e+00],\n",
              "       [ 2.21685696e+00],\n",
              "       [ 2.24143147e+00],\n",
              "       [ 2.26517200e+00],\n",
              "       [ 2.28806448e+00],\n",
              "       [ 2.31009483e+00],\n",
              "       [ 2.33125305e+00],\n",
              "       [ 2.35152960e+00],\n",
              "       [ 2.37091732e+00],\n",
              "       [ 2.38941145e+00],\n",
              "       [ 2.40700817e+00],\n",
              "       [ 2.42370510e+00],\n",
              "       [ 2.43950343e+00],\n",
              "       [ 2.45440340e+00],\n",
              "       [ 2.46840835e+00],\n",
              "       [ 2.48152280e+00],\n",
              "       [ 2.49375224e+00],\n",
              "       [ 2.50510406e+00],\n",
              "       [ 2.51558542e+00],\n",
              "       [ 2.52520728e+00],\n",
              "       [ 2.53397846e+00],\n",
              "       [ 2.54191136e+00],\n",
              "       [ 2.54901743e+00],\n",
              "       [ 2.55531001e+00],\n",
              "       [ 2.56080246e+00],\n",
              "       [ 2.56550932e+00],\n",
              "       [ 2.56944466e+00],\n",
              "       [ 2.57262540e+00],\n",
              "       [ 2.57506657e+00],\n",
              "       [ 2.57678390e+00],\n",
              "       [ 2.57779479e+00],\n",
              "       [ 2.57811546e+00],\n",
              "       [ 2.57776356e+00],\n",
              "       [ 2.57675600e+00],\n",
              "       [ 2.57510948e+00],\n",
              "       [ 2.57284260e+00],\n",
              "       [ 2.56997156e+00],\n",
              "       [ 2.56651521e+00],\n",
              "       [ 2.56249046e+00],\n",
              "       [ 2.55791378e+00],\n",
              "       [ 2.55280399e+00],\n",
              "       [ 2.54717731e+00],\n",
              "       [ 2.54105020e+00],\n",
              "       [ 2.53444147e+00],\n",
              "       [ 2.52736664e+00],\n",
              "       [ 2.51984191e+00],\n",
              "       [ 2.51188469e+00],\n",
              "       [ 2.50351000e+00],\n",
              "       [ 2.49473429e+00],\n",
              "       [ 2.48557281e+00],\n",
              "       [ 2.47604251e+00],\n",
              "       [ 2.46615648e+00],\n",
              "       [ 2.45593071e+00],\n",
              "       [ 2.44537926e+00],\n",
              "       [ 2.43451762e+00],\n",
              "       [ 2.42335868e+00],\n",
              "       [ 2.41191697e+00],\n",
              "       [ 2.40020585e+00],\n",
              "       [ 2.38823843e+00],\n",
              "       [ 2.37602782e+00],\n",
              "       [ 2.36358666e+00],\n",
              "       [ 2.35092807e+00],\n",
              "       [ 2.33806300e+00],\n",
              "       [ 2.32500458e+00],\n",
              "       [ 2.31176329e+00],\n",
              "       [ 2.29835153e+00],\n",
              "       [ 2.28478003e+00],\n",
              "       [ 2.27105975e+00],\n",
              "       [ 2.25720119e+00],\n",
              "       [ 2.24321485e+00],\n",
              "       [ 2.22911072e+00],\n",
              "       [ 2.21489811e+00],\n",
              "       [ 2.20058727e+00],\n",
              "       [ 2.18618774e+00],\n",
              "       [ 2.17170787e+00],\n",
              "       [ 2.15715694e+00],\n",
              "       [ 2.14254379e+00],\n",
              "       [ 2.12787676e+00],\n",
              "       [ 2.11316347e+00],\n",
              "       [ 2.09841228e+00],\n",
              "       [ 2.08363104e+00],\n",
              "       [ 2.06882668e+00],\n",
              "       [ 2.05400729e+00],\n",
              "       [ 2.03917933e+00],\n",
              "       [ 2.02435017e+00],\n",
              "       [ 2.00952625e+00],\n",
              "       [ 1.99471378e+00],\n",
              "       [ 1.97991920e+00],\n",
              "       [ 1.96514893e+00],\n",
              "       [ 1.95040751e+00],\n",
              "       [ 1.93570232e+00],\n",
              "       [ 1.92103815e+00],\n",
              "       [ 1.90641928e+00],\n",
              "       [ 1.89185286e+00],\n",
              "       [ 1.87734175e+00],\n",
              "       [ 1.86289167e+00],\n",
              "       [ 1.84850717e+00],\n",
              "       [ 1.83419228e+00],\n",
              "       [ 1.81995177e+00],\n",
              "       [ 1.80578899e+00],\n",
              "       [ 1.79170847e+00],\n",
              "       [ 1.77771330e+00],\n",
              "       [ 1.76380706e+00],\n",
              "       [ 1.74999404e+00],\n",
              "       [ 1.73627615e+00],\n",
              "       [ 1.72265768e+00],\n",
              "       [ 1.70914030e+00],\n",
              "       [ 1.69572759e+00],\n",
              "       [ 1.68242216e+00],\n",
              "       [ 1.66922617e+00],\n",
              "       [ 1.65614247e+00],\n",
              "       [ 1.64317274e+00],\n",
              "       [ 1.63031912e+00],\n",
              "       [ 1.61758423e+00],\n",
              "       [ 1.60496831e+00],\n",
              "       [ 1.59247446e+00],\n",
              "       [ 1.58010411e+00],\n",
              "       [ 1.56785870e+00],\n",
              "       [ 1.55573893e+00],\n",
              "       [ 1.54374647e+00],\n",
              "       [ 1.53188205e+00],\n",
              "       [ 1.52014732e+00],\n",
              "       [ 1.50854254e+00],\n",
              "       [ 1.49706936e+00],\n",
              "       [ 1.48572731e+00],\n",
              "       [ 1.47451735e+00],\n",
              "       [ 1.46344090e+00],\n",
              "       [ 1.45249748e+00],\n",
              "       [ 1.44168711e+00],\n",
              "       [ 1.43101120e+00],\n",
              "       [ 1.42046928e+00],\n",
              "       [ 1.41006088e+00],\n",
              "       [ 1.39978647e+00],\n",
              "       [ 1.38964653e+00],\n",
              "       [ 1.37963963e+00],\n",
              "       [ 1.36976671e+00],\n",
              "       [ 1.36002684e+00],\n",
              "       [ 1.35042024e+00],\n",
              "       [ 1.34094620e+00],\n",
              "       [ 1.33160400e+00],\n",
              "       [ 1.32239342e+00],\n",
              "       [ 1.31331396e+00],\n",
              "       [ 1.30436468e+00],\n",
              "       [ 1.29554510e+00],\n",
              "       [ 1.28685474e+00],\n",
              "       [ 1.27829266e+00],\n",
              "       [ 1.26985765e+00],\n",
              "       [ 1.26154900e+00],\n",
              "       [ 1.25336623e+00],\n",
              "       [ 1.24530840e+00],\n",
              "       [ 1.23737407e+00],\n",
              "       [ 1.22956276e+00],\n",
              "       [ 1.22187304e+00],\n",
              "       [ 1.21430445e+00],\n",
              "       [ 1.20685506e+00],\n",
              "       [ 1.19952488e+00],\n",
              "       [ 1.19231105e+00],\n",
              "       [ 1.18521452e+00],\n",
              "       [ 1.17823291e+00],\n",
              "       [ 1.17136526e+00],\n",
              "       [ 1.16461039e+00],\n",
              "       [ 1.15796709e+00],\n",
              "       [ 1.15143418e+00],\n",
              "       [ 1.14501023e+00],\n",
              "       [ 1.13869452e+00],\n",
              "       [ 1.13248491e+00],\n",
              "       [ 1.12638116e+00],\n",
              "       [ 1.12038136e+00],\n",
              "       [ 1.11448455e+00],\n",
              "       [ 1.10868907e+00],\n",
              "       [ 1.10299373e+00],\n",
              "       [ 1.09739780e+00],\n",
              "       [ 1.09189916e+00],\n",
              "       [ 1.08649683e+00],\n",
              "       [ 1.08118987e+00],\n",
              "       [ 1.07597685e+00],\n",
              "       [ 1.07085633e+00],\n",
              "       [ 1.06582689e+00],\n",
              "       [ 1.06088734e+00],\n",
              "       [ 1.05603695e+00],\n",
              "       [ 1.05127358e+00],\n",
              "       [ 1.04659629e+00],\n",
              "       [ 1.04200387e+00],\n",
              "       [ 1.03749514e+00],\n",
              "       [ 1.03306913e+00],\n",
              "       [ 1.02872396e+00],\n",
              "       [ 1.02445889e+00],\n",
              "       [ 1.02027225e+00],\n",
              "       [ 1.01616335e+00],\n",
              "       [ 1.01213074e+00],\n",
              "       [ 1.00817299e+00],\n",
              "       [ 1.00428891e+00],\n",
              "       [ 1.00047827e+00],\n",
              "       [ 9.96738136e-01],\n",
              "       [ 9.93069112e-01],\n",
              "       [ 9.89469230e-01],\n",
              "       [ 9.85937059e-01],\n",
              "       [ 9.82472360e-01],\n",
              "       [ 9.79073465e-01],\n",
              "       [ 9.75739181e-01],\n",
              "       [ 9.72468555e-01],\n",
              "       [ 9.69260633e-01],\n",
              "       [ 9.66114461e-01],\n",
              "       [ 9.63028371e-01],\n",
              "       [ 9.60001528e-01],\n",
              "       [ 9.57033813e-01],\n",
              "       [ 9.54123318e-01],\n",
              "       [ 9.51269090e-01],\n",
              "       [ 9.48470294e-01],\n",
              "       [ 9.45726097e-01],\n",
              "       [ 9.43035662e-01],\n",
              "       [ 9.40397203e-01],\n",
              "       [ 9.37810838e-01],\n",
              "       [ 9.35274780e-01],\n",
              "       [ 9.32788789e-01],\n",
              "       [ 9.30351794e-01],\n",
              "       [ 9.27962840e-01],\n",
              "       [ 9.25620615e-01],\n",
              "       [ 9.23324764e-01],\n",
              "       [ 9.21074927e-01],\n",
              "       [ 9.18869436e-01],\n",
              "       [ 9.16707218e-01],\n",
              "       [ 9.14588511e-01],\n",
              "       [ 9.12511766e-01],\n",
              "       [ 9.10476863e-01],\n",
              "       [ 9.08482134e-01],\n",
              "       [ 9.06527460e-01],\n",
              "       [ 9.04612243e-01],\n",
              "       [ 9.02734935e-01],\n",
              "       [ 9.00895655e-01],\n",
              "       [ 8.99093330e-01],\n",
              "       [ 8.97326887e-01],\n",
              "       [ 8.95596683e-01],\n",
              "       [ 8.93900573e-01],\n",
              "       [ 8.92239511e-01],\n",
              "       [ 8.90612304e-01],\n",
              "       [ 8.89017045e-01],\n",
              "       [ 8.87454450e-01],\n",
              "       [ 8.85923564e-01],\n",
              "       [ 8.84423912e-01],\n",
              "       [ 8.82955015e-01],\n",
              "       [ 8.81515443e-01],\n",
              "       [ 8.80105436e-01],\n",
              "       [ 8.78724277e-01],\n",
              "       [ 8.77371252e-01],\n",
              "       [ 8.76045763e-01],\n",
              "       [ 8.74747932e-01],\n",
              "       [ 8.73475969e-01],\n",
              "       [ 8.72230470e-01],\n",
              "       [ 8.71010482e-01],\n",
              "       [ 8.69815767e-01],\n",
              "       [ 8.68645132e-01],\n",
              "       [ 8.67498934e-01],\n",
              "       [ 8.66376102e-01],\n",
              "       [ 8.65276515e-01],\n",
              "       [ 8.64199460e-01],\n",
              "       [ 8.63145292e-01],\n",
              "       [ 8.62111747e-01],\n",
              "       [ 8.61100495e-01],\n",
              "       [ 8.60109746e-01],\n",
              "       [ 8.59139860e-01],\n",
              "       [ 8.58190119e-01],\n",
              "       [ 8.57259691e-01],\n",
              "       [ 8.56348932e-01],\n",
              "       [ 8.55456412e-01],\n",
              "       [ 8.54582965e-01],\n",
              "       [ 8.53727639e-01],\n",
              "       [ 8.52890670e-01],\n",
              "       [ 8.52070272e-01],\n",
              "       [ 8.51267278e-01],\n",
              "       [ 8.50481212e-01],\n",
              "       [ 8.49711359e-01],\n",
              "       [ 8.48957717e-01],\n",
              "       [ 8.48220050e-01],\n",
              "       [ 8.47497642e-01],\n",
              "       [ 8.46790016e-01],\n",
              "       [ 8.46097648e-01],\n",
              "       [ 8.45419824e-01],\n",
              "       [ 8.44755590e-01],\n",
              "       [ 8.44105899e-01],\n",
              "       [ 8.43469560e-01]], dtype=float32)"
            ]
          },
          "metadata": {
            "tags": []
          },
          "execution_count": 284
        }
      ]
    },
    {
      "cell_type": "code",
      "metadata": {
        "ExecuteTime": {
          "end_time": "2021-04-04T17:10:38.891489Z",
          "start_time": "2021-04-04T17:10:38.888497Z"
        },
        "id": "lMPfGao_paL3"
      },
      "source": [
        "w0 = model.linear1.weight"
      ],
      "execution_count": null,
      "outputs": []
    },
    {
      "cell_type": "code",
      "metadata": {
        "ExecuteTime": {
          "end_time": "2021-04-04T17:15:48.935027Z",
          "start_time": "2021-04-04T17:15:48.927048Z"
        },
        "id": "9StiQ8i0paL4",
        "outputId": "1d41ee56-a2c8-4d52-fba9-f4076477d66a"
      },
      "source": [
        "model.linear2.weight"
      ],
      "execution_count": null,
      "outputs": [
        {
          "output_type": "execute_result",
          "data": {
            "text/plain": [
              "Parameter containing:\n",
              "tensor([[ 0.3739, -0.0610,  1.7397, -1.0040, -0.6279, -0.8524,  1.4591, -0.8242,\n",
              "         -0.9413,  1.0333]], device='cuda:0', requires_grad=True)"
            ]
          },
          "metadata": {
            "tags": []
          },
          "execution_count": 279
        }
      ]
    }
  ]
}